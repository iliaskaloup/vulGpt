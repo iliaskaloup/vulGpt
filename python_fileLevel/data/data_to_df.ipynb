{
 "cells": [
  {
   "cell_type": "code",
   "execution_count": 10,
   "id": "d1adbeb5-7237-4740-9190-92d8bb4671a8",
   "metadata": {},
   "outputs": [],
   "source": [
    "import os, json\n",
    "import numpy as np\n",
    "import pandas as pd\n",
    "import csv"
   ]
  },
  {
   "cell_type": "code",
   "execution_count": 46,
   "id": "732af699-56a1-45ed-91aa-6adaa21c77af",
   "metadata": {},
   "outputs": [],
   "source": [
    "def dropEmpty(tokens0):\n",
    "    tokens = []\n",
    "    for i in range(0, len(tokens0)):\n",
    "        temp = tokens0[i]\n",
    "        if temp != []:\n",
    "            tokens.append(temp)\n",
    "    return tokens"
   ]
  },
  {
   "cell_type": "code",
   "execution_count": 47,
   "id": "62ba6f4d-be75-4235-93ee-79fad83eb55e",
   "metadata": {},
   "outputs": [],
   "source": [
    "with open('py_data.csv', newline='', encoding='utf-8') as f:\n",
    "    reader = csv.reader(f)\n",
    "    data = list(reader)\n",
    "data = dropEmpty(data)"
   ]
  },
  {
   "cell_type": "code",
   "execution_count": 49,
   "id": "bc1b1823-eeed-482d-a05d-37d5faf3301b",
   "metadata": {},
   "outputs": [],
   "source": [
    "for i in range(len(data)):\n",
    "    data[i][2:] = [\" \".join(data[i][2:])]"
   ]
  },
  {
   "cell_type": "code",
   "execution_count": 50,
   "id": "07529b18-1964-4859-86fc-c2db29eb6612",
   "metadata": {},
   "outputs": [
    {
     "data": {
      "text/html": [
       "<div>\n",
       "<style scoped>\n",
       "    .dataframe tbody tr th:only-of-type {\n",
       "        vertical-align: middle;\n",
       "    }\n",
       "\n",
       "    .dataframe tbody tr th {\n",
       "        vertical-align: top;\n",
       "    }\n",
       "\n",
       "    .dataframe thead th {\n",
       "        text-align: right;\n",
       "    }\n",
       "</style>\n",
       "<table border=\"1\" class=\"dataframe\">\n",
       "  <thead>\n",
       "    <tr style=\"text-align: right;\">\n",
       "      <th></th>\n",
       "      <th>filename</th>\n",
       "      <th>vul</th>\n",
       "      <th>func</th>\n",
       "    </tr>\n",
       "  </thead>\n",
       "  <tbody>\n",
       "    <tr>\n",
       "      <th>0</th>\n",
       "      <td>0001_initial.py</td>\n",
       "      <td>0</td>\n",
       "      <td>class Migration migrations Migration initial T...</td>\n",
       "    </tr>\n",
       "    <tr>\n",
       "      <th>1</th>\n",
       "      <td>0001_not_initial.py</td>\n",
       "      <td>0</td>\n",
       "      <td>class Migration migrations Migration initial F...</td>\n",
       "    </tr>\n",
       "    <tr>\n",
       "      <th>2</th>\n",
       "      <td>0001_setup_extensions.py</td>\n",
       "      <td>0</td>\n",
       "      <td>try except ImportError mock Mock mock Mock moc...</td>\n",
       "    </tr>\n",
       "    <tr>\n",
       "      <th>3</th>\n",
       "      <td>0002_a2.py</td>\n",
       "      <td>0</td>\n",
       "      <td>class Migration migrations Migration dependenc...</td>\n",
       "    </tr>\n",
       "    <tr>\n",
       "      <th>4</th>\n",
       "      <td>0002_add-webhook.py</td>\n",
       "      <td>0</td>\n",
       "      <td>class Migration migrations Migration dependenc...</td>\n",
       "    </tr>\n",
       "  </tbody>\n",
       "</table>\n",
       "</div>"
      ],
      "text/plain": [
       "                   filename vul  \\\n",
       "0           0001_initial.py   0   \n",
       "1       0001_not_initial.py   0   \n",
       "2  0001_setup_extensions.py   0   \n",
       "3                0002_a2.py   0   \n",
       "4       0002_add-webhook.py   0   \n",
       "\n",
       "                                                func  \n",
       "0  class Migration migrations Migration initial T...  \n",
       "1  class Migration migrations Migration initial F...  \n",
       "2  try except ImportError mock Mock mock Mock moc...  \n",
       "3  class Migration migrations Migration dependenc...  \n",
       "4  class Migration migrations Migration dependenc...  "
      ]
     },
     "execution_count": 50,
     "metadata": {},
     "output_type": "execute_result"
    }
   ],
   "source": [
    "df = pd.DataFrame(data, columns=[\"filename\", \"vul\", \"func\"])\n",
    "df.head()"
   ]
  },
  {
   "cell_type": "code",
   "execution_count": 51,
   "id": "25df5377-b8a3-4880-b456-daba09f3c247",
   "metadata": {},
   "outputs": [],
   "source": [
    "df.to_csv(\"dataset.csv\", index=False)"
   ]
  },
  {
   "cell_type": "code",
   "execution_count": null,
   "id": "3ee4adca-867a-4680-84d0-2177a98edf69",
   "metadata": {},
   "outputs": [],
   "source": []
  }
 ],
 "metadata": {
  "kernelspec": {
   "display_name": "Python 3 (ipykernel)",
   "language": "python",
   "name": "python3"
  },
  "language_info": {
   "codemirror_mode": {
    "name": "ipython",
    "version": 3
   },
   "file_extension": ".py",
   "mimetype": "text/x-python",
   "name": "python",
   "nbconvert_exporter": "python",
   "pygments_lexer": "ipython3",
   "version": "3.9.19"
  }
 },
 "nbformat": 4,
 "nbformat_minor": 5
}
