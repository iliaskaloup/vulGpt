{
 "cells": [
  {
   "cell_type": "markdown",
   "id": "007b5205",
   "metadata": {},
   "source": [
    "Import libraries"
   ]
  },
  {
   "cell_type": "code",
   "execution_count": 28,
   "id": "c52dd00a",
   "metadata": {},
   "outputs": [],
   "source": [
    "import seaborn as sn\n",
    "import pandas as pd\n",
    "import json, os, io\n",
    "import numpy as np\n",
    "import csv\n",
    "import matplotlib.pyplot as plt\n",
    "import random\n",
    "from collections import OrderedDict\n",
    "import time\n",
    "import random\n",
    "from collections import defaultdict\n",
    "\n",
    "from sklearn.metrics import accuracy_score, recall_score, f1_score, precision_score, \\\n",
    "roc_auc_score, confusion_matrix, classification_report\n",
    "from sklearn.model_selection import StratifiedKFold\n",
    "from sklearn.model_selection import train_test_split\n",
    "\n",
    "from gensim.models import Word2Vec\n",
    "from gensim.models import FastText\n",
    "\n",
    "import tensorflow as tf\n",
    "from tensorflow.keras.preprocessing.text import Tokenizer\n",
    "from tensorflow.keras.preprocessing.sequence import pad_sequences\n",
    "from tensorflow.keras.models import Sequential\n",
    "from tensorflow.keras.layers import Dense, Activation, Dropout\n",
    "\n",
    "from tensorflow.keras import regularizers\n",
    "from tensorflow.keras import layers\n",
    "from tensorflow.keras.layers import LSTM, SimpleRNN\n",
    "from tensorflow.keras.layers import GRU\n",
    "from tensorflow.keras.layers import Masking\n",
    "from tensorflow.keras.layers import Embedding, MaxPool1D\n",
    "from tensorflow.keras.callbacks import CSVLogger\n",
    "from tensorflow.keras.callbacks import EarlyStopping, ModelCheckpoint\n",
    "from tensorflow.keras.models import load_model\n",
    "from tensorflow.keras import optimizers\n",
    "from tensorflow.keras.constraints import max_norm\n",
    "from tensorflow.keras.layers import Bidirectional, BatchNormalization\n",
    "from tensorflow.keras.layers import LeakyReLU\n",
    "from tensorflow.keras.initializers import glorot_uniform, RandomUniform, lecun_uniform, Constant\n",
    "from collections import OrderedDict\n",
    "from tensorflow.keras.layers import Conv1D\n",
    "from tensorflow.keras.layers import MaxPooling1D, GlobalMaxPool1D\n",
    "import tensorflow.keras.backend as K\n",
    "\n",
    "from tensorflow.keras.optimizers import Adam\n",
    "from tensorflow.keras.initializers import TruncatedNormal\n",
    "from tensorflow.keras.losses import CategoricalCrossentropy\n",
    "from tensorflow.keras.metrics import CategoricalAccuracy\n",
    "from tensorflow.keras.utils import to_categorical\n",
    "from tensorflow.keras.layers import Input, Dense, GlobalMaxPool1D\n",
    "from keras_preprocessing.text import tokenizer_from_json\n"
   ]
  },
  {
   "cell_type": "markdown",
   "id": "a0f55447",
   "metadata": {},
   "source": [
    "Specify a constant seeder for processes"
   ]
  },
  {
   "cell_type": "code",
   "execution_count": 2,
   "id": "5bbb1556",
   "metadata": {},
   "outputs": [],
   "source": [
    "seed = 123\n",
    "np.random.seed(seed)\n",
    "random.seed(seed)\n",
    "tf.random.set_seed(seed)"
   ]
  },
  {
   "cell_type": "markdown",
   "id": "88221c5a",
   "metadata": {},
   "source": [
    "Read dataset"
   ]
  },
  {
   "cell_type": "code",
   "execution_count": 3,
   "id": "c6af2cc0",
   "metadata": {},
   "outputs": [],
   "source": [
    "root_path = os.path.join('..', '..', '..')\n",
    "method = \"staticEmbedding\""
   ]
  },
  {
   "cell_type": "code",
   "execution_count": 4,
   "id": "67dee9e9-db75-42e7-94ee-493f8b04a315",
   "metadata": {},
   "outputs": [
    {
     "name": "stdout",
     "output_type": "stream",
     "text": [
      "                                            filename  vul  \\\n",
      "0                                          uspses.py    0   \n",
      "1                  _src_modules_json_schemas_2564.py    1   \n",
      "2                                   cs_zone_facts.py    0   \n",
      "3  _invenio_modules_oauthclient_views_client_2636.py    1   \n",
      "4                                   test_builtins.py    0   \n",
      "\n",
      "                                                func  \n",
      "0  strId$ Copyright c numId$ numId$ sqlmap develo...  \n",
      "1  strId$ strId$ strId$ strId$ strId$ strId$ strI...  \n",
      "2  ANSIBLE_METADATA strId$ strId$ strId$ strId$ s...  \n",
      "3  strId$ strId$ strId$ make_handler disconnect_h...  \n",
      "4  class SimpleTestCase @setup strId$ strId$ def ...  \n"
     ]
    }
   ],
   "source": [
    "data = pd.read_csv(os.path.join(root_path, 'data', 'dataset.csv'))\n",
    "data = data.sample(frac=1, random_state=seed).reset_index(drop=True)\n",
    "print(data.head())"
   ]
  },
  {
   "cell_type": "markdown",
   "id": "4e09f413",
   "metadata": {},
   "source": [
    "Explore data"
   ]
  },
  {
   "cell_type": "code",
   "execution_count": 5,
   "id": "89153438-84de-4ea5-98d5-330e723e36a7",
   "metadata": {},
   "outputs": [],
   "source": [
    "data = data.dropna(subset=[\"func\"])"
   ]
  },
  {
   "cell_type": "code",
   "execution_count": 6,
   "id": "479d07b5",
   "metadata": {},
   "outputs": [
    {
     "name": "stdout",
     "output_type": "stream",
     "text": [
      "Maximum number of words: 510\n"
     ]
    }
   ],
   "source": [
    "word_counts = data[\"func\"].apply(lambda x: len(x.split()))\n",
    "max_length = word_counts.max()\n",
    "print(\"Maximum number of words:\", max_length)"
   ]
  },
  {
   "cell_type": "code",
   "execution_count": 7,
   "id": "e70f0ce7-1714-4d89-8dc8-36f78865f76a",
   "metadata": {},
   "outputs": [
    {
     "name": "stdout",
     "output_type": "stream",
     "text": [
      "vul\n",
      "0    3168\n",
      "1     997\n",
      "Name: count, dtype: int64\n",
      "Percentage:  31.470959595959595 %\n",
      "2\n"
     ]
    }
   ],
   "source": [
    "vc = data[\"vul\"].value_counts()\n",
    "\n",
    "print(vc)\n",
    "\n",
    "print(\"Percentage: \", (vc[1] / vc[0])*100, '%')\n",
    "\n",
    "n_categories = len(vc)\n",
    "print(n_categories)"
   ]
  },
  {
   "cell_type": "code",
   "execution_count": 8,
   "id": "9ab7af89",
   "metadata": {},
   "outputs": [
    {
     "data": {
      "text/html": [
       "<div>\n",
       "<style scoped>\n",
       "    .dataframe tbody tr th:only-of-type {\n",
       "        vertical-align: middle;\n",
       "    }\n",
       "\n",
       "    .dataframe tbody tr th {\n",
       "        vertical-align: top;\n",
       "    }\n",
       "\n",
       "    .dataframe thead th {\n",
       "        text-align: right;\n",
       "    }\n",
       "</style>\n",
       "<table border=\"1\" class=\"dataframe\">\n",
       "  <thead>\n",
       "    <tr style=\"text-align: right;\">\n",
       "      <th></th>\n",
       "      <th>text</th>\n",
       "      <th>label</th>\n",
       "    </tr>\n",
       "  </thead>\n",
       "  <tbody>\n",
       "    <tr>\n",
       "      <th>0</th>\n",
       "      <td>strId$ Copyright c numId$ numId$ sqlmap develo...</td>\n",
       "      <td>0</td>\n",
       "    </tr>\n",
       "    <tr>\n",
       "      <th>1</th>\n",
       "      <td>strId$ strId$ strId$ strId$ strId$ strId$ strI...</td>\n",
       "      <td>1</td>\n",
       "    </tr>\n",
       "    <tr>\n",
       "      <th>2</th>\n",
       "      <td>ANSIBLE_METADATA strId$ strId$ strId$ strId$ s...</td>\n",
       "      <td>0</td>\n",
       "    </tr>\n",
       "    <tr>\n",
       "      <th>3</th>\n",
       "      <td>strId$ strId$ strId$ make_handler disconnect_h...</td>\n",
       "      <td>1</td>\n",
       "    </tr>\n",
       "    <tr>\n",
       "      <th>4</th>\n",
       "      <td>class SimpleTestCase @setup strId$ strId$ def ...</td>\n",
       "      <td>0</td>\n",
       "    </tr>\n",
       "  </tbody>\n",
       "</table>\n",
       "</div>"
      ],
      "text/plain": [
       "                                                text  label\n",
       "0  strId$ Copyright c numId$ numId$ sqlmap develo...      0\n",
       "1  strId$ strId$ strId$ strId$ strId$ strId$ strI...      1\n",
       "2  ANSIBLE_METADATA strId$ strId$ strId$ strId$ s...      0\n",
       "3  strId$ strId$ strId$ make_handler disconnect_h...      1\n",
       "4  class SimpleTestCase @setup strId$ strId$ def ...      0"
      ]
     },
     "execution_count": 8,
     "metadata": {},
     "output_type": "execute_result"
    }
   ],
   "source": [
    "data = pd.DataFrame(({'text': data['func'], 'label': data['vul']}))\n",
    "#data = data[0:100]\n",
    "data.head()"
   ]
  },
  {
   "cell_type": "markdown",
   "id": "8c17e94d-d33a-4580-82f5-82694cdf418f",
   "metadata": {},
   "source": [
    "Create word embedding vectors"
   ]
  },
  {
   "cell_type": "code",
   "execution_count": 9,
   "id": "b4ba78a0-056d-4cb8-9579-ccdc9cd07b5d",
   "metadata": {},
   "outputs": [
    {
     "data": {
      "text/html": [
       "<div>\n",
       "<style scoped>\n",
       "    .dataframe tbody tr th:only-of-type {\n",
       "        vertical-align: middle;\n",
       "    }\n",
       "\n",
       "    .dataframe tbody tr th {\n",
       "        vertical-align: top;\n",
       "    }\n",
       "\n",
       "    .dataframe thead th {\n",
       "        text-align: right;\n",
       "    }\n",
       "</style>\n",
       "<table border=\"1\" class=\"dataframe\">\n",
       "  <thead>\n",
       "    <tr style=\"text-align: right;\">\n",
       "      <th></th>\n",
       "      <th>text</th>\n",
       "      <th>label</th>\n",
       "      <th>Tokens</th>\n",
       "    </tr>\n",
       "  </thead>\n",
       "  <tbody>\n",
       "    <tr>\n",
       "      <th>0</th>\n",
       "      <td>strId$ Copyright c numId$ numId$ sqlmap develo...</td>\n",
       "      <td>0</td>\n",
       "      <td>[strId$, Copyright, c, numId$, numId$, sqlmap,...</td>\n",
       "    </tr>\n",
       "    <tr>\n",
       "      <th>1</th>\n",
       "      <td>strId$ strId$ strId$ strId$ strId$ strId$ strI...</td>\n",
       "      <td>1</td>\n",
       "      <td>[strId$, strId$, strId$, strId$, strId$, strId...</td>\n",
       "    </tr>\n",
       "    <tr>\n",
       "      <th>2</th>\n",
       "      <td>ANSIBLE_METADATA strId$ strId$ strId$ strId$ s...</td>\n",
       "      <td>0</td>\n",
       "      <td>[ANSIBLE_METADATA, strId$, strId$, strId$, str...</td>\n",
       "    </tr>\n",
       "    <tr>\n",
       "      <th>3</th>\n",
       "      <td>strId$ strId$ strId$ make_handler disconnect_h...</td>\n",
       "      <td>1</td>\n",
       "      <td>[strId$, strId$, strId$, make_handler, disconn...</td>\n",
       "    </tr>\n",
       "    <tr>\n",
       "      <th>4</th>\n",
       "      <td>class SimpleTestCase @setup strId$ strId$ def ...</td>\n",
       "      <td>0</td>\n",
       "      <td>[class, SimpleTestCase, @setup, strId$, strId$...</td>\n",
       "    </tr>\n",
       "  </tbody>\n",
       "</table>\n",
       "</div>"
      ],
      "text/plain": [
       "                                                text  label  \\\n",
       "0  strId$ Copyright c numId$ numId$ sqlmap develo...      0   \n",
       "1  strId$ strId$ strId$ strId$ strId$ strId$ strI...      1   \n",
       "2  ANSIBLE_METADATA strId$ strId$ strId$ strId$ s...      0   \n",
       "3  strId$ strId$ strId$ make_handler disconnect_h...      1   \n",
       "4  class SimpleTestCase @setup strId$ strId$ def ...      0   \n",
       "\n",
       "                                              Tokens  \n",
       "0  [strId$, Copyright, c, numId$, numId$, sqlmap,...  \n",
       "1  [strId$, strId$, strId$, strId$, strId$, strId...  \n",
       "2  [ANSIBLE_METADATA, strId$, strId$, strId$, str...  \n",
       "3  [strId$, strId$, strId$, make_handler, disconn...  \n",
       "4  [class, SimpleTestCase, @setup, strId$, strId$...  "
      ]
     },
     "execution_count": 9,
     "metadata": {},
     "output_type": "execute_result"
    }
   ],
   "source": [
    "def stringToList(string):\n",
    "    codeLinesList = []\n",
    "    for line in string.split():\n",
    "        codeLinesList.append(line)\n",
    "    return codeLinesList\n",
    "\n",
    "allTokens = []\n",
    "for seq in data[\"text\"]:\n",
    "    listSeq = stringToList(seq)\n",
    "    allTokens.append(listSeq)\n",
    "\n",
    "data[\"Tokens\"] = allTokens\n",
    "data.head()\n",
    "#data[\"Tokens\"][0]"
   ]
  },
  {
   "cell_type": "code",
   "execution_count": 10,
   "id": "a8bde0a7-992d-4c62-a05b-7cf3894d782a",
   "metadata": {},
   "outputs": [],
   "source": [
    "# word embedding \n",
    "embeddings_index = {}\n",
    "f = open('w2v_embeddings.txt', encoding=\"utf-8\")\n",
    "for line in f:    \n",
    "    values = line.split()\n",
    "    word = values[0]\n",
    "    coefs = np.asarray(values[1:])\n",
    "    embeddings_index[word] = coefs   \n",
    "f.close() \n",
    "\n",
    "dim = 200"
   ]
  },
  {
   "cell_type": "code",
   "execution_count": 11,
   "id": "788c002f-2ba3-42da-831d-bfe27fbd53eb",
   "metadata": {},
   "outputs": [],
   "source": [
    "tokenizer_obj = Tokenizer()   \n",
    "tokenizer_obj.fit_on_texts(data[\"Tokens\"])\n",
    "\n",
    "tokenizer_json = tokenizer_obj.to_json()\n",
    "tokenizerFile = 'w2v_tokenizer.json'\n",
    "\n",
    "with io.open(tokenizerFile, 'w', encoding='utf-8') as f:\n",
    "    f.write(json.dumps(tokenizer_json, ensure_ascii=False))\n",
    "\n",
    "with open(tokenizerFile) as f:\n",
    "    dataTokenizer = json.load(f)\n",
    "    tokenizer_obj = tokenizer_from_json(dataTokenizer)\n",
    "\n",
    "sequences = tokenizer_obj.texts_to_sequences(data[\"Tokens\"])\n",
    "word_index = tokenizer_obj.word_index\n",
    "\n",
    "lines_pad = pad_sequences(sequences, padding = 'post', maxlen = max_length)\n",
    "\n",
    "num_words = len(word_index) + 1 # +1 for the unknown-zeros\n",
    "\n",
    "embedding_matrix = np.zeros((num_words, dim))\n",
    "for word, i in word_index.items():\n",
    "    if i > num_words:\n",
    "        continue\n",
    "    embedding_vector = embeddings_index.get(word)\n",
    "    if embedding_vector is not None:\n",
    "        embedding_matrix[i] = embedding_vector"
   ]
  },
  {
   "cell_type": "markdown",
   "id": "50b6f1bb",
   "metadata": {},
   "source": [
    "Split to train-val-test"
   ]
  },
  {
   "cell_type": "code",
   "execution_count": 12,
   "id": "68f3b8ae",
   "metadata": {},
   "outputs": [],
   "source": [
    "val_ratio = 0.10"
   ]
  },
  {
   "cell_type": "code",
   "execution_count": 13,
   "id": "967aa7ac-c6af-4ae0-8f68-6bd53c888c7b",
   "metadata": {},
   "outputs": [],
   "source": [
    "shuffle_seeders = [seed, 10, 15, 20, 25, 30, 35, 40, 45, 50]\n",
    "shuffle_seeder = shuffle_seeders[0]"
   ]
  },
  {
   "cell_type": "code",
   "execution_count": 14,
   "id": "2b54033e",
   "metadata": {},
   "outputs": [],
   "source": [
    "train_val_x, test_x, train_val_y, test_y = train_test_split(lines_pad, data['label'], test_size=val_ratio, random_state=shuffle_seeder, stratify=data['label'])\n",
    "train_x, val_x, train_y, val_y = train_test_split(train_val_x, train_val_y, test_size=val_ratio, random_state=shuffle_seeder, stratify=train_val_y)\n",
    "# print(len(data))\n",
    "# print(len(train_val_data))\n",
    "# print(len(test_data))\n",
    "# print(len(train_data))\n",
    "# print(len(val_data))\n",
    "# print(len(val_data)+len(train_data)+len(test_data))\n",
    "# print(len(val_data)+len(train_data))"
   ]
  },
  {
   "cell_type": "code",
   "execution_count": 15,
   "id": "c93ea56e-8a53-40f7-96c5-96ef1421cc61",
   "metadata": {},
   "outputs": [],
   "source": [
    "# rename\n",
    "x_train = train_x\n",
    "x_val = val_x\n",
    "x_test = test_x"
   ]
  },
  {
   "cell_type": "code",
   "execution_count": 16,
   "id": "e1877644",
   "metadata": {},
   "outputs": [],
   "source": [
    "y_train = np.array(train_y)\n",
    "y_val = np.array(val_y)\n",
    "y_test = np.array(test_y)"
   ]
  },
  {
   "cell_type": "markdown",
   "id": "5fc7a662-c72d-4107-8858-a2294da5fb8d",
   "metadata": {},
   "source": [
    "Deep Learning Models"
   ]
  },
  {
   "cell_type": "code",
   "execution_count": 17,
   "id": "f1613b2a-b8d3-44d5-af45-eced7f1a5e3b",
   "metadata": {},
   "outputs": [],
   "source": [
    "# Evaluation functions\n",
    "def recall_metric(y_true, y_pred):\n",
    "        true_positives = K.sum(K.round(K.clip(y_true * y_pred, 0, 1)))\n",
    "        possible_positives = K.sum(K.round(K.clip(y_true, 0, 1)))\n",
    "        recall = (true_positives + K.epsilon()) / (possible_positives + K.epsilon())\n",
    "        return recall\n",
    "\n",
    "def precision_metric(y_true, y_pred):\n",
    "        true_positives = K.sum(K.round(K.clip(y_true * y_pred, 0, 1)))\n",
    "        predicted_positives = K.sum(K.round(K.clip(y_pred, 0, 1)))\n",
    "        precision = (true_positives + K.epsilon()) / (predicted_positives + K.epsilon())\n",
    "        return precision\n",
    "\n",
    "def f1_metric(y_true, y_pred):\n",
    "\n",
    "    prec = precision_metric(y_true, y_pred)\n",
    "    rec = recall_metric(y_true, y_pred)\n",
    "    f1 = 2*((prec*rec)/(prec+rec+K.epsilon()))\n",
    "    return f1\n",
    "\n",
    "def f2_metric(y_true, y_pred):\n",
    "\n",
    "    prec = precision_metric(y_true, y_pred)\n",
    "    rec = recall_metric(y_true, y_pred)\n",
    "    f2 = 5*((prec*rec)/(4*prec+rec+K.epsilon()))\n",
    "    return f2"
   ]
  },
  {
   "cell_type": "code",
   "execution_count": 18,
   "id": "912029eb-5506-4dd3-b5d8-04d70baf6282",
   "metadata": {},
   "outputs": [],
   "source": [
    "def buildCnn(max_len, top_words, dim, optimizer, seed, embedding_matrix, multi, n_outputs):\n",
    "    cnn_model = Sequential()\n",
    "    cnn_model.add(Embedding(top_words, dim, input_length=None, weights=[embedding_matrix], mask_zero=True, trainable=False))\n",
    "    cnn_model.add(Conv1D(filters = 128, kernel_size = 1, activation = 'relu'))\n",
    "    '''cnn_model.add(MaxPooling1D(pool_size = 5))\n",
    "    cnn_model.add(Conv1D(filters = 128, kernel_size = 5, activation = 'relu'))\n",
    "    cnn_model.add(MaxPooling1D(pool_size = 5))\n",
    "    cnn_model.add(Conv1D(filters = 128, kernel_size = 5, activation = 'relu'))'''\n",
    "    cnn_model.add(GlobalMaxPool1D())\n",
    "    #cnn_model.add(Dense(units = 128, activation = 'relu'))\n",
    "    if multi == False:\n",
    "        cnn_model.add(Dense(n_outputs, activation = 'sigmoid'))\n",
    "        cnn_model.compile(loss = \"binary_crossentropy\", optimizer = \"adam\", metrics=[f1_metric])\n",
    "    else: \n",
    "        model.add(Dense(n_outputs, activation='softmax'))\n",
    "        model.compile(loss='sparse_categorical_crossentropy', optimizer=optimizer)\n",
    "    return cnn_model\n",
    "\n",
    "    \n",
    "def buildLstm(max_len, top_words, dim, optimizer, seed, embedding_matrix, multi, n_outputs):\n",
    "    model=Sequential()\n",
    "    #model.add(Embedding(input_dim=top_words+1, output_dim=dim, input_length=None, mask_zero=True))\n",
    "    model.add(Embedding(input_dim=top_words, output_dim=dim, input_length=None, weights=[embedding_matrix], mask_zero=True, trainable=False))\n",
    "    #model.add(SimpleRNN(300, dropout=0.3, stateful=False))\n",
    "    model.add(LSTM(100, dropout=0.2, return_sequences=True, stateful=False))\n",
    "    model.add(LSTM(50, dropout=0.1, stateful=False))\n",
    "    #model.add(Bidirectional(LSTM(300, dropout=0.3, stateful=False)))\n",
    "    #model.add(GRU(300, dropout=0.3, stateful=False))\n",
    "    model.add(Activation('relu')) #dropout=0.2, recurrent_dropout=0.2, kernel_constraint=max_norm(3), bias_constraint=max_norm(3)\n",
    "    model.add(BatchNormalization())\n",
    "    if multi == False:\n",
    "        model.add(Dense(n_outputs, activation='sigmoid'))\n",
    "        model.compile(loss='binary_crossentropy', optimizer=optimizer, metrics=[f1_metric])  \n",
    "    else: \n",
    "        model.add(Dense(n_outputs, activation='softmax'))\n",
    "        model.compile(loss='sparse_categorical_crossentropy', optimizer=optimizer)\n",
    "    return model"
   ]
  },
  {
   "cell_type": "code",
   "execution_count": 19,
   "id": "425ddd92",
   "metadata": {},
   "outputs": [],
   "source": [
    "userModel = \"cnn\"\n",
    "\n",
    "# hyperparams\n",
    "n_epoch = 100\n",
    "batch_size = 64\n",
    "optimizer = 'adam'\n",
    "patience = 10"
   ]
  },
  {
   "cell_type": "code",
   "execution_count": 20,
   "id": "f4be91cd-59fa-474b-9394-33e0bf3dad32",
   "metadata": {},
   "outputs": [],
   "source": [
    "model_variation = \"w2v_cnn\""
   ]
  },
  {
   "cell_type": "markdown",
   "id": "c1836761",
   "metadata": {},
   "source": [
    "Train model"
   ]
  },
  {
   "cell_type": "code",
   "execution_count": 21,
   "id": "5da66cde",
   "metadata": {},
   "outputs": [
    {
     "name": "stdout",
     "output_type": "stream",
     "text": [
      "Training...\n",
      "Model: \"sequential\"\n",
      "_________________________________________________________________\n",
      " Layer (type)                Output Shape              Param #   \n",
      "=================================================================\n",
      " embedding (Embedding)       (None, None, 200)         2136600   \n",
      "                                                                 \n",
      " conv1d (Conv1D)             (None, None, 128)         25728     \n",
      "                                                                 \n",
      " global_max_pooling1d (Globa  (None, 128)              0         \n",
      " lMaxPooling1D)                                                  \n",
      "                                                                 \n",
      " dense (Dense)               (None, 1)                 129       \n",
      "                                                                 \n",
      "=================================================================\n",
      "Total params: 2,162,457\n",
      "Trainable params: 25,857\n",
      "Non-trainable params: 2,136,600\n",
      "_________________________________________________________________\n",
      "model summary\\m None\n",
      "Epoch 1/100\n",
      "43/53 [=======================>......] - ETA: 0s - loss: 0.4488 - f1_metric: 0.5379    \n",
      "Epoch 1: val_f1_metric improved from -inf to 0.74222, saving model to best_model.h5\n",
      "53/53 [==============================] - 2s 8ms/step - loss: 0.4313 - f1_metric: 0.5575 - val_loss: 0.3107 - val_f1_metric: 0.7422\n",
      "Epoch 2/100\n",
      "52/53 [============================>.] - ETA: 0s - loss: 0.2383 - f1_metric: 0.7509\n",
      "Epoch 2: val_f1_metric improved from 0.74222 to 0.78281, saving model to best_model.h5\n",
      "53/53 [==============================] - 0s 5ms/step - loss: 0.2377 - f1_metric: 0.7535 - val_loss: 0.2661 - val_f1_metric: 0.7828\n",
      "Epoch 3/100\n",
      "45/53 [========================>.....] - ETA: 0s - loss: 0.1714 - f1_metric: 0.8537\n",
      "Epoch 3: val_f1_metric did not improve from 0.78281\n",
      "53/53 [==============================] - 0s 5ms/step - loss: 0.1734 - f1_metric: 0.8504 - val_loss: 0.2337 - val_f1_metric: 0.7679\n",
      "Epoch 4/100\n",
      "51/53 [===========================>..] - ETA: 0s - loss: 0.1376 - f1_metric: 0.8916\n",
      "Epoch 4: val_f1_metric improved from 0.78281 to 0.80403, saving model to best_model.h5\n",
      "53/53 [==============================] - 0s 5ms/step - loss: 0.1387 - f1_metric: 0.8903 - val_loss: 0.2116 - val_f1_metric: 0.8040\n",
      "Epoch 5/100\n",
      "40/53 [=====================>........] - ETA: 0s - loss: 0.1097 - f1_metric: 0.9200\n",
      "Epoch 5: val_f1_metric improved from 0.80403 to 0.80850, saving model to best_model.h5\n",
      "53/53 [==============================] - 0s 5ms/step - loss: 0.1108 - f1_metric: 0.9206 - val_loss: 0.2075 - val_f1_metric: 0.8085\n",
      "Epoch 6/100\n",
      "41/53 [======================>.......] - ETA: 0s - loss: 0.0875 - f1_metric: 0.9561\n",
      "Epoch 6: val_f1_metric did not improve from 0.80850\n",
      "53/53 [==============================] - 0s 4ms/step - loss: 0.0929 - f1_metric: 0.9516 - val_loss: 0.1981 - val_f1_metric: 0.7825\n",
      "Epoch 7/100\n",
      "40/53 [=====================>........] - ETA: 0s - loss: 0.0767 - f1_metric: 0.9660\n",
      "Epoch 7: val_f1_metric improved from 0.80850 to 0.82228, saving model to best_model.h5\n",
      "53/53 [==============================] - 0s 5ms/step - loss: 0.0762 - f1_metric: 0.9637 - val_loss: 0.1879 - val_f1_metric: 0.8223\n",
      "Epoch 8/100\n",
      "44/53 [=======================>......] - ETA: 0s - loss: 0.0623 - f1_metric: 0.9811\n",
      "Epoch 8: val_f1_metric improved from 0.82228 to 0.83774, saving model to best_model.h5\n",
      "53/53 [==============================] - 0s 5ms/step - loss: 0.0636 - f1_metric: 0.9782 - val_loss: 0.1918 - val_f1_metric: 0.8377\n",
      "Epoch 9/100\n",
      "39/53 [=====================>........] - ETA: 0s - loss: 0.0535 - f1_metric: 0.9880\n",
      "Epoch 9: val_f1_metric did not improve from 0.83774\n",
      "53/53 [==============================] - 0s 4ms/step - loss: 0.0556 - f1_metric: 0.9854 - val_loss: 0.1862 - val_f1_metric: 0.8296\n",
      "Epoch 10/100\n",
      "44/53 [=======================>......] - ETA: 0s - loss: 0.0470 - f1_metric: 0.9856\n",
      "Epoch 10: val_f1_metric improved from 0.83774 to 0.84272, saving model to best_model.h5\n",
      "53/53 [==============================] - 0s 5ms/step - loss: 0.0481 - f1_metric: 0.9847 - val_loss: 0.1815 - val_f1_metric: 0.8427\n",
      "Epoch 11/100\n",
      "41/53 [======================>.......] - ETA: 0s - loss: 0.0411 - f1_metric: 0.9925\n",
      "Epoch 11: val_f1_metric did not improve from 0.84272\n",
      "53/53 [==============================] - 0s 5ms/step - loss: 0.0422 - f1_metric: 0.9920 - val_loss: 0.1803 - val_f1_metric: 0.8409\n",
      "Epoch 12/100\n",
      "40/53 [=====================>........] - ETA: 0s - loss: 0.0372 - f1_metric: 0.9890\n",
      "Epoch 12: val_f1_metric did not improve from 0.84272\n",
      "53/53 [==============================] - 0s 4ms/step - loss: 0.0374 - f1_metric: 0.9898 - val_loss: 0.1754 - val_f1_metric: 0.8323\n",
      "Epoch 13/100\n",
      "41/53 [======================>.......] - ETA: 0s - loss: 0.0325 - f1_metric: 0.9914\n",
      "Epoch 13: val_f1_metric improved from 0.84272 to 0.84687, saving model to best_model.h5\n",
      "53/53 [==============================] - 0s 5ms/step - loss: 0.0331 - f1_metric: 0.9915 - val_loss: 0.1728 - val_f1_metric: 0.8469\n",
      "Epoch 14/100\n",
      "40/53 [=====================>........] - ETA: 0s - loss: 0.0314 - f1_metric: 0.9915\n",
      "Epoch 14: val_f1_metric did not improve from 0.84687\n",
      "53/53 [==============================] - 0s 5ms/step - loss: 0.0304 - f1_metric: 0.9905 - val_loss: 0.1670 - val_f1_metric: 0.8379\n",
      "Epoch 15/100\n",
      "49/53 [==========================>...] - ETA: 0s - loss: 0.0272 - f1_metric: 0.9921\n",
      "Epoch 15: val_f1_metric improved from 0.84687 to 0.84691, saving model to best_model.h5\n",
      "53/53 [==============================] - 0s 6ms/step - loss: 0.0282 - f1_metric: 0.9921 - val_loss: 0.1744 - val_f1_metric: 0.8469\n",
      "Epoch 16/100\n",
      "41/53 [======================>.......] - ETA: 0s - loss: 0.0234 - f1_metric: 0.9947\n",
      "Epoch 16: val_f1_metric improved from 0.84691 to 0.85879, saving model to best_model.h5\n",
      "53/53 [==============================] - 0s 5ms/step - loss: 0.0250 - f1_metric: 0.9926 - val_loss: 0.1786 - val_f1_metric: 0.8588\n",
      "Epoch 17/100\n",
      "41/53 [======================>.......] - ETA: 0s - loss: 0.0246 - f1_metric: 0.9924\n",
      "Epoch 17: val_f1_metric did not improve from 0.85879\n",
      "53/53 [==============================] - 0s 4ms/step - loss: 0.0236 - f1_metric: 0.9929 - val_loss: 0.1828 - val_f1_metric: 0.8405\n",
      "Epoch 18/100\n",
      "39/53 [=====================>........] - ETA: 0s - loss: 0.0210 - f1_metric: 0.9942\n",
      "Epoch 18: val_f1_metric improved from 0.85879 to 0.86091, saving model to best_model.h5\n",
      "53/53 [==============================] - 0s 5ms/step - loss: 0.0230 - f1_metric: 0.9918 - val_loss: 0.1795 - val_f1_metric: 0.8609\n",
      "Epoch 19/100\n",
      "44/53 [=======================>......] - ETA: 0s - loss: 0.0220 - f1_metric: 0.9941\n",
      "Epoch 19: val_f1_metric did not improve from 0.86091\n",
      "53/53 [==============================] - 0s 5ms/step - loss: 0.0231 - f1_metric: 0.9930 - val_loss: 0.1736 - val_f1_metric: 0.8469\n",
      "Epoch 20/100\n",
      "50/53 [===========================>..] - ETA: 0s - loss: 0.0229 - f1_metric: 0.9933\n",
      "Epoch 20: val_f1_metric did not improve from 0.86091\n",
      "53/53 [==============================] - 0s 5ms/step - loss: 0.0232 - f1_metric: 0.9922 - val_loss: 0.1779 - val_f1_metric: 0.8544\n",
      "Epoch 21/100\n",
      "41/53 [======================>.......] - ETA: 0s - loss: 0.0185 - f1_metric: 0.9920\n",
      "Epoch 21: val_f1_metric did not improve from 0.86091\n",
      "53/53 [==============================] - 0s 4ms/step - loss: 0.0185 - f1_metric: 0.9926 - val_loss: 0.1790 - val_f1_metric: 0.8469\n",
      "Epoch 22/100\n",
      "41/53 [======================>.......] - ETA: 0s - loss: 0.0165 - f1_metric: 0.9931\n",
      "Epoch 22: val_f1_metric did not improve from 0.86091\n",
      "53/53 [==============================] - 0s 4ms/step - loss: 0.0162 - f1_metric: 0.9940 - val_loss: 0.1767 - val_f1_metric: 0.8590\n",
      "Epoch 23/100\n",
      "44/53 [=======================>......] - ETA: 0s - loss: 0.0184 - f1_metric: 0.9925\n",
      "Epoch 23: val_f1_metric did not improve from 0.86091\n",
      "53/53 [==============================] - 0s 5ms/step - loss: 0.0180 - f1_metric: 0.9922 - val_loss: 0.1920 - val_f1_metric: 0.8493\n",
      "Epoch 24/100\n",
      "43/53 [=======================>......] - ETA: 0s - loss: 0.0169 - f1_metric: 0.9946\n",
      "Epoch 24: val_f1_metric did not improve from 0.86091\n",
      "53/53 [==============================] - 0s 4ms/step - loss: 0.0174 - f1_metric: 0.9934 - val_loss: 0.1840 - val_f1_metric: 0.8470\n",
      "Epoch 25/100\n",
      "47/53 [=========================>....] - ETA: 0s - loss: 0.0163 - f1_metric: 0.9945\n",
      "Epoch 25: val_f1_metric did not improve from 0.86091\n",
      "53/53 [==============================] - 0s 4ms/step - loss: 0.0157 - f1_metric: 0.9941 - val_loss: 0.1860 - val_f1_metric: 0.8498\n",
      "Epoch 26/100\n",
      "44/53 [=======================>......] - ETA: 0s - loss: 0.0137 - f1_metric: 0.9948\n",
      "Epoch 26: val_f1_metric did not improve from 0.86091\n",
      "53/53 [==============================] - 0s 4ms/step - loss: 0.0147 - f1_metric: 0.9944 - val_loss: 0.1948 - val_f1_metric: 0.8539\n",
      "Epoch 27/100\n",
      "47/53 [=========================>....] - ETA: 0s - loss: 0.0157 - f1_metric: 0.9930\n",
      "Epoch 27: val_f1_metric did not improve from 0.86091\n",
      "53/53 [==============================] - 0s 5ms/step - loss: 0.0150 - f1_metric: 0.9929 - val_loss: 0.1874 - val_f1_metric: 0.8587\n",
      "Epoch 28/100\n",
      "41/53 [======================>.......] - ETA: 0s - loss: 0.0127 - f1_metric: 0.9945\n",
      "Epoch 28: val_f1_metric did not improve from 0.86091\n",
      "53/53 [==============================] - 0s 4ms/step - loss: 0.0169 - f1_metric: 0.9934 - val_loss: 0.1885 - val_f1_metric: 0.8438\n",
      "Epoch 28: early stopping\n",
      "Training is completed after 10759\n"
     ]
    }
   ],
   "source": [
    "print(\"Training...\")\n",
    "milli_sec1 = int(round(time.time() * 1000))\n",
    "\n",
    "if userModel == \"cnn\":\n",
    "    myModel = buildCnn(max_length, num_words, dim, optimizer, seed, embedding_matrix, False, 1) \n",
    "elif userModel == \"lstm\":\n",
    "    myModel = buildLstm(max_length, num_words, dim, optimizer, seed, embedding_matrix, False, 1)\n",
    "print(\"model summary\\m\",myModel.summary())\n",
    "\n",
    "csv_logger = CSVLogger('log.csv', append=True, separator=',')\n",
    "es = EarlyStopping(monitor='val_f1_metric', mode='max', verbose=1, patience=patience)\n",
    "mc = ModelCheckpoint('best_model.h5', monitor='val_f1_metric', mode='max', verbose=1, save_best_only=True)\n",
    "\n",
    "history = myModel.fit(x_train, y_train, validation_data=(x_val, y_val), epochs = n_epoch, batch_size = batch_size, verbose=1, callbacks=[csv_logger,es,mc])\n",
    "\n",
    "milli_sec2 = int(round(time.time() * 1000))\n",
    "print(\"Training is completed after\", milli_sec2-milli_sec1)"
   ]
  },
  {
   "cell_type": "markdown",
   "id": "3387b315-e5d5-4b12-8acb-679183b1762f",
   "metadata": {},
   "source": [
    "Load best model"
   ]
  },
  {
   "cell_type": "code",
   "execution_count": 22,
   "id": "0199a0c9-3c4b-4226-b54a-9ac9c998f5fd",
   "metadata": {},
   "outputs": [],
   "source": [
    "myModel.load_weights(\"best_model.h5\")"
   ]
  },
  {
   "cell_type": "markdown",
   "id": "4dccbfe5-6082-4ee4-9c8c-78e8bfdaa727",
   "metadata": {},
   "source": [
    "Results on the validation set"
   ]
  },
  {
   "cell_type": "code",
   "execution_count": 23,
   "id": "38f25f55-419b-414c-8b6a-ebbcbadb3382",
   "metadata": {},
   "outputs": [
    {
     "name": "stdout",
     "output_type": "stream",
     "text": [
      "12/12 [==============================] - 0s 2ms/step\n",
      "              precision    recall  f1-score   support\n",
      "\n",
      "           0       0.97      0.94      0.96       285\n",
      "           1       0.84      0.90      0.87        90\n",
      "\n",
      "    accuracy                           0.93       375\n",
      "   macro avg       0.90      0.92      0.91       375\n",
      "weighted avg       0.94      0.93      0.93       375\n",
      "\n"
     ]
    }
   ],
   "source": [
    "print(classification_report(y_val, (myModel.predict(x_val) > 0.5).astype(\"int32\")))"
   ]
  },
  {
   "cell_type": "markdown",
   "id": "b90781fe",
   "metadata": {},
   "source": [
    "Make predictions on the testing set and compute evaluation metrics"
   ]
  },
  {
   "cell_type": "code",
   "execution_count": 24,
   "id": "4c019f25",
   "metadata": {},
   "outputs": [
    {
     "name": "stdout",
     "output_type": "stream",
     "text": [
      "14/14 [==============================] - 0s 1ms/step\n",
      "              precision    recall  f1-score   support\n",
      "\n",
      "           0       0.94      0.96      0.95       317\n",
      "           1       0.86      0.79      0.82       100\n",
      "\n",
      "    accuracy                           0.92       417\n",
      "   macro avg       0.90      0.87      0.88       417\n",
      "weighted avg       0.92      0.92      0.92       417\n",
      "\n"
     ]
    }
   ],
   "source": [
    "predScores = myModel.predict(x_test)\n",
    "predictions = (predScores > 0.5).astype(\"int32\")\n",
    "\n",
    "print(classification_report(y_test, predictions))"
   ]
  },
  {
   "cell_type": "code",
   "execution_count": 25,
   "id": "12c1d9e6",
   "metadata": {},
   "outputs": [
    {
     "name": "stdout",
     "output_type": "stream",
     "text": [
      "TP= 79\n",
      "TN= 304\n",
      "FP= 13\n",
      "FN= 21\n",
      "Accuracy:91.85%\n",
      "Precision:85.87%\n",
      "Recall:79.00%\n",
      "Roc_Auc score:87.45%\n",
      "F1 score:82.29%\n",
      "F2 score:80.28%\n"
     ]
    },
    {
     "data": {
      "image/png": "[encoded data removed]",
      "text/plain": [
       "<Figure size 640x480 with 2 Axes>"
      ]
     },
     "metadata": {},
     "output_type": "display_data"
    }
   ],
   "source": [
    "accuracy=accuracy_score(y_test, predictions)\n",
    "precision=precision_score(y_test, predictions)\n",
    "recall=recall_score(y_test, predictions)\n",
    "roc_auc=roc_auc_score(y_test, predictions)\n",
    "f1=f1_score(y_test, predictions)\n",
    "f2 = (5*precision*recall) / (4*precision+recall)\n",
    "\n",
    "conf_matrix = confusion_matrix(y_test, predictions)\n",
    "sn.heatmap(conf_matrix, annot=True)\n",
    "\n",
    "tn, fp, fn, tp = conf_matrix.ravel()\n",
    "acc = ((tp+tn)/(tp+tn+fp+fn))\n",
    "print(\"TP=\",tp)\n",
    "print(\"TN=\",tn)\n",
    "print(\"FP=\",fp)\n",
    "print(\"FN=\",fn)\n",
    "\n",
    "print(\"Accuracy:%.2f%%\"%(accuracy*100))\n",
    "print(\"Precision:%.2f%%\"%(precision*100))\n",
    "print(\"Recall:%.2f%%\"%(recall*100))\n",
    "print(\"Roc_Auc score:%.2f%%\"%(roc_auc*100))\n",
    "print(\"F1 score:%.2f%%\"%(f1*100))\n",
    "print(\"F2 score:%.2f%%\"%(f2*100))"
   ]
  },
  {
   "cell_type": "markdown",
   "id": "64ae0ab7-11f6-47d3-b061-20010c3953e2",
   "metadata": {},
   "source": [
    "Export classification report"
   ]
  },
  {
   "cell_type": "code",
   "execution_count": 26,
   "id": "946397a5-e05c-4568-84e3-d0a9eccad969",
   "metadata": {},
   "outputs": [],
   "source": [
    "# Create the path\n",
    "path = os.path.join(root_path, 'results', model_variation.split(\"/\")[-1], method, str(shuffle_seeder))\n",
    "\n",
    "# Create directory if it doesn't exist\n",
    "os.makedirs(path, exist_ok=True)\n",
    "\n",
    "# Define the CSV file path\n",
    "csv_file_path = os.path.join(path, f\"{shuffle_seeder}.csv\")\n",
    "\n",
    "# Write data to CSV\n",
    "data = {\n",
    "    \"accuracy\": accuracy,\n",
    "    \"precision\": precision,\n",
    "    \"recall\": recall,\n",
    "    \"f1\": f1,\n",
    "    \"f2\": f2,\n",
    "    \"roc_auc\": roc_auc\n",
    "}\n",
    "\n",
    "# Write to CSV\n",
    "with open(csv_file_path, \"w\", newline=\"\") as csvfile:\n",
    "    writer = csv.DictWriter(csvfile, fieldnames=data.keys())\n",
    "    writer.writeheader()\n",
    "    writer.writerow(data)\n"
   ]
  },
  {
   "cell_type": "markdown",
   "id": "1ee46277-bed5-418c-b943-f25dd911b852",
   "metadata": {},
   "source": [
    "Compute the average values of the classication metrics considering the results for all different seeders"
   ]
  },
  {
   "cell_type": "code",
   "execution_count": 29,
   "id": "e91112a5-4fc1-4f97-9263-122b4b26a0e8",
   "metadata": {},
   "outputs": [
    {
     "name": "stdout",
     "output_type": "stream",
     "text": [
      "{'accuracy': 0.9184652278177458, 'precision': 0.8586956521739131, 'recall': 0.79, 'f1': 0.8229166666666666, 'f2': 0.8028455284552846, 'roc_auc': 0.8744952681388013}\n"
     ]
    }
   ],
   "source": [
    "# Define a dictionary to store cumulative sum of metrics\n",
    "cumulative_metrics = defaultdict(float)\n",
    "count = 0  # Counter to keep track of number of CSV files\n",
    "\n",
    "# Iterate over all CSV files in the results folder\n",
    "results_folder = os.path.join(root_path, \"results\", model_variation.split(\"/\")[-1], method, str(shuffle_seeder))\n",
    "for filename in os.listdir(results_folder):\n",
    "    if filename.endswith(\".csv\"):\n",
    "        csv_file_path = os.path.join(results_folder, filename)\n",
    "        with open(csv_file_path, \"r\", newline=\"\") as csvfile:\n",
    "            reader = csv.DictReader(csvfile)\n",
    "            for row in reader:\n",
    "                for metric, value in row.items():\n",
    "                    cumulative_metrics[metric] += float(value)\n",
    "        count += 1\n",
    "        \n",
    "# Compute average values\n",
    "average_metrics = {metric: total / count for metric, total in cumulative_metrics.items()}\n",
    "\n",
    "# Print average values \n",
    "print(average_metrics)\n",
    "\n",
    "# Define the path for the average CSV file\n",
    "avg_csv_file_path = os.path.join(root_path, \"results\", model_variation.split(\"/\")[-1], method, \"avg.csv\")\n",
    "\n",
    "# Write average metrics to CSV\n",
    "with open(avg_csv_file_path, \"w\", newline=\"\") as csvfile:\n",
    "    writer = csv.DictWriter(csvfile, fieldnames=average_metrics.keys())\n",
    "    writer.writeheader()\n",
    "    writer.writerow(average_metrics)"
   ]
  },
  {
   "cell_type": "code",
   "execution_count": null,
   "id": "c2f75878-e705-4ffa-95b1-b49b9b07dc14",
   "metadata": {},
   "outputs": [],
   "source": []
  }
 ],
 "metadata": {
  "kernelspec": {
   "display_name": "Python 3 (ipykernel)",
   "language": "python",
   "name": "python3"
  },
  "language_info": {
   "codemirror_mode": {
    "name": "ipython",
    "version": 3
   },
   "file_extension": ".py",
   "mimetype": "text/x-python",
   "name": "python",
   "nbconvert_exporter": "python",
   "pygments_lexer": "ipython3",
   "version": "3.9.19"
  }
 },
 "nbformat": 4,
 "nbformat_minor": 5
}
