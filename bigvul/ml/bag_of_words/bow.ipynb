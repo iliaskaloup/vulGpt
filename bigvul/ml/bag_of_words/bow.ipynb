{
 "cells": [
  {
   "cell_type": "code",
   "execution_count": 17,
   "id": "58353a8e-83b3-460d-86be-de1d7eff01dc",
   "metadata": {},
   "outputs": [],
   "source": [
    "import seaborn as sn\n",
    "import pandas as pd\n",
    "import json, os\n",
    "import numpy as np\n",
    "import csv\n",
    "import matplotlib.pyplot as plt\n",
    "import random\n",
    "from collections import OrderedDict\n",
    "import time\n",
    "import random\n",
    "\n",
    "from sklearn.metrics import accuracy_score, recall_score, f1_score, precision_score, \\\n",
    "roc_auc_score, confusion_matrix, classification_report\n",
    "from sklearn.model_selection import StratifiedKFold\n",
    "from sklearn.model_selection import train_test_split\n",
    "\n",
    "from sklearn.svm import SVC  \n",
    "from sklearn.naive_bayes import GaussianNB\n",
    "from sklearn import tree\n",
    "from sklearn.ensemble import RandomForestClassifier\n",
    "from sklearn.neighbors import KNeighborsClassifier\n",
    "from sklearn.linear_model import LogisticRegression\n",
    "\n",
    "from sklearn.feature_extraction.text import CountVectorizer\n",
    "from sklearn.feature_extraction.text import TfidfVectorizer\n",
    "\n",
    "from imblearn.under_sampling import RandomUnderSampler\n",
    "from sklearn.utils import shuffle"
   ]
  },
  {
   "cell_type": "code",
   "execution_count": 2,
   "id": "7382327d-802c-42e9-b212-6ad0a40914fb",
   "metadata": {},
   "outputs": [],
   "source": [
    "seeders = [123456, 789012, 345678, 901234, 567890, 123, 456, 789, 123, 456]\n",
    "\n",
    "seed = seeders[0]\n",
    "\n",
    "np.random.seed(seed)\n",
    "random.seed(seed)"
   ]
  },
  {
   "cell_type": "code",
   "execution_count": 3,
   "id": "cc91c3e8-4ced-4e95-9aa6-8a541af44063",
   "metadata": {},
   "outputs": [],
   "source": [
    "root_path = os.path.join('..', '..')"
   ]
  },
  {
   "cell_type": "code",
   "execution_count": 4,
   "id": "1298b70f-6b1f-4749-acd1-f54ce9d35dbe",
   "metadata": {},
   "outputs": [],
   "source": [
    "dataset = pd.read_csv(os.path.join(root_path, 'data', 'train.csv'))\n"
   ]
  },
  {
   "cell_type": "code",
   "execution_count": 5,
   "id": "f48a5a54-5b26-4898-b0a3-f4fcc2bc4b69",
   "metadata": {},
   "outputs": [
    {
     "name": "stdout",
     "output_type": "stream",
     "text": [
      "    index Access Gained Attack Origin Authentication Required Availability  \\\n",
      "0   22328           NaN         Local            Not required     Complete   \n",
      "1   39415           NaN         Local            Not required          NaN   \n",
      "2   60861           NaN        Remote           Single system          NaN   \n",
      "3   84364           NaN         Local            Not required      Partial   \n",
      "4  177580           NaN        Remote            Not required     Complete   \n",
      "\n",
      "           CVE ID                                        CVE Page   CWE ID  \\\n",
      "0   CVE-2011-4621   https://www.cvedetails.com/cve/CVE-2011-4621/      NaN   \n",
      "1   CVE-2014-1738   https://www.cvedetails.com/cve/CVE-2014-1738/  CWE-264   \n",
      "2  CVE-2017-14604  https://www.cvedetails.com/cve/CVE-2017-14604/   CWE-20   \n",
      "3   CVE-2018-6560   https://www.cvedetails.com/cve/CVE-2018-6560/  CWE-436   \n",
      "4   CVE-2016-1621   https://www.cvedetails.com/cve/CVE-2016-1621/  CWE-119   \n",
      "\n",
      "  Complexity Confidentiality  ... parentID  \\\n",
      "0        Low             NaN  ...      NaN   \n",
      "1        Low        Complete  ...      NaN   \n",
      "2        Low             NaN  ...      NaN   \n",
      "3        Low         Partial  ...      NaN   \n",
      "4        Low        Complete  ...      NaN   \n",
      "\n",
      "                                               patch   project  \\\n",
      "0  @@ -641,17 +641,18 @@ static void sched_irq_ti...     linux   \n",
      "1  @@ -3067,7 +3067,10 @@ static int raw_cmd_copy...     linux   \n",
      "2  @@ -30,6 +30,7 @@\\n #include \"nautilus-global-...  nautilus   \n",
      "3  @@ -173,10 +173,11 @@\\n \\n typedef struct Flat...   flatpak   \n",
      "4  @@ -13,18 +13,18 @@\\n\\n #include <string.h>\\n ...   Android   \n",
      "\n",
      "                                       project_after  \\\n",
      "0           f26f9aff6aaf67e9a430d16c266f91b13a5bff64   \n",
      "1           2145e15e0557a01b9195d1c7199a1b92cb9be81f   \n",
      "2           1630f53481f445ada0a455e9979236d31a8d3bb0   \n",
      "3           52346bf187b5a7f1c0fe9075b328b7ad6abe78f6   \n",
      "4  https://android.googlesource.com/platform/exte...   \n",
      "\n",
      "                                      project_before target  \\\n",
      "0           0f004f5a696a9434b7214d0d3cbd0525ee77d428      0   \n",
      "1           ef87dbe7614341c2e7bfe8d32fcb7028cc97442c      0   \n",
      "2           cc6910ff6511a5a2939cf36a49ca81fb62005382      0   \n",
      "3           3c9d3a316ea298c25e8756ab4f256b08879aff36      0   \n",
      "4  https://android.googlesource.com/platform/exte...      0   \n",
      "\n",
      "                                   vul_func_with_fix  \\\n",
      "0  void account_system_time(struct task_struct *p...   \n",
      "1  static void redo_fd_request(void)\\n{\\n\\tint dr...   \n",
      "2  cancel_filesystem_info_for_file (NautilusDirec...   \n",
      "3  buffer_write (ProxySide *side,\\n              ...   \n",
      "4                      virtual ~Trans16x16DCT() {}\\n   \n",
      "\n",
      "                                      processed_func flaw_line flaw_line_index  \n",
      "0  void account_system_time(struct task_struct *p...       NaN             NaN  \n",
      "1  static void redo_fd_request(void)\\n{\\n\\tint dr...       NaN             NaN  \n",
      "2  cancel_filesystem_info_for_file (NautilusDirec...       NaN             NaN  \n",
      "3  buffer_write (ProxySide *side,\\n              ...       NaN             NaN  \n",
      "4                      virtual ~Trans16x16DCT() {}\\n       NaN             NaN  \n",
      "\n",
      "[5 rows x 39 columns]\n",
      "150908\n"
     ]
    }
   ],
   "source": [
    "data = dataset.sample(frac=1, random_state=seed).reset_index(drop=True)\n",
    "print(data.head())\n",
    "print(len(data))"
   ]
  },
  {
   "cell_type": "code",
   "execution_count": 6,
   "id": "16f91ddc-e8f9-4af2-84a6-fd6120f6e9c4",
   "metadata": {},
   "outputs": [
    {
     "name": "stdout",
     "output_type": "stream",
     "text": [
      "89145\n"
     ]
    }
   ],
   "source": [
    "data = data[data[\"project\"] != \"Chrome\"]\n",
    "print(len(data))"
   ]
  },
  {
   "cell_type": "code",
   "execution_count": 7,
   "id": "9ece05b3-5e3f-4261-a550-22a1cd3dc79c",
   "metadata": {},
   "outputs": [
    {
     "data": {
      "text/html": [
       "<div>\n",
       "<style scoped>\n",
       "    .dataframe tbody tr th:only-of-type {\n",
       "        vertical-align: middle;\n",
       "    }\n",
       "\n",
       "    .dataframe tbody tr th {\n",
       "        vertical-align: top;\n",
       "    }\n",
       "\n",
       "    .dataframe thead th {\n",
       "        text-align: right;\n",
       "    }\n",
       "</style>\n",
       "<table border=\"1\" class=\"dataframe\">\n",
       "  <thead>\n",
       "    <tr style=\"text-align: right;\">\n",
       "      <th></th>\n",
       "      <th>processed_func</th>\n",
       "      <th>target</th>\n",
       "    </tr>\n",
       "  </thead>\n",
       "  <tbody>\n",
       "    <tr>\n",
       "      <th>0</th>\n",
       "      <td>void account_system_time(struct task_struct *p...</td>\n",
       "      <td>0</td>\n",
       "    </tr>\n",
       "    <tr>\n",
       "      <th>1</th>\n",
       "      <td>static void redo_fd_request(void)\\n{\\n\\tint dr...</td>\n",
       "      <td>0</td>\n",
       "    </tr>\n",
       "    <tr>\n",
       "      <th>2</th>\n",
       "      <td>cancel_filesystem_info_for_file (NautilusDirec...</td>\n",
       "      <td>0</td>\n",
       "    </tr>\n",
       "    <tr>\n",
       "      <th>3</th>\n",
       "      <td>buffer_write (ProxySide *side,\\n              ...</td>\n",
       "      <td>0</td>\n",
       "    </tr>\n",
       "    <tr>\n",
       "      <th>4</th>\n",
       "      <td>virtual ~Trans16x16DCT() {}\\n</td>\n",
       "      <td>0</td>\n",
       "    </tr>\n",
       "  </tbody>\n",
       "</table>\n",
       "</div>"
      ],
      "text/plain": [
       "                                      processed_func  target\n",
       "0  void account_system_time(struct task_struct *p...       0\n",
       "1  static void redo_fd_request(void)\\n{\\n\\tint dr...       0\n",
       "2  cancel_filesystem_info_for_file (NautilusDirec...       0\n",
       "3  buffer_write (ProxySide *side,\\n              ...       0\n",
       "4                      virtual ~Trans16x16DCT() {}\\n       0"
      ]
     },
     "execution_count": 7,
     "metadata": {},
     "output_type": "execute_result"
    }
   ],
   "source": [
    "data = data[[\"processed_func\", \"target\"]]\n",
    "data.head()"
   ]
  },
  {
   "cell_type": "code",
   "execution_count": 8,
   "id": "2ec6a112-0b65-4c9a-a591-113095bbf199",
   "metadata": {},
   "outputs": [],
   "source": [
    "data = data.dropna(subset=[\"processed_func\"])"
   ]
  },
  {
   "cell_type": "code",
   "execution_count": 9,
   "id": "a6595fb5-5c13-4989-a403-d8223aa59776",
   "metadata": {},
   "outputs": [
    {
     "name": "stdout",
     "output_type": "stream",
     "text": [
      "Maximum number of words: 15441\n"
     ]
    }
   ],
   "source": [
    "word_counts = data[\"processed_func\"].apply(lambda x: len(x.split()))\n",
    "max_length = word_counts.max()\n",
    "print(\"Maximum number of words:\", max_length)"
   ]
  },
  {
   "cell_type": "code",
   "execution_count": 10,
   "id": "63e8965c-774b-4f9f-a77c-af5e7c66b430",
   "metadata": {},
   "outputs": [
    {
     "name": "stdout",
     "output_type": "stream",
     "text": [
      "target\n",
      "0    83578\n",
      "1     5567\n",
      "Name: count, dtype: int64\n",
      "Percentage:  6.660843762712676 %\n",
      "2\n"
     ]
    }
   ],
   "source": [
    "vc = data[\"target\"].value_counts()\n",
    "\n",
    "print(vc)\n",
    "\n",
    "print(\"Percentage: \", (vc[1] / vc[0])*100, '%')\n",
    "\n",
    "n_categories = len(vc)\n",
    "print(n_categories)"
   ]
  },
  {
   "cell_type": "code",
   "execution_count": 11,
   "id": "ed87d21d-0add-4833-842d-69a1f2a9e134",
   "metadata": {},
   "outputs": [
    {
     "data": {
      "text/html": [
       "<div>\n",
       "<style scoped>\n",
       "    .dataframe tbody tr th:only-of-type {\n",
       "        vertical-align: middle;\n",
       "    }\n",
       "\n",
       "    .dataframe tbody tr th {\n",
       "        vertical-align: top;\n",
       "    }\n",
       "\n",
       "    .dataframe thead th {\n",
       "        text-align: right;\n",
       "    }\n",
       "</style>\n",
       "<table border=\"1\" class=\"dataframe\">\n",
       "  <thead>\n",
       "    <tr style=\"text-align: right;\">\n",
       "      <th></th>\n",
       "      <th>text</th>\n",
       "      <th>label</th>\n",
       "    </tr>\n",
       "  </thead>\n",
       "  <tbody>\n",
       "    <tr>\n",
       "      <th>0</th>\n",
       "      <td>void account_system_time(struct task_struct *p...</td>\n",
       "      <td>0</td>\n",
       "    </tr>\n",
       "    <tr>\n",
       "      <th>1</th>\n",
       "      <td>static void redo_fd_request(void)\\n{\\n\\tint dr...</td>\n",
       "      <td>0</td>\n",
       "    </tr>\n",
       "    <tr>\n",
       "      <th>2</th>\n",
       "      <td>cancel_filesystem_info_for_file (NautilusDirec...</td>\n",
       "      <td>0</td>\n",
       "    </tr>\n",
       "    <tr>\n",
       "      <th>3</th>\n",
       "      <td>buffer_write (ProxySide *side,\\n              ...</td>\n",
       "      <td>0</td>\n",
       "    </tr>\n",
       "    <tr>\n",
       "      <th>4</th>\n",
       "      <td>virtual ~Trans16x16DCT() {}\\n</td>\n",
       "      <td>0</td>\n",
       "    </tr>\n",
       "  </tbody>\n",
       "</table>\n",
       "</div>"
      ],
      "text/plain": [
       "                                                text  label\n",
       "0  void account_system_time(struct task_struct *p...      0\n",
       "1  static void redo_fd_request(void)\\n{\\n\\tint dr...      0\n",
       "2  cancel_filesystem_info_for_file (NautilusDirec...      0\n",
       "3  buffer_write (ProxySide *side,\\n              ...      0\n",
       "4                      virtual ~Trans16x16DCT() {}\\n      0"
      ]
     },
     "execution_count": 11,
     "metadata": {},
     "output_type": "execute_result"
    }
   ],
   "source": [
    "train_data = pd.DataFrame(({'text': data['processed_func'], 'label': data['target']}))\n",
    "#train_data = train_data[0:100]\n",
    "train_data.head()"
   ]
  },
  {
   "cell_type": "code",
   "execution_count": 12,
   "id": "7bbb2863-c04b-429f-adcf-f583763d4ac7",
   "metadata": {},
   "outputs": [
    {
     "data": {
      "text/html": [
       "<div>\n",
       "<style scoped>\n",
       "    .dataframe tbody tr th:only-of-type {\n",
       "        vertical-align: middle;\n",
       "    }\n",
       "\n",
       "    .dataframe tbody tr th {\n",
       "        vertical-align: top;\n",
       "    }\n",
       "\n",
       "    .dataframe thead th {\n",
       "        text-align: right;\n",
       "    }\n",
       "</style>\n",
       "<table border=\"1\" class=\"dataframe\">\n",
       "  <thead>\n",
       "    <tr style=\"text-align: right;\">\n",
       "      <th></th>\n",
       "      <th>text</th>\n",
       "      <th>label</th>\n",
       "    </tr>\n",
       "  </thead>\n",
       "  <tbody>\n",
       "    <tr>\n",
       "      <th>1</th>\n",
       "      <td>int iwlagn_add_bssid_station(struct iwl_priv *...</td>\n",
       "      <td>0</td>\n",
       "    </tr>\n",
       "    <tr>\n",
       "      <th>2</th>\n",
       "      <td>static int dnxhd_init_vlc(DNXHDContext *ctx, u...</td>\n",
       "      <td>0</td>\n",
       "    </tr>\n",
       "    <tr>\n",
       "      <th>3</th>\n",
       "      <td>void CameraService::onFirstRef()\\n{\\n    LOG1(...</td>\n",
       "      <td>0</td>\n",
       "    </tr>\n",
       "    <tr>\n",
       "      <th>4</th>\n",
       "      <td>int EmbedStream::getChar() {\\n  if (limited &amp;&amp;...</td>\n",
       "      <td>0</td>\n",
       "    </tr>\n",
       "    <tr>\n",
       "      <th>5</th>\n",
       "      <td>json_t *json_rpc_call(CURL *curl, const char *...</td>\n",
       "      <td>0</td>\n",
       "    </tr>\n",
       "  </tbody>\n",
       "</table>\n",
       "</div>"
      ],
      "text/plain": [
       "                                                text  label\n",
       "1  int iwlagn_add_bssid_station(struct iwl_priv *...      0\n",
       "2  static int dnxhd_init_vlc(DNXHDContext *ctx, u...      0\n",
       "3  void CameraService::onFirstRef()\\n{\\n    LOG1(...      0\n",
       "4  int EmbedStream::getChar() {\\n  if (limited &&...      0\n",
       "5  json_t *json_rpc_call(CURL *curl, const char *...      0"
      ]
     },
     "execution_count": 12,
     "metadata": {},
     "output_type": "execute_result"
    }
   ],
   "source": [
    "val_data = pd.read_csv(os.path.join(root_path, 'data', 'val.csv'))\n",
    "\n",
    "val_data = val_data[val_data[\"project\"] != \"Chrome\"]\n",
    "\n",
    "val_data = pd.DataFrame(({'text': val_data['processed_func'], 'label': val_data['target']}))\n",
    "val_data.head()"
   ]
  },
  {
   "cell_type": "code",
   "execution_count": 13,
   "id": "cd07efb5-dab7-40e0-9539-3bbebd11c63f",
   "metadata": {},
   "outputs": [],
   "source": [
    "test_data = pd.read_csv(os.path.join(root_path, 'data', 'test.csv'))\n",
    "\n",
    "test_data = test_data[test_data[\"project\"] != \"Chrome\"]\n",
    "\n",
    "test_data = pd.DataFrame(({'text': test_data['processed_func'], 'label': test_data['target']}))"
   ]
  },
  {
   "cell_type": "code",
   "execution_count": 18,
   "id": "0e6156a6-67f8-44ba-8dd6-aeeddff2a36b",
   "metadata": {},
   "outputs": [
    {
     "name": "stdout",
     "output_type": "stream",
     "text": [
      "Class distribution  label\n",
      "0    83578\n",
      "1     5567\n",
      "Name: count, dtype: int64\n",
      "Majority class  0\n",
      "Minority class  1\n",
      "Targeted number of majority class 11134\n",
      "Class distribution after augmentation label\n",
      "0    11134\n",
      "1     5567\n",
      "Name: count, dtype: int64\n"
     ]
    }
   ],
   "source": [
    "sampling = False\n",
    "if n_categories == 2 and sampling == True:\n",
    "    # Apply under-sampling with the specified strategy\n",
    "    class_counts = pd.Series(train_data[\"label\"]).value_counts()\n",
    "    print(\"Class distribution \", class_counts)\n",
    "\n",
    "    majority_class = class_counts.idxmax()\n",
    "    print(\"Majority class \", majority_class)\n",
    "\n",
    "    minority_class = class_counts.idxmin()\n",
    "    print(\"Minority class \", minority_class)\n",
    "\n",
    "    target_count = 2 * class_counts[class_counts.idxmin()] # class_counts[class_counts.idxmin()] # int(class_counts.iloc[0] / 2) \n",
    "    print(\"Targeted number of majority class\", target_count)\n",
    "\n",
    "    # under\n",
    "    sampling_strategy = {majority_class: target_count}        \n",
    "    rus = RandomUnderSampler(random_state=seed, sampling_strategy=sampling_strategy)\n",
    "\n",
    "    x_train_resampled, y_train_resampled = rus.fit_resample(np.array(train_data[\"text\"]).reshape(-1, 1), train_data[\"label\"]) \n",
    "    print(\"Class distribution after augmentation\", pd.Series(y_train_resampled).value_counts())\n",
    "\n",
    "\n",
    "    # Shuffle the resampled data while preserving the correspondence between features and labels\n",
    "    x_train_resampled, y_train_resampled = shuffle(x_train_resampled, y_train_resampled, random_state=seed)\n",
    "\n",
    "    # rename\n",
    "    X_train = x_train_resampled\n",
    "    Y_train = y_train_resampled\n",
    "\n",
    "    X_train = pd.Series(X_train.reshape(-1))\n",
    "\n",
    "else:\n",
    "    X_train = train_data[\"text\"]\n",
    "    Y_train = train_data[\"label\"]"
   ]
  },
  {
   "cell_type": "code",
   "execution_count": 19,
   "id": "16f72915-bdbb-47dc-bf19-176cc8b78b57",
   "metadata": {},
   "outputs": [],
   "source": [
    "# textual code data\n",
    "X_val = val_data[\"text\"]\n",
    "\n",
    "X_test = test_data[\"text\"]"
   ]
  },
  {
   "cell_type": "code",
   "execution_count": 20,
   "id": "6ae0e2d1-679e-47be-9e3b-3997e10e1f4e",
   "metadata": {},
   "outputs": [],
   "source": [
    "# labels\n",
    "y_train = Y_train\n",
    "y_val = val_data[\"label\"]\n",
    "y_test = test_data[\"label\"]"
   ]
  },
  {
   "cell_type": "code",
   "execution_count": 21,
   "id": "bfc5eac1-76bf-4152-85b8-99f9cd1d1fb9",
   "metadata": {},
   "outputs": [],
   "source": [
    "# apply BoW feature extraction\n",
    "vectorizer = TfidfVectorizer(norm='l2', max_features=1000)\n",
    "vectorizer = vectorizer.fit(X_train)"
   ]
  },
  {
   "cell_type": "code",
   "execution_count": 22,
   "id": "864d1600-2ee2-49f6-960d-f119e4ef50ef",
   "metadata": {},
   "outputs": [],
   "source": [
    "X_train = np.asarray(vectorizer.transform(X_train).todense())\n",
    "X_val = np.asarray(vectorizer.transform(X_val).todense())\n",
    "X_test = np.asarray(vectorizer.transform(X_test).todense())"
   ]
  },
  {
   "cell_type": "code",
   "execution_count": 24,
   "id": "1ac04c0c-361e-4404-9d03-b7f7dc5617f9",
   "metadata": {},
   "outputs": [],
   "source": [
    "# define model\n",
    "myModel = RandomForestClassifier(n_estimators=1000,\n",
    "                            n_jobs=-1,\n",
    "                            verbose=1)\n",
    "\n",
    "# myModel = SVC(kernel='rbf', gamma=100)\n",
    "# myModel = tree.DecisionTreeClassifier(max_depth=120)\n",
    "# myModel = GaussianNB()\n",
    "# myModel = KNeighborsClassifier(n_neighbors=1)"
   ]
  },
  {
   "cell_type": "code",
   "execution_count": 25,
   "id": "8c7000b3-b34c-435a-b673-3dc0bf721fab",
   "metadata": {},
   "outputs": [
    {
     "name": "stderr",
     "output_type": "stream",
     "text": [
      "[Parallel(n_jobs=-1)]: Using backend ThreadingBackend with 6 concurrent workers.\n",
      "[Parallel(n_jobs=-1)]: Done  38 tasks      | elapsed:    2.9s\n",
      "[Parallel(n_jobs=-1)]: Done 188 tasks      | elapsed:   12.0s\n",
      "[Parallel(n_jobs=-1)]: Done 438 tasks      | elapsed:   27.1s\n",
      "[Parallel(n_jobs=-1)]: Done 788 tasks      | elapsed:   47.7s\n",
      "[Parallel(n_jobs=-1)]: Done 1000 out of 1000 | elapsed:  1.0min finished\n"
     ]
    },
    {
     "data": {
      "text/html": [
       "<style>#sk-container-id-1 {color: black;}#sk-container-id-1 pre{padding: 0;}#sk-container-id-1 div.sk-toggleable {background-color: white;}#sk-container-id-1 label.sk-toggleable__label {cursor: pointer;display: block;width: 100%;margin-bottom: 0;padding: 0.3em;box-sizing: border-box;text-align: center;}#sk-container-id-1 label.sk-toggleable__label-arrow:before {content: \"▸\";float: left;margin-right: 0.25em;color: #696969;}#sk-container-id-1 label.sk-toggleable__label-arrow:hover:before {color: black;}#sk-container-id-1 div.sk-estimator:hover label.sk-toggleable__label-arrow:before {color: black;}#sk-container-id-1 div.sk-toggleable__content {max-height: 0;max-width: 0;overflow: hidden;text-align: left;background-color: #f0f8ff;}#sk-container-id-1 div.sk-toggleable__content pre {margin: 0.2em;color: black;border-radius: 0.25em;background-color: #f0f8ff;}#sk-container-id-1 input.sk-toggleable__control:checked~div.sk-toggleable__content {max-height: 200px;max-width: 100%;overflow: auto;}#sk-container-id-1 input.sk-toggleable__control:checked~label.sk-toggleable__label-arrow:before {content: \"▾\";}#sk-container-id-1 div.sk-estimator input.sk-toggleable__control:checked~label.sk-toggleable__label {background-color: #d4ebff;}#sk-container-id-1 div.sk-label input.sk-toggleable__control:checked~label.sk-toggleable__label {background-color: #d4ebff;}#sk-container-id-1 input.sk-hidden--visually {border: 0;clip: rect(1px 1px 1px 1px);clip: rect(1px, 1px, 1px, 1px);height: 1px;margin: -1px;overflow: hidden;padding: 0;position: absolute;width: 1px;}#sk-container-id-1 div.sk-estimator {font-family: monospace;background-color: #f0f8ff;border: 1px dotted black;border-radius: 0.25em;box-sizing: border-box;margin-bottom: 0.5em;}#sk-container-id-1 div.sk-estimator:hover {background-color: #d4ebff;}#sk-container-id-1 div.sk-parallel-item::after {content: \"\";width: 100%;border-bottom: 1px solid gray;flex-grow: 1;}#sk-container-id-1 div.sk-label:hover label.sk-toggleable__label {background-color: #d4ebff;}#sk-container-id-1 div.sk-serial::before {content: \"\";position: absolute;border-left: 1px solid gray;box-sizing: border-box;top: 0;bottom: 0;left: 50%;z-index: 0;}#sk-container-id-1 div.sk-serial {display: flex;flex-direction: column;align-items: center;background-color: white;padding-right: 0.2em;padding-left: 0.2em;position: relative;}#sk-container-id-1 div.sk-item {position: relative;z-index: 1;}#sk-container-id-1 div.sk-parallel {display: flex;align-items: stretch;justify-content: center;background-color: white;position: relative;}#sk-container-id-1 div.sk-item::before, #sk-container-id-1 div.sk-parallel-item::before {content: \"\";position: absolute;border-left: 1px solid gray;box-sizing: border-box;top: 0;bottom: 0;left: 50%;z-index: -1;}#sk-container-id-1 div.sk-parallel-item {display: flex;flex-direction: column;z-index: 1;position: relative;background-color: white;}#sk-container-id-1 div.sk-parallel-item:first-child::after {align-self: flex-end;width: 50%;}#sk-container-id-1 div.sk-parallel-item:last-child::after {align-self: flex-start;width: 50%;}#sk-container-id-1 div.sk-parallel-item:only-child::after {width: 0;}#sk-container-id-1 div.sk-dashed-wrapped {border: 1px dashed gray;margin: 0 0.4em 0.5em 0.4em;box-sizing: border-box;padding-bottom: 0.4em;background-color: white;}#sk-container-id-1 div.sk-label label {font-family: monospace;font-weight: bold;display: inline-block;line-height: 1.2em;}#sk-container-id-1 div.sk-label-container {text-align: center;}#sk-container-id-1 div.sk-container {/* jupyter's `normalize.less` sets `[hidden] { display: none; }` but bootstrap.min.css set `[hidden] { display: none !important; }` so we also need the `!important` here to be able to override the default hidden behavior on the sphinx rendered scikit-learn.org. See: https://github.com/scikit-learn/scikit-learn/issues/21755 */display: inline-block !important;position: relative;}#sk-container-id-1 div.sk-text-repr-fallback {display: none;}</style><div id=\"sk-container-id-1\" class=\"sk-top-container\"><div class=\"sk-text-repr-fallback\"><pre>RandomForestClassifier(n_estimators=1000, n_jobs=-1, verbose=1)</pre><b>In a Jupyter environment, please rerun this cell to show the HTML representation or trust the notebook. <br />On GitHub, the HTML representation is unable to render, please try loading this page with nbviewer.org.</b></div><div class=\"sk-container\" hidden><div class=\"sk-item\"><div class=\"sk-estimator sk-toggleable\"><input class=\"sk-toggleable__control sk-hidden--visually\" id=\"sk-estimator-id-1\" type=\"checkbox\" checked><label for=\"sk-estimator-id-1\" class=\"sk-toggleable__label sk-toggleable__label-arrow\">RandomForestClassifier</label><div class=\"sk-toggleable__content\"><pre>RandomForestClassifier(n_estimators=1000, n_jobs=-1, verbose=1)</pre></div></div></div></div></div>"
      ],
      "text/plain": [
       "RandomForestClassifier(n_estimators=1000, n_jobs=-1, verbose=1)"
      ]
     },
     "execution_count": 25,
     "metadata": {},
     "output_type": "execute_result"
    }
   ],
   "source": [
    "# train model\n",
    "myModel.fit(X_train, y_train)"
   ]
  },
  {
   "cell_type": "code",
   "execution_count": 26,
   "id": "bd3ab641-f19a-40d1-b395-ab67e1015189",
   "metadata": {},
   "outputs": [
    {
     "name": "stderr",
     "output_type": "stream",
     "text": [
      "[Parallel(n_jobs=6)]: Using backend ThreadingBackend with 6 concurrent workers.\n",
      "[Parallel(n_jobs=6)]: Done  38 tasks      | elapsed:    0.0s\n",
      "[Parallel(n_jobs=6)]: Done 188 tasks      | elapsed:    0.3s\n",
      "[Parallel(n_jobs=6)]: Done 438 tasks      | elapsed:    0.6s\n",
      "[Parallel(n_jobs=6)]: Done 788 tasks      | elapsed:    1.2s\n",
      "[Parallel(n_jobs=6)]: Done 1000 out of 1000 | elapsed:    1.5s finished\n",
      "[Parallel(n_jobs=6)]: Using backend ThreadingBackend with 6 concurrent workers.\n",
      "[Parallel(n_jobs=6)]: Done  38 tasks      | elapsed:    0.0s\n",
      "[Parallel(n_jobs=6)]: Done 188 tasks      | elapsed:    0.2s\n",
      "[Parallel(n_jobs=6)]: Done 438 tasks      | elapsed:    0.6s\n",
      "[Parallel(n_jobs=6)]: Done 788 tasks      | elapsed:    1.1s\n",
      "[Parallel(n_jobs=6)]: Done 1000 out of 1000 | elapsed:    1.5s finished\n"
     ]
    }
   ],
   "source": [
    "# make predictions\n",
    "val_preds = myModel.predict(X_val)\n",
    "preds = myModel.predict(X_test)"
   ]
  },
  {
   "cell_type": "code",
   "execution_count": 28,
   "id": "82802db6-3868-4bd4-be86-d3ab77b19bbb",
   "metadata": {},
   "outputs": [
    {
     "name": "stdout",
     "output_type": "stream",
     "text": [
      "F1 Score: 0.3699481865284974\n",
      "Precision: 0.28836833602584816\n",
      "Recall: 0.5158959537572254\n",
      "F2 Score: 0.445581627558662\n"
     ]
    }
   ],
   "source": [
    "# evaluate on validation data\n",
    "f1 = f1_score(y_true=y_val, y_pred=val_preds)\n",
    "precision = precision_score(y_true=y_val, y_pred=val_preds)\n",
    "recall = recall_score(y_true=y_val, y_pred=val_preds)\n",
    "f2 = 5*precision*recall / (4*precision+recall)\n",
    "print(f\"F1 Score: {f1}\")\n",
    "print(f\"Precision: {precision}\")\n",
    "print(f\"Recall: {recall}\")\n",
    "print(f\"F2 Score: {f2}\")"
   ]
  },
  {
   "cell_type": "code",
   "execution_count": 29,
   "id": "6de169f0-6255-4ae8-a1a3-b1da368dfed2",
   "metadata": {},
   "outputs": [
    {
     "name": "stdout",
     "output_type": "stream",
     "text": [
      "F1 Score: 0.33935018050541516\n",
      "Precision: 0.26596604688763137\n",
      "Recall: 0.4686609686609687\n",
      "F2 Score: 0.40667490729295425\n",
      "              precision    recall  f1-score   support\n",
      "\n",
      "           0       0.96      0.91      0.94     10492\n",
      "           1       0.27      0.47      0.34       702\n",
      "\n",
      "    accuracy                           0.89     11194\n",
      "   macro avg       0.61      0.69      0.64     11194\n",
      "weighted avg       0.92      0.89      0.90     11194\n",
      "\n"
     ]
    },
    {
     "data": {
      "image/png": "[encoded data removed]",
      "text/plain": [
       "<Figure size 640x480 with 2 Axes>"
      ]
     },
     "metadata": {},
     "output_type": "display_data"
    }
   ],
   "source": [
    "# evaluate on test data\n",
    "f1 = f1_score(y_true=y_test, y_pred=preds)\n",
    "precision = precision_score(y_true=y_test, y_pred=preds)\n",
    "recall = recall_score(y_true=y_test, y_pred=preds)\n",
    "f2 = 5*precision*recall / (4*precision+recall)\n",
    "print(f\"F1 Score: {f1}\")\n",
    "print(f\"Precision: {precision}\")\n",
    "print(f\"Recall: {recall}\")\n",
    "print(f\"F2 Score: {f2}\")\n",
    "\n",
    "cm = confusion_matrix(y_test, preds)\n",
    "#print(cm)\n",
    "sn.heatmap(cm, annot=True)\n",
    "print(classification_report(y_test, preds))"
   ]
  },
  {
   "cell_type": "code",
   "execution_count": null,
   "id": "58a2f938-3f37-4839-817d-a6b4a4511aa0",
   "metadata": {},
   "outputs": [],
   "source": []
  }
 ],
 "metadata": {
  "kernelspec": {
   "display_name": "Python 3 (ipykernel)",
   "language": "python",
   "name": "python3"
  },
  "language_info": {
   "codemirror_mode": {
    "name": "ipython",
    "version": 3
   },
   "file_extension": ".py",
   "mimetype": "text/x-python",
   "name": "python",
   "nbconvert_exporter": "python",
   "pygments_lexer": "ipython3",
   "version": "3.9.19"
  }
 },
 "nbformat": 4,
 "nbformat_minor": 5
}
