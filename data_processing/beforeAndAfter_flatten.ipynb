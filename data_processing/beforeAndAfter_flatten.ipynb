{
 "cells": [
  {
   "cell_type": "code",
   "execution_count": 1,
   "id": "1b17bbdf",
   "metadata": {},
   "outputs": [],
   "source": [
    "import pandas as pd\n",
    "import os"
   ]
  },
  {
   "cell_type": "code",
   "execution_count": 4,
   "id": "d0389b91",
   "metadata": {},
   "outputs": [
    {
     "name": "stderr",
     "output_type": "stream",
     "text": [
      "C:\\Users\\Ilias\\AppData\\Local\\Temp\\ipykernel_7156\\1632423390.py:1: DtypeWarning: Columns (8,9) have mixed types. Specify dtype option on import or set low_memory=False.\n",
      "  df_all = pd.read_csv(os.path.join('..','data', 'full_dataset.csv'))\n"
     ]
    }
   ],
   "source": [
    "df_all = pd.read_csv(os.path.join('..','data', 'full_dataset.csv'))"
   ]
  },
  {
   "cell_type": "code",
   "execution_count": 5,
   "id": "35d6fedc",
   "metadata": {},
   "outputs": [],
   "source": [
    "# Create a new dataframe to store the modified data\n",
    "new_data = []\n",
    "name = \"Big-Vul\"\n",
    "\n",
    "# Iterate over each row in the original dataframe\n",
    "for index, row in df_all.iterrows():\n",
    "    # For vul=0, func is func_after\n",
    "    if row['vul'] == 0:\n",
    "        new_data.append({'func': row['func_after'], 'vul': 0})\n",
    "    # For vul=1, create two entries: one with func_before and vul=1, and one with func_after and vul=0\n",
    "    else:\n",
    "        new_data.append({'func': row['func_before'], 'vul': 1})\n",
    "        new_data.append({'func': row['func_after'], 'vul': 0})\n",
    "\n",
    "# Create a new dataframe from the modified data\n",
    "new_df = pd.DataFrame(new_data)\n",
    "\n",
    "new_df.to_csv(os.path.join('..','data', name+'_flat.csv'), index=False)\n"
   ]
  },
  {
   "cell_type": "code",
   "execution_count": 21,
   "id": "5134b069",
   "metadata": {},
   "outputs": [
    {
     "data": {
      "text/plain": [
       "48816"
      ]
     },
     "execution_count": 21,
     "metadata": {},
     "output_type": "execute_result"
    }
   ],
   "source": []
  }
 ],
 "metadata": {
  "kernelspec": {
   "display_name": "Python 3 (ipykernel)",
   "language": "python",
   "name": "python3"
  },
  "language_info": {
   "codemirror_mode": {
    "name": "ipython",
    "version": 3
   },
   "file_extension": ".py",
   "mimetype": "text/x-python",
   "name": "python",
   "nbconvert_exporter": "python",
   "pygments_lexer": "ipython3",
   "version": "3.9.12"
  }
 },
 "nbformat": 4,
 "nbformat_minor": 5
}
