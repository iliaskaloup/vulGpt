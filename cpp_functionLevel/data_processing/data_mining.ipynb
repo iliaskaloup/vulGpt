{
 "cells": [
  {
   "cell_type": "code",
   "execution_count": 1,
   "id": "91240d23",
   "metadata": {},
   "outputs": [],
   "source": [
    "import json\n",
    "import pandas as pd\n",
    "import os"
   ]
  },
  {
   "cell_type": "code",
   "execution_count": 2,
   "id": "a34449ac",
   "metadata": {},
   "outputs": [
    {
     "data": {
      "text/plain": [
       "'..\\\\..'"
      ]
     },
     "execution_count": 2,
     "metadata": {},
     "output_type": "execute_result"
    }
   ],
   "source": [
    "root_path = os.path.join('..', '..')\n",
    "root_path"
   ]
  },
  {
   "cell_type": "code",
   "execution_count": 3,
   "id": "cc9f1af9",
   "metadata": {},
   "outputs": [],
   "source": [
    "def readData(filename):\n",
    "    with open(filename,'r+') as file:\n",
    "        dataset  = json.load(file)\n",
    "    return dataset"
   ]
  },
  {
   "cell_type": "code",
   "execution_count": 4,
   "id": "441ca9b6",
   "metadata": {},
   "outputs": [],
   "source": [
    "data = readData(os.path.join(root_path, 'MSR_data_cleaned.json'))"
   ]
  },
  {
   "cell_type": "code",
   "execution_count": 5,
   "id": "464d17db",
   "metadata": {},
   "outputs": [],
   "source": [
    "df = pd.DataFrame(data)"
   ]
  },
  {
   "cell_type": "code",
   "execution_count": 6,
   "id": "ffeda24b",
   "metadata": {},
   "outputs": [
    {
     "data": {
      "text/plain": [
       "Index(['', 'Access Gained', 'Attack Origin', 'Authentication Required',\n",
       "       'Availability', 'CVE ID', 'CVE Page', 'CWE ID', 'Complexity',\n",
       "       'Confidentiality', 'Integrity', 'Known Exploits', 'Publish Date',\n",
       "       'Score', 'Summary', 'Update Date', 'Vulnerability Classification',\n",
       "       'add_lines', 'codeLink', 'commit_id', 'commit_message', 'del_lines',\n",
       "       'file_name', 'files_changed', 'func_after', 'func_before', 'lang',\n",
       "       'lines_after', 'lines_before', 'parentID', 'patch', 'project',\n",
       "       'project_after', 'project_before', 'vul', 'vul_func_with_fix'],\n",
       "      dtype='object')"
      ]
     },
     "execution_count": 6,
     "metadata": {},
     "output_type": "execute_result"
    }
   ],
   "source": [
    "df.index"
   ]
  },
  {
   "cell_type": "code",
   "execution_count": 7,
   "id": "0ab4709c",
   "metadata": {},
   "outputs": [],
   "source": [
    "transposed_df = df.transpose()"
   ]
  },
  {
   "cell_type": "code",
   "execution_count": 8,
   "id": "a1bde2c4",
   "metadata": {},
   "outputs": [],
   "source": [
    "columns_to_keep = [\"vul\", \"lang\", \"project\", \"func_after\", \"func_before\", \"vul_func_with_fix\", \"Score\", \"Vulnerability Classification\", \"lines_after\", \"lines_before\"]\n",
    "\n",
    "# Keep only the specified columns\n",
    "df_subset = transposed_df[columns_to_keep]"
   ]
  },
  {
   "cell_type": "code",
   "execution_count": 9,
   "id": "2dcbca1e",
   "metadata": {},
   "outputs": [],
   "source": [
    "# columns_to_keep = [\"project\", \"lang\", \"vul\", \"func_after\", \"func_before\"]\n",
    "\n",
    "# # Keep only the specified columns\n",
    "# df_subset = df_subset[columns_to_keep]"
   ]
  },
  {
   "cell_type": "code",
   "execution_count": 10,
   "id": "2558cf7f",
   "metadata": {},
   "outputs": [
    {
     "data": {
      "text/html": [
       "<div>\n",
       "<style scoped>\n",
       "    .dataframe tbody tr th:only-of-type {\n",
       "        vertical-align: middle;\n",
       "    }\n",
       "\n",
       "    .dataframe tbody tr th {\n",
       "        vertical-align: top;\n",
       "    }\n",
       "\n",
       "    .dataframe thead th {\n",
       "        text-align: right;\n",
       "    }\n",
       "</style>\n",
       "<table border=\"1\" class=\"dataframe\">\n",
       "  <thead>\n",
       "    <tr style=\"text-align: right;\">\n",
       "      <th></th>\n",
       "      <th>vul</th>\n",
       "      <th>lang</th>\n",
       "      <th>project</th>\n",
       "      <th>func_after</th>\n",
       "      <th>func_before</th>\n",
       "      <th>vul_func_with_fix</th>\n",
       "      <th>Score</th>\n",
       "      <th>Vulnerability Classification</th>\n",
       "      <th>lines_after</th>\n",
       "      <th>lines_before</th>\n",
       "    </tr>\n",
       "  </thead>\n",
       "  <tbody>\n",
       "    <tr>\n",
       "      <th>0</th>\n",
       "      <td>0</td>\n",
       "      <td>C</td>\n",
       "      <td>samba</td>\n",
       "      <td>static bool check_rodc_critical_attribute(stru...</td>\n",
       "      <td>static bool check_rodc_critical_attribute(stru...</td>\n",
       "      <td>static bool check_rodc_critical_attribute(stru...</td>\n",
       "      <td>6.0</td>\n",
       "      <td>Bypass</td>\n",
       "      <td></td>\n",
       "      <td></td>\n",
       "    </tr>\n",
       "    <tr>\n",
       "      <th>1</th>\n",
       "      <td>0</td>\n",
       "      <td>C</td>\n",
       "      <td>samba</td>\n",
       "      <td>static int samldb_add_entry(struct samldb_ctx ...</td>\n",
       "      <td>static int samldb_add_entry(struct samldb_ctx ...</td>\n",
       "      <td>static int samldb_add_entry(struct samldb_ctx ...</td>\n",
       "      <td>6.0</td>\n",
       "      <td>Bypass</td>\n",
       "      <td></td>\n",
       "      <td></td>\n",
       "    </tr>\n",
       "    <tr>\n",
       "      <th>2</th>\n",
       "      <td>0</td>\n",
       "      <td>C</td>\n",
       "      <td>samba</td>\n",
       "      <td>static int samldb_add_entry_callback(struct ld...</td>\n",
       "      <td>static int samldb_add_entry_callback(struct ld...</td>\n",
       "      <td>static int samldb_add_entry_callback(struct ld...</td>\n",
       "      <td>6.0</td>\n",
       "      <td>Bypass</td>\n",
       "      <td></td>\n",
       "      <td></td>\n",
       "    </tr>\n",
       "    <tr>\n",
       "      <th>3</th>\n",
       "      <td>0</td>\n",
       "      <td>C</td>\n",
       "      <td>samba</td>\n",
       "      <td>static int samldb_add_handle_msDS_IntId(struct...</td>\n",
       "      <td>static int samldb_add_handle_msDS_IntId(struct...</td>\n",
       "      <td>static int samldb_add_handle_msDS_IntId(struct...</td>\n",
       "      <td>6.0</td>\n",
       "      <td>Bypass</td>\n",
       "      <td></td>\n",
       "      <td></td>\n",
       "    </tr>\n",
       "    <tr>\n",
       "      <th>4</th>\n",
       "      <td>0</td>\n",
       "      <td>C</td>\n",
       "      <td>samba</td>\n",
       "      <td>static int samldb_add_step(struct samldb_ctx *...</td>\n",
       "      <td>static int samldb_add_step(struct samldb_ctx *...</td>\n",
       "      <td>static int samldb_add_step(struct samldb_ctx *...</td>\n",
       "      <td>6.0</td>\n",
       "      <td>Bypass</td>\n",
       "      <td></td>\n",
       "      <td></td>\n",
       "    </tr>\n",
       "    <tr>\n",
       "      <th>...</th>\n",
       "      <td>...</td>\n",
       "      <td>...</td>\n",
       "      <td>...</td>\n",
       "      <td>...</td>\n",
       "      <td>...</td>\n",
       "      <td>...</td>\n",
       "      <td>...</td>\n",
       "      <td>...</td>\n",
       "      <td>...</td>\n",
       "      <td>...</td>\n",
       "    </tr>\n",
       "    <tr>\n",
       "      <th>188631</th>\n",
       "      <td>1</td>\n",
       "      <td>C</td>\n",
       "      <td>Android</td>\n",
       "      <td>void impeg2d_dec_p_mb_params(dec_state_t *ps_d...</td>\n",
       "      <td>void impeg2d_dec_p_mb_params(dec_state_t *ps_d...</td>\n",
       "      <td>void impeg2d_dec_p_mb_params(dec_state_t *ps_d...</td>\n",
       "      <td>10.0</td>\n",
       "      <td>DoS Exec Code Overflow Mem. Corr.</td>\n",
       "      <td>WORD32  impeg2d_dec_p_mb_params(dec_state_t *p...</td>\n",
       "      <td></td>\n",
       "    </tr>\n",
       "    <tr>\n",
       "      <th>188632</th>\n",
       "      <td>1</td>\n",
       "      <td>C</td>\n",
       "      <td>Android</td>\n",
       "      <td>void impeg2d_dec_pnb_mb_params(dec_state_t *ps...</td>\n",
       "      <td>void impeg2d_dec_pnb_mb_params(dec_state_t *ps...</td>\n",
       "      <td>void impeg2d_dec_pnb_mb_params(dec_state_t *ps...</td>\n",
       "      <td>10.0</td>\n",
       "      <td>DoS Exec Code Overflow Mem. Corr.</td>\n",
       "      <td>WORD32 impeg2d_dec_pnb_mb_params(dec_state_t *...</td>\n",
       "      <td></td>\n",
       "    </tr>\n",
       "    <tr>\n",
       "      <th>188633</th>\n",
       "      <td>1</td>\n",
       "      <td>C</td>\n",
       "      <td>Android</td>\n",
       "      <td>int equalizer_get_parameter(effect_context_t *...</td>\n",
       "      <td>int equalizer_get_parameter(effect_context_t *...</td>\n",
       "      <td>int equalizer_get_parameter(effect_context_t *...</td>\n",
       "      <td>4.3</td>\n",
       "      <td>+Info</td>\n",
       "      <td>if (param2 &lt; 0 || param2 &gt;= NUM_EQ_BAN...</td>\n",
       "      <td>if (param2 &gt;= NUM_EQ_BANDS) {\\n       ...</td>\n",
       "    </tr>\n",
       "    <tr>\n",
       "      <th>188634</th>\n",
       "      <td>1</td>\n",
       "      <td>C</td>\n",
       "      <td>Android</td>\n",
       "      <td>uint8_t rfc_parse_data(tRFC_MCB* p_mcb, MX_FRA...</td>\n",
       "      <td>uint8_t rfc_parse_data(tRFC_MCB* p_mcb, MX_FRA...</td>\n",
       "      <td>uint8_t rfc_parse_data(tRFC_MCB* p_mcb, MX_FRA...</td>\n",
       "      <td>7.8</td>\n",
       "      <td></td>\n",
       "      <td>\\n  eal = *(p_data)&amp;RFCOMM_EA;\\n  len = *(p_da...</td>\n",
       "      <td>RFCOMM_PARSE_LEN_FIELD(eal, len, p_data);\\n</td>\n",
       "    </tr>\n",
       "    <tr>\n",
       "      <th>188635</th>\n",
       "      <td>1</td>\n",
       "      <td>C</td>\n",
       "      <td>Android</td>\n",
       "      <td>uint8_t rfc_parse_data(tRFC_MCB* p_mcb, MX_FRA...</td>\n",
       "      <td>uint8_t rfc_parse_data(tRFC_MCB* p_mcb, MX_FRA...</td>\n",
       "      <td>uint8_t rfc_parse_data(tRFC_MCB* p_mcb, MX_FRA...</td>\n",
       "      <td>7.8</td>\n",
       "      <td></td>\n",
       "      <td>if (eal == 0 &amp;&amp; p_buf-&gt;len &gt; RFCOMM_CTRL_FRA...</td>\n",
       "      <td>if (eal == 0 &amp;&amp; p_buf-&gt;len &lt; RFCOMM_CTRL_FRA...</td>\n",
       "    </tr>\n",
       "  </tbody>\n",
       "</table>\n",
       "<p>188636 rows × 10 columns</p>\n",
       "</div>"
      ],
      "text/plain": [
       "       vul lang  project                                         func_after  \\\n",
       "0        0    C    samba  static bool check_rodc_critical_attribute(stru...   \n",
       "1        0    C    samba  static int samldb_add_entry(struct samldb_ctx ...   \n",
       "2        0    C    samba  static int samldb_add_entry_callback(struct ld...   \n",
       "3        0    C    samba  static int samldb_add_handle_msDS_IntId(struct...   \n",
       "4        0    C    samba  static int samldb_add_step(struct samldb_ctx *...   \n",
       "...     ..  ...      ...                                                ...   \n",
       "188631   1    C  Android  void impeg2d_dec_p_mb_params(dec_state_t *ps_d...   \n",
       "188632   1    C  Android  void impeg2d_dec_pnb_mb_params(dec_state_t *ps...   \n",
       "188633   1    C  Android  int equalizer_get_parameter(effect_context_t *...   \n",
       "188634   1    C  Android  uint8_t rfc_parse_data(tRFC_MCB* p_mcb, MX_FRA...   \n",
       "188635   1    C  Android  uint8_t rfc_parse_data(tRFC_MCB* p_mcb, MX_FRA...   \n",
       "\n",
       "                                              func_before  \\\n",
       "0       static bool check_rodc_critical_attribute(stru...   \n",
       "1       static int samldb_add_entry(struct samldb_ctx ...   \n",
       "2       static int samldb_add_entry_callback(struct ld...   \n",
       "3       static int samldb_add_handle_msDS_IntId(struct...   \n",
       "4       static int samldb_add_step(struct samldb_ctx *...   \n",
       "...                                                   ...   \n",
       "188631  void impeg2d_dec_p_mb_params(dec_state_t *ps_d...   \n",
       "188632  void impeg2d_dec_pnb_mb_params(dec_state_t *ps...   \n",
       "188633  int equalizer_get_parameter(effect_context_t *...   \n",
       "188634  uint8_t rfc_parse_data(tRFC_MCB* p_mcb, MX_FRA...   \n",
       "188635  uint8_t rfc_parse_data(tRFC_MCB* p_mcb, MX_FRA...   \n",
       "\n",
       "                                        vul_func_with_fix Score  \\\n",
       "0       static bool check_rodc_critical_attribute(stru...   6.0   \n",
       "1       static int samldb_add_entry(struct samldb_ctx ...   6.0   \n",
       "2       static int samldb_add_entry_callback(struct ld...   6.0   \n",
       "3       static int samldb_add_handle_msDS_IntId(struct...   6.0   \n",
       "4       static int samldb_add_step(struct samldb_ctx *...   6.0   \n",
       "...                                                   ...   ...   \n",
       "188631  void impeg2d_dec_p_mb_params(dec_state_t *ps_d...  10.0   \n",
       "188632  void impeg2d_dec_pnb_mb_params(dec_state_t *ps...  10.0   \n",
       "188633  int equalizer_get_parameter(effect_context_t *...   4.3   \n",
       "188634  uint8_t rfc_parse_data(tRFC_MCB* p_mcb, MX_FRA...   7.8   \n",
       "188635  uint8_t rfc_parse_data(tRFC_MCB* p_mcb, MX_FRA...   7.8   \n",
       "\n",
       "              Vulnerability Classification  \\\n",
       "0                                   Bypass   \n",
       "1                                   Bypass   \n",
       "2                                   Bypass   \n",
       "3                                   Bypass   \n",
       "4                                   Bypass   \n",
       "...                                    ...   \n",
       "188631  DoS Exec Code Overflow Mem. Corr.    \n",
       "188632  DoS Exec Code Overflow Mem. Corr.    \n",
       "188633                              +Info    \n",
       "188634                                       \n",
       "188635                                       \n",
       "\n",
       "                                              lines_after  \\\n",
       "0                                                           \n",
       "1                                                           \n",
       "2                                                           \n",
       "3                                                           \n",
       "4                                                           \n",
       "...                                                   ...   \n",
       "188631  WORD32  impeg2d_dec_p_mb_params(dec_state_t *p...   \n",
       "188632  WORD32 impeg2d_dec_pnb_mb_params(dec_state_t *...   \n",
       "188633          if (param2 < 0 || param2 >= NUM_EQ_BAN...   \n",
       "188634  \\n  eal = *(p_data)&RFCOMM_EA;\\n  len = *(p_da...   \n",
       "188635    if (eal == 0 && p_buf->len > RFCOMM_CTRL_FRA...   \n",
       "\n",
       "                                             lines_before  \n",
       "0                                                          \n",
       "1                                                          \n",
       "2                                                          \n",
       "3                                                          \n",
       "4                                                          \n",
       "...                                                   ...  \n",
       "188631                                                     \n",
       "188632                                                     \n",
       "188633          if (param2 >= NUM_EQ_BANDS) {\\n       ...  \n",
       "188634        RFCOMM_PARSE_LEN_FIELD(eal, len, p_data);\\n  \n",
       "188635    if (eal == 0 && p_buf->len < RFCOMM_CTRL_FRA...  \n",
       "\n",
       "[188636 rows x 10 columns]"
      ]
     },
     "execution_count": 10,
     "metadata": {},
     "output_type": "execute_result"
    }
   ],
   "source": [
    "df_subset"
   ]
  },
  {
   "cell_type": "code",
   "execution_count": 11,
   "id": "454f3283",
   "metadata": {},
   "outputs": [
    {
     "data": {
      "text/plain": [
       "<AxesSubplot: >"
      ]
     },
     "execution_count": 11,
     "metadata": {},
     "output_type": "execute_result"
    },
    {
     "data": {
      "image/png": "[encoded data removed]",
      "text/plain": [
       "<Figure size 640x480 with 1 Axes>"
      ]
     },
     "metadata": {},
     "output_type": "display_data"
    }
   ],
   "source": [
    "df_subset['lang'].value_counts(normalize = False).plot.bar()"
   ]
  },
  {
   "cell_type": "code",
   "execution_count": 12,
   "id": "750dfc86",
   "metadata": {},
   "outputs": [
    {
     "data": {
      "text/plain": [
       "<AxesSubplot: >"
      ]
     },
     "execution_count": 12,
     "metadata": {},
     "output_type": "execute_result"
    },
    {
     "data": {
      "image/png": "[encoded data removed]",
      "text/plain": [
       "<Figure size 640x480 with 1 Axes>"
      ]
     },
     "metadata": {},
     "output_type": "display_data"
    }
   ],
   "source": [
    "df_subset['vul'].value_counts(normalize = False).plot.bar()"
   ]
  },
  {
   "cell_type": "code",
   "execution_count": 13,
   "id": "8b5f43a5",
   "metadata": {},
   "outputs": [
    {
     "name": "stdout",
     "output_type": "stream",
     "text": [
      "Chrome         77173\n",
      "linux          46855\n",
      "Android         8691\n",
      "qemu            3096\n",
      "php             2709\n",
      "               ...  \n",
      "libbsd             1\n",
      "libICE             1\n",
      "torque             1\n",
      "yodl               1\n",
      "libtomcrypt        1\n",
      "Name: project, Length: 310, dtype: int64\n"
     ]
    }
   ],
   "source": [
    "print(df_subset[\"project\"].value_counts())"
   ]
  },
  {
   "cell_type": "code",
   "execution_count": 14,
   "id": "b7b4bfca",
   "metadata": {},
   "outputs": [
    {
     "name": "stdout",
     "output_type": "stream",
     "text": [
      "                                   55916\n",
      "DoS                                49000\n",
      "DoS Overflow                       13333\n",
      "+Info                              10192\n",
      "Bypass                              8549\n",
      "                                   ...  \n",
      "DoS Exec Code Mem. Corr. Bypass        8\n",
      "Overflow +Info                         7\n",
      "Dir. Trav. Bypass                      4\n",
      "Exec Code Mem. Corr. +Info             3\n",
      "Exec Code XSS                          2\n",
      "Name: Vulnerability Classification, Length: 76, dtype: int64\n"
     ]
    }
   ],
   "source": [
    "print(df_subset[\"Vulnerability Classification\"].value_counts())"
   ]
  },
  {
   "cell_type": "code",
   "execution_count": 15,
   "id": "03263686",
   "metadata": {},
   "outputs": [],
   "source": [
    "#df_subset.to_csv(os.path.join('..', \"data\", 'full_dataset.csv'), index=False)"
   ]
  },
  {
   "cell_type": "code",
   "execution_count": 29,
   "id": "689140c6",
   "metadata": {},
   "outputs": [],
   "source": [
    "# Create a new dataframe to store the modified data\n",
    "new_data = []\n",
    "\n",
    "# Iterate over each row in the original dataframe\n",
    "for index, row in df_subset.iterrows():\n",
    "    # For vul=0, func is func_after\n",
    "    if row['vul'] == '0':\n",
    "        new_data.append({'func': row['func_after'], 'vul': 0})\n",
    "    # For vul=1, create two entries: one with func_before and vul=1, and one with func_after and vul=0\n",
    "    else:\n",
    "        new_data.append({'func': row['func_before'], 'vul': 1})\n",
    "        new_data.append({'func': row['func_after'], 'vul': 0})\n",
    "\n",
    "# Create a new dataframe from the modified data\n",
    "new_df = pd.DataFrame(new_data)\n",
    "\n",
    "new_df.to_csv(os.path.join('..','data', \"dataset.csv\"), index=False)\n"
   ]
  }
 ],
 "metadata": {
  "kernelspec": {
   "display_name": "Python 3 (ipykernel)",
   "language": "python",
   "name": "python3"
  },
  "language_info": {
   "codemirror_mode": {
    "name": "ipython",
    "version": 3
   },
   "file_extension": ".py",
   "mimetype": "text/x-python",
   "name": "python",
   "nbconvert_exporter": "python",
   "pygments_lexer": "ipython3",
   "version": "3.9.19"
  }
 },
 "nbformat": 4,
 "nbformat_minor": 5
}
