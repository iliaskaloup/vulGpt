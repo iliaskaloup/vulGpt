{
 "cells": [
  {
   "cell_type": "code",
   "execution_count": 1,
   "id": "f6643e7b-6ca2-4d79-8847-fe3cd412ce88",
   "metadata": {},
   "outputs": [],
   "source": [
    "# byte-level BPE\n",
    "# CodeBERT is based on RoBERTa, which has the same architecture as BERT, but uses a byte-level BPE as a tokenizer (same as GPT-2) "
   ]
  },
  {
   "cell_type": "code",
   "execution_count": 70,
   "id": "7efd1828-123a-4053-9cd7-509770a5f481",
   "metadata": {},
   "outputs": [],
   "source": [
    "import torch\n",
    "import torch.nn as nn\n",
    "\n",
    "from transformers import set_seed\n",
    "from transformers import AdamWeightDecay\n",
    "from transformers import AutoTokenizer\n",
    "from transformers import RobertaTokenizer\n",
    "\n",
    "import numpy as np\n",
    "import os\n",
    "import pandas as pd\n",
    "import random\n",
    "\n",
    "from sklearn.model_selection import train_test_split\n"
   ]
  },
  {
   "cell_type": "code",
   "execution_count": 71,
   "id": "e329edd3-8194-451b-aad9-0989cd169ce9",
   "metadata": {},
   "outputs": [],
   "source": [
    "# Initialize seeder and randomness\n",
    "seed = 123\n",
    "np.random.seed(seed)\n",
    "random.seed(seed)\n",
    "torch.manual_seed(seed)\n",
    "set_seed(seed)"
   ]
  },
  {
   "cell_type": "code",
   "execution_count": 72,
   "id": "cb1bbdd9-359f-4901-9465-5b20328a5d0a",
   "metadata": {},
   "outputs": [
    {
     "name": "stdout",
     "output_type": "stream",
     "text": [
      "cuda:0\n"
     ]
    }
   ],
   "source": [
    "if torch.cuda.is_available():  \n",
    "    dev = \"cuda:0\" \n",
    "else:  \n",
    "    dev = \"cpu\"  \n",
    "device = torch.device(dev)  \n",
    "print(device)"
   ]
  },
  {
   "cell_type": "code",
   "execution_count": 73,
   "id": "bbd85ce6-c8f8-48fe-9a89-721f97940e62",
   "metadata": {},
   "outputs": [],
   "source": [
    "root_path = os.path.join('..', '..')\n",
    "data = pd.read_csv(os.path.join(root_path, 'data', 'dataset.csv'))"
   ]
  },
  {
   "cell_type": "code",
   "execution_count": 74,
   "id": "8dfcc606-8ccf-4e0d-816c-5132b330a82e",
   "metadata": {},
   "outputs": [
    {
     "name": "stdout",
     "output_type": "stream",
     "text": [
      "                                                func  vul\n",
      "0  static int ipip_rcv(struct sk_buff *skb)\\n{\\n\\...    0\n",
      "1  bool LayerTreeHostImpl::IsUIResourceOpaque(UIR...    0\n",
      "2  error::Error GLES2DecoderPassthroughImpl::DoGe...    0\n",
      "3  void DocumentLoader::NotifyFinished(Resource* ...    0\n",
      "4  void conn_free(conn *c) {\\n    if (c) {\\n     ...    0\n",
      "199536\n"
     ]
    }
   ],
   "source": [
    "data = data.sample(frac=1, random_state=seed).reset_index(drop=True)\n",
    "print(data.head())\n",
    "print(len(data))"
   ]
  },
  {
   "cell_type": "code",
   "execution_count": 75,
   "id": "531dd22c-6f2f-478b-9887-94ae0f280013",
   "metadata": {},
   "outputs": [],
   "source": [
    "data = data.dropna(subset=[\"func\"])"
   ]
  },
  {
   "cell_type": "code",
   "execution_count": 76,
   "id": "e066d7ab-383d-4b09-bbd8-cb1856907598",
   "metadata": {},
   "outputs": [
    {
     "name": "stdout",
     "output_type": "stream",
     "text": [
      "Maximum number of words: 15441\n"
     ]
    }
   ],
   "source": [
    "word_counts = data[\"func\"].apply(lambda x: len(x.split()))\n",
    "max_length = word_counts.max()\n",
    "print(\"Maximum number of words:\", max_length)"
   ]
  },
  {
   "cell_type": "code",
   "execution_count": 77,
   "id": "631a9b08-3587-4689-bb7a-3525d93d10a8",
   "metadata": {},
   "outputs": [
    {
     "data": {
      "text/html": [
       "<div>\n",
       "<style scoped>\n",
       "    .dataframe tbody tr th:only-of-type {\n",
       "        vertical-align: middle;\n",
       "    }\n",
       "\n",
       "    .dataframe tbody tr th {\n",
       "        vertical-align: top;\n",
       "    }\n",
       "\n",
       "    .dataframe thead th {\n",
       "        text-align: right;\n",
       "    }\n",
       "</style>\n",
       "<table border=\"1\" class=\"dataframe\">\n",
       "  <thead>\n",
       "    <tr style=\"text-align: right;\">\n",
       "      <th></th>\n",
       "      <th>Text</th>\n",
       "      <th>Labels</th>\n",
       "    </tr>\n",
       "  </thead>\n",
       "  <tbody>\n",
       "    <tr>\n",
       "      <th>0</th>\n",
       "      <td>static int ipip_rcv(struct sk_buff *skb)\\n{\\n\\...</td>\n",
       "      <td>0</td>\n",
       "    </tr>\n",
       "    <tr>\n",
       "      <th>1</th>\n",
       "      <td>bool LayerTreeHostImpl::IsUIResourceOpaque(UIR...</td>\n",
       "      <td>0</td>\n",
       "    </tr>\n",
       "    <tr>\n",
       "      <th>2</th>\n",
       "      <td>error::Error GLES2DecoderPassthroughImpl::DoGe...</td>\n",
       "      <td>0</td>\n",
       "    </tr>\n",
       "    <tr>\n",
       "      <th>3</th>\n",
       "      <td>void DocumentLoader::NotifyFinished(Resource* ...</td>\n",
       "      <td>0</td>\n",
       "    </tr>\n",
       "    <tr>\n",
       "      <th>4</th>\n",
       "      <td>void conn_free(conn *c) {\\n    if (c) {\\n     ...</td>\n",
       "      <td>0</td>\n",
       "    </tr>\n",
       "  </tbody>\n",
       "</table>\n",
       "</div>"
      ],
      "text/plain": [
       "                                                Text  Labels\n",
       "0  static int ipip_rcv(struct sk_buff *skb)\\n{\\n\\...       0\n",
       "1  bool LayerTreeHostImpl::IsUIResourceOpaque(UIR...       0\n",
       "2  error::Error GLES2DecoderPassthroughImpl::DoGe...       0\n",
       "3  void DocumentLoader::NotifyFinished(Resource* ...       0\n",
       "4  void conn_free(conn *c) {\\n    if (c) {\\n     ...       0"
      ]
     },
     "execution_count": 77,
     "metadata": {},
     "output_type": "execute_result"
    }
   ],
   "source": [
    "data = pd.DataFrame(({'Text': data['func'], 'Labels': data['vul']}))\n",
    "#data = data[0:100]\n",
    "data.head()"
   ]
  },
  {
   "cell_type": "code",
   "execution_count": 78,
   "id": "2208e4fb-9ebd-49df-9380-859edaccc65c",
   "metadata": {},
   "outputs": [],
   "source": [
    "val_ratio = 0.10"
   ]
  },
  {
   "cell_type": "code",
   "execution_count": 79,
   "id": "7c1a4de5-f491-40a0-9c0c-720aab63bbc2",
   "metadata": {},
   "outputs": [],
   "source": [
    "shuffle_seeders = [seed, 10, 15, 20, 25, 30, 35, 40, 45, 50]\n",
    "shuffle_seeder = shuffle_seeders[0]\n",
    "\n",
    "train_val_data, test_data = train_test_split(data, test_size=val_ratio, random_state=shuffle_seeder, stratify=data['Labels'])\n",
    "train_data, val_data = train_test_split(train_val_data, test_size=val_ratio, random_state=shuffle_seeder, stratify=train_val_data['Labels'])\n"
   ]
  },
  {
   "cell_type": "markdown",
   "id": "e876c9bb-3de1-4670-a2d0-c432cd74369f",
   "metadata": {},
   "source": [
    "Train tokenizer on train_data"
   ]
  },
  {
   "cell_type": "code",
   "execution_count": 80,
   "id": "986613a8-dd75-49d5-8357-9c37fef45490",
   "metadata": {},
   "outputs": [
    {
     "data": {
      "text/html": [
       "<div>\n",
       "<style scoped>\n",
       "    .dataframe tbody tr th:only-of-type {\n",
       "        vertical-align: middle;\n",
       "    }\n",
       "\n",
       "    .dataframe tbody tr th {\n",
       "        vertical-align: top;\n",
       "    }\n",
       "\n",
       "    .dataframe thead th {\n",
       "        text-align: right;\n",
       "    }\n",
       "</style>\n",
       "<table border=\"1\" class=\"dataframe\">\n",
       "  <thead>\n",
       "    <tr style=\"text-align: right;\">\n",
       "      <th></th>\n",
       "      <th>Text</th>\n",
       "      <th>Labels</th>\n",
       "    </tr>\n",
       "  </thead>\n",
       "  <tbody>\n",
       "    <tr>\n",
       "      <th>132528</th>\n",
       "      <td>qreal OxideQQuickWebView::viewportHeight() con...</td>\n",
       "      <td>0</td>\n",
       "    </tr>\n",
       "    <tr>\n",
       "      <th>147231</th>\n",
       "      <td>static std::pair&lt;blink::Image*, float&gt; BrokenC...</td>\n",
       "      <td>0</td>\n",
       "    </tr>\n",
       "    <tr>\n",
       "      <th>120483</th>\n",
       "      <td>void HttpResponseHeaders::AddHeader(const std...</td>\n",
       "      <td>1</td>\n",
       "    </tr>\n",
       "    <tr>\n",
       "      <th>137970</th>\n",
       "      <td>static void cachedAttribute2AttributeGetter(co...</td>\n",
       "      <td>0</td>\n",
       "    </tr>\n",
       "    <tr>\n",
       "      <th>38999</th>\n",
       "      <td>void ChromeDownloadManagerDelegate::CheckDownl...</td>\n",
       "      <td>0</td>\n",
       "    </tr>\n",
       "  </tbody>\n",
       "</table>\n",
       "</div>"
      ],
      "text/plain": [
       "                                                     Text  Labels\n",
       "132528  qreal OxideQQuickWebView::viewportHeight() con...       0\n",
       "147231  static std::pair<blink::Image*, float> BrokenC...       0\n",
       "120483   void HttpResponseHeaders::AddHeader(const std...       1\n",
       "137970  static void cachedAttribute2AttributeGetter(co...       0\n",
       "38999   void ChromeDownloadManagerDelegate::CheckDownl...       0"
      ]
     },
     "execution_count": 80,
     "metadata": {},
     "output_type": "execute_result"
    }
   ],
   "source": [
    "train_data.head()"
   ]
  },
  {
   "cell_type": "code",
   "execution_count": 81,
   "id": "37fbe673-87cf-48b2-8fa6-35190781fe61",
   "metadata": {},
   "outputs": [
    {
     "data": {
      "text/plain": [
       "132528    qreal OxideQQuickWebView::viewportHeight() con...\n",
       "147231    static std::pair<blink::Image*, float> BrokenC...\n",
       "120483     void HttpResponseHeaders::AddHeader(const std...\n",
       "137970    static void cachedAttribute2AttributeGetter(co...\n",
       "38999     void ChromeDownloadManagerDelegate::CheckDownl...\n",
       "Name: Text, dtype: object"
      ]
     },
     "execution_count": 81,
     "metadata": {},
     "output_type": "execute_result"
    }
   ],
   "source": [
    "train_data[\"Text\"].head()"
   ]
  },
  {
   "cell_type": "code",
   "execution_count": 82,
   "id": "ebd94313-ffb0-4eb8-afd1-c322bac444cf",
   "metadata": {},
   "outputs": [],
   "source": [
    "text = train_data[\"Text\"].values.tolist()"
   ]
  },
  {
   "cell_type": "code",
   "execution_count": 89,
   "id": "84cbb476-1478-41e9-be6a-d188db95c9bd",
   "metadata": {},
   "outputs": [],
   "source": [
    "# Write each function to the file\n",
    "file_path = os.path.join(root_path, 'data', 'tokenizer_train_data.txt')\n",
    "\n",
    "with open(file_path, \"w\", encoding=\"utf-8\") as file:\n",
    "    for function in text:\n",
    "        file.write(function + \"\\n\")"
   ]
  },
  {
   "cell_type": "markdown",
   "id": "01f7565e-1d0d-47bb-ae4c-6342cb36a7a5",
   "metadata": {},
   "source": [
    "Train a new C++ BPE Roberta-base tokenizer to use in the vulnerability prediction analysis"
   ]
  },
  {
   "cell_type": "code",
   "execution_count": 90,
   "id": "f25197a0-852c-40e8-9f0e-dc06527e1642",
   "metadata": {},
   "outputs": [
    {
     "data": {
      "text/plain": [
       "Tokenizer(vocabulary_size=0, model=ByteLevelBPE, add_prefix_space=False, lowercase=False, dropout=None, unicode_normalizer=None, continuing_subword_prefix=None, end_of_word_suffix=None, trim_offsets=False)"
      ]
     },
     "execution_count": 90,
     "metadata": {},
     "output_type": "execute_result"
    }
   ],
   "source": [
    "tokenizer = ByteLevelBPETokenizer()\n",
    "tokenizer"
   ]
  },
  {
   "cell_type": "code",
   "execution_count": 95,
   "id": "db23322d-2353-436b-baf4-cfe0e6a07739",
   "metadata": {},
   "outputs": [],
   "source": [
    "tokenizer.train(files=file_path, \n",
    "                vocab_size=50257,\n",
    "                min_frequency=2, \n",
    "                special_tokens=[\"<s>\",\n",
    "                                \"<pad>\",\n",
    "                                \"</s>\",\n",
    "                                \"<unk>\",\n",
    "                                \"<mask>\",\n",
    "                                ])"
   ]
  },
  {
   "cell_type": "code",
   "execution_count": 98,
   "id": "3e7aa40b-b277-4189-bfe8-fe8d57b40ab7",
   "metadata": {},
   "outputs": [],
   "source": [
    "# Save tokenizer\n",
    "output_dir = \"cpp_tokenizer/\"\n",
    "if not os.path.exists(output_dir):\n",
    "    os.makedirs(output_dir)\n",
    "\n",
    "tokenizer.save_model(\"cpp_tokenizer/\", \"cpp_tokenizer\")\n",
    "tokenizer.save('cpp_tokenizer/config.json')"
   ]
  },
  {
   "cell_type": "code",
   "execution_count": 99,
   "id": "2ad2084b-c109-4df7-a1dc-e6e3cc6b6d3d",
   "metadata": {},
   "outputs": [],
   "source": [
    "# load tokenizer\n",
    "tokenizer = RobertaTokenizer(vocab_file=\"cpp_tokenizer/cpp_tokenizer-vocab.json\",\n",
    "                             merges_file=\"cpp_tokenizer/cpp_tokenizer-merges.txt\")"
   ]
  },
  {
   "cell_type": "code",
   "execution_count": 101,
   "id": "464d03e3-f621-42fc-8976-ea028d513624",
   "metadata": {},
   "outputs": [],
   "source": [
    "# example = \"\"\"class LinearLayer():\n",
    "#     def __init__(self, input_size, output_size):\n",
    "#         self.weight = torch.randn(input_size, output_size)\n",
    "#         self.bias = torch.zeros(output_size)\n",
    "\n",
    "#     def __call__(self, x):\n",
    "#         return x @ self.weights + self.bias\n",
    "#     \"\"\"\n",
    "# tokenizer.tokenize(example)"
   ]
  },
  {
   "cell_type": "code",
   "execution_count": null,
   "id": "f4bd4e39-4f23-40fb-9d5f-5e4e017de00c",
   "metadata": {},
   "outputs": [],
   "source": []
  }
 ],
 "metadata": {
  "kernelspec": {
   "display_name": "Python 3 (ipykernel)",
   "language": "python",
   "name": "python3"
  },
  "language_info": {
   "codemirror_mode": {
    "name": "ipython",
    "version": 3
   },
   "file_extension": ".py",
   "mimetype": "text/x-python",
   "name": "python",
   "nbconvert_exporter": "python",
   "pygments_lexer": "ipython3",
   "version": "3.9.19"
  }
 },
 "nbformat": 4,
 "nbformat_minor": 5
}
