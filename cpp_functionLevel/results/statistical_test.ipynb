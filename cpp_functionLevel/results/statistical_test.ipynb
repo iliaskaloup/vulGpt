{
 "cells": [
  {
   "cell_type": "code",
   "execution_count": 1,
   "id": "86adaf5d",
   "metadata": {},
   "outputs": [],
   "source": [
    "from math import sqrt\n",
    "import matplotlib.pyplot as plt\n",
    "import numpy as np\n",
    "import os\n",
    "import pandas as pd\n",
    "from scipy.stats import wilcoxon\n",
    "import statistics\n"
   ]
  },
  {
   "cell_type": "code",
   "execution_count": 2,
   "id": "08554920-2b59-4c60-8228-2e217db53c38",
   "metadata": {},
   "outputs": [],
   "source": [
    "relative_path1 = os.path.join(\"w2v_cnn\", \"staticEmbedding\" )\n",
    "\n",
    "relative_path2 = os.path.join(\"codebert-base\", \"embeddingsExtraction\" )"
   ]
  },
  {
   "cell_type": "code",
   "execution_count": 3,
   "id": "b6372fb5-7a70-4278-a874-d037e14f8ed4",
   "metadata": {},
   "outputs": [],
   "source": [
    "var_of_interset = \"f1\""
   ]
  },
  {
   "cell_type": "code",
   "execution_count": 4,
   "id": "d81b78bf-1eff-4610-a9f2-03516b63672c",
   "metadata": {},
   "outputs": [
    {
     "data": {
      "text/html": [
       "<div>\n",
       "<style scoped>\n",
       "    .dataframe tbody tr th:only-of-type {\n",
       "        vertical-align: middle;\n",
       "    }\n",
       "\n",
       "    .dataframe tbody tr th {\n",
       "        vertical-align: top;\n",
       "    }\n",
       "\n",
       "    .dataframe thead th {\n",
       "        text-align: right;\n",
       "    }\n",
       "</style>\n",
       "<table border=\"1\" class=\"dataframe\">\n",
       "  <thead>\n",
       "    <tr style=\"text-align: right;\">\n",
       "      <th></th>\n",
       "      <th>accuracy</th>\n",
       "      <th>precision</th>\n",
       "      <th>recall</th>\n",
       "      <th>f1</th>\n",
       "      <th>f2</th>\n",
       "      <th>roc_auc</th>\n",
       "    </tr>\n",
       "  </thead>\n",
       "  <tbody>\n",
       "    <tr>\n",
       "      <th>0</th>\n",
       "      <td>0.918465</td>\n",
       "      <td>0.858696</td>\n",
       "      <td>0.79</td>\n",
       "      <td>0.822917</td>\n",
       "      <td>0.802846</td>\n",
       "      <td>0.874495</td>\n",
       "    </tr>\n",
       "  </tbody>\n",
       "</table>\n",
       "</div>"
      ],
      "text/plain": [
       "   accuracy  precision  recall        f1        f2   roc_auc\n",
       "0  0.918465   0.858696    0.79  0.822917  0.802846  0.874495"
      ]
     },
     "execution_count": 4,
     "metadata": {},
     "output_type": "execute_result"
    }
   ],
   "source": [
    "all_data1 = pd.DataFrame()\n",
    "\n",
    "# Walk through the directory and its subdirectories\n",
    "for root, dirs, files in os.walk(relative_path1):\n",
    "    if root != relative_path1:\n",
    "        for file in files:\n",
    "            # Check if the file is a CSV file\n",
    "            if file.endswith(\".csv\"):\n",
    "                # Construct the full path of the CSV file\n",
    "                file_path = os.path.join(root, file)\n",
    "                # Read the CSV file into a dataframe\n",
    "                df = pd.read_csv(file_path)\n",
    "                # Append the dataframe to the master dataframe\n",
    "                all_data1 = pd.concat([all_data1, df], ignore_index=True)\n",
    "all_data1"
   ]
  },
  {
   "cell_type": "code",
   "execution_count": 5,
   "id": "62d01572-5490-43ab-863d-be2ec34e9b9e",
   "metadata": {},
   "outputs": [
    {
     "name": "stdout",
     "output_type": "stream",
     "text": [
      "       accuracy  precision  recall        f1        f2   roc_auc\n",
      "count  1.000000   1.000000    1.00  1.000000  1.000000  1.000000\n",
      "mean   0.918465   0.858696    0.79  0.822917  0.802846  0.874495\n",
      "std         NaN        NaN     NaN       NaN       NaN       NaN\n",
      "min    0.918465   0.858696    0.79  0.822917  0.802846  0.874495\n",
      "25%    0.918465   0.858696    0.79  0.822917  0.802846  0.874495\n",
      "50%    0.918465   0.858696    0.79  0.822917  0.802846  0.874495\n",
      "75%    0.918465   0.858696    0.79  0.822917  0.802846  0.874495\n",
      "max    0.918465   0.858696    0.79  0.822917  0.802846  0.874495\n"
     ]
    }
   ],
   "source": [
    "print(all_data1.describe())\n",
    "#print(\"avg   \", round(sum(all_data1[var_of_interset].values.tolist())/len(all_data1[var_of_interset].values.tolist()), 6))"
   ]
  },
  {
   "cell_type": "code",
   "execution_count": 6,
   "id": "adf1866a-c38c-4f42-91ce-f8a2d1392846",
   "metadata": {},
   "outputs": [
    {
     "data": {
      "text/html": [
       "<div>\n",
       "<style scoped>\n",
       "    .dataframe tbody tr th:only-of-type {\n",
       "        vertical-align: middle;\n",
       "    }\n",
       "\n",
       "    .dataframe tbody tr th {\n",
       "        vertical-align: top;\n",
       "    }\n",
       "\n",
       "    .dataframe thead th {\n",
       "        text-align: right;\n",
       "    }\n",
       "</style>\n",
       "<table border=\"1\" class=\"dataframe\">\n",
       "  <thead>\n",
       "    <tr style=\"text-align: right;\">\n",
       "      <th></th>\n",
       "      <th>accuracy</th>\n",
       "      <th>precision</th>\n",
       "      <th>recall</th>\n",
       "      <th>f1</th>\n",
       "      <th>f2</th>\n",
       "      <th>roc_auc</th>\n",
       "    </tr>\n",
       "  </thead>\n",
       "  <tbody>\n",
       "    <tr>\n",
       "      <th>0</th>\n",
       "      <td>0.93765</td>\n",
       "      <td>0.920455</td>\n",
       "      <td>0.81</td>\n",
       "      <td>0.861702</td>\n",
       "      <td>0.829918</td>\n",
       "      <td>0.893959</td>\n",
       "    </tr>\n",
       "  </tbody>\n",
       "</table>\n",
       "</div>"
      ],
      "text/plain": [
       "   accuracy  precision  recall        f1        f2   roc_auc\n",
       "0   0.93765   0.920455    0.81  0.861702  0.829918  0.893959"
      ]
     },
     "execution_count": 6,
     "metadata": {},
     "output_type": "execute_result"
    }
   ],
   "source": [
    "all_data2 = pd.DataFrame()\n",
    "\n",
    "# Walk through the directory and its subdirectories\n",
    "for root, dirs, files in os.walk(relative_path2):\n",
    "    if root != relative_path2:\n",
    "        for file in files:\n",
    "            # Check if the file is a CSV file\n",
    "            if file.endswith(\".csv\"):\n",
    "                # Construct the full path of the CSV file\n",
    "                file_path = os.path.join(root, file)\n",
    "                # Read the CSV file into a dataframe\n",
    "                df = pd.read_csv(file_path)\n",
    "                # Append the dataframe to the master dataframe\n",
    "                all_data2 = pd.concat([all_data2, df], ignore_index=True)\n",
    "all_data2"
   ]
  },
  {
   "cell_type": "code",
   "execution_count": 7,
   "id": "03febba2-1bb5-4fb3-b5b0-0d65049d527e",
   "metadata": {},
   "outputs": [
    {
     "name": "stdout",
     "output_type": "stream",
     "text": [
      "       accuracy  precision  recall        f1        f2   roc_auc\n",
      "count   1.00000   1.000000    1.00  1.000000  1.000000  1.000000\n",
      "mean    0.93765   0.920455    0.81  0.861702  0.829918  0.893959\n",
      "std         NaN        NaN     NaN       NaN       NaN       NaN\n",
      "min     0.93765   0.920455    0.81  0.861702  0.829918  0.893959\n",
      "25%     0.93765   0.920455    0.81  0.861702  0.829918  0.893959\n",
      "50%     0.93765   0.920455    0.81  0.861702  0.829918  0.893959\n",
      "75%     0.93765   0.920455    0.81  0.861702  0.829918  0.893959\n",
      "max     0.93765   0.920455    0.81  0.861702  0.829918  0.893959\n"
     ]
    }
   ],
   "source": [
    "print(all_data2.describe())"
   ]
  },
  {
   "cell_type": "code",
   "execution_count": 8,
   "id": "951d2a4e-6e2d-448d-8659-aa20ef42ad44",
   "metadata": {},
   "outputs": [
    {
     "data": {
      "text/plain": [
       "WilcoxonResult(statistic=0.0, pvalue=1.0)"
      ]
     },
     "execution_count": 8,
     "metadata": {},
     "output_type": "execute_result"
    }
   ],
   "source": [
    "# conduct the Wilcoxon-Signed Rank Test: pvalue < 0.05 --> statistically significant differentiation of the results\n",
    "wilcoxon(all_data1[var_of_interset].values.tolist(), all_data2[var_of_interset].values.tolist())"
   ]
  }
 ],
 "metadata": {
  "kernelspec": {
   "display_name": "Python 3 (ipykernel)",
   "language": "python",
   "name": "python3"
  },
  "language_info": {
   "codemirror_mode": {
    "name": "ipython",
    "version": 3
   },
   "file_extension": ".py",
   "mimetype": "text/x-python",
   "name": "python",
   "nbconvert_exporter": "python",
   "pygments_lexer": "ipython3",
   "version": "3.9.19"
  }
 },
 "nbformat": 4,
 "nbformat_minor": 5
}
