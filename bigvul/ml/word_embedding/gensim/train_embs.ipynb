{
 "cells": [
  {
   "cell_type": "code",
   "execution_count": 1,
   "id": "e04d90b5-a45a-4fe6-899a-cbf84466f28a",
   "metadata": {},
   "outputs": [],
   "source": [
    "import csv, os\n",
    "from gensim.models import Word2Vec\n",
    "from gensim.models import FastText\n",
    "import pandas as pd\n",
    "\n",
    "import nltk"
   ]
  },
  {
   "cell_type": "code",
   "execution_count": 2,
   "id": "5174ca7c-5fe6-42d6-9a0d-9a123fff75cf",
   "metadata": {},
   "outputs": [],
   "source": [
    "seed = 123456"
   ]
  },
  {
   "cell_type": "code",
   "execution_count": 3,
   "id": "8b2fb6ba-e17d-4849-a5d6-66724044b6f2",
   "metadata": {},
   "outputs": [],
   "source": [
    "# hyperparams\n",
    "\n",
    "dim = 100\n",
    "method = \"w2v\" # ft\n",
    "min_count = 10\n",
    "epochs = 10"
   ]
  },
  {
   "cell_type": "code",
   "execution_count": 4,
   "id": "fc443d56-a6f1-49b1-8332-a11069916098",
   "metadata": {},
   "outputs": [
    {
     "name": "stdout",
     "output_type": "stream",
     "text": [
      "    index Access Gained Attack Origin Authentication Required Availability  \\\n",
      "0   22328           NaN         Local            Not required     Complete   \n",
      "1   39415           NaN         Local            Not required          NaN   \n",
      "2   60861           NaN        Remote           Single system          NaN   \n",
      "3   84364           NaN         Local            Not required      Partial   \n",
      "4  177580           NaN        Remote            Not required     Complete   \n",
      "\n",
      "           CVE ID                                        CVE Page   CWE ID  \\\n",
      "0   CVE-2011-4621   https://www.cvedetails.com/cve/CVE-2011-4621/      NaN   \n",
      "1   CVE-2014-1738   https://www.cvedetails.com/cve/CVE-2014-1738/  CWE-264   \n",
      "2  CVE-2017-14604  https://www.cvedetails.com/cve/CVE-2017-14604/   CWE-20   \n",
      "3   CVE-2018-6560   https://www.cvedetails.com/cve/CVE-2018-6560/  CWE-436   \n",
      "4   CVE-2016-1621   https://www.cvedetails.com/cve/CVE-2016-1621/  CWE-119   \n",
      "\n",
      "  Complexity Confidentiality  ... parentID  \\\n",
      "0        Low             NaN  ...      NaN   \n",
      "1        Low        Complete  ...      NaN   \n",
      "2        Low             NaN  ...      NaN   \n",
      "3        Low         Partial  ...      NaN   \n",
      "4        Low        Complete  ...      NaN   \n",
      "\n",
      "                                               patch   project  \\\n",
      "0  @@ -641,17 +641,18 @@ static void sched_irq_ti...     linux   \n",
      "1  @@ -3067,7 +3067,10 @@ static int raw_cmd_copy...     linux   \n",
      "2  @@ -30,6 +30,7 @@\\n #include \"nautilus-global-...  nautilus   \n",
      "3  @@ -173,10 +173,11 @@\\n \\n typedef struct Flat...   flatpak   \n",
      "4  @@ -13,18 +13,18 @@\\n\\n #include <string.h>\\n ...   Android   \n",
      "\n",
      "                                       project_after  \\\n",
      "0           f26f9aff6aaf67e9a430d16c266f91b13a5bff64   \n",
      "1           2145e15e0557a01b9195d1c7199a1b92cb9be81f   \n",
      "2           1630f53481f445ada0a455e9979236d31a8d3bb0   \n",
      "3           52346bf187b5a7f1c0fe9075b328b7ad6abe78f6   \n",
      "4  https://android.googlesource.com/platform/exte...   \n",
      "\n",
      "                                      project_before target  \\\n",
      "0           0f004f5a696a9434b7214d0d3cbd0525ee77d428      0   \n",
      "1           ef87dbe7614341c2e7bfe8d32fcb7028cc97442c      0   \n",
      "2           cc6910ff6511a5a2939cf36a49ca81fb62005382      0   \n",
      "3           3c9d3a316ea298c25e8756ab4f256b08879aff36      0   \n",
      "4  https://android.googlesource.com/platform/exte...      0   \n",
      "\n",
      "                                   vul_func_with_fix  \\\n",
      "0  void account_system_time(struct task_struct *p...   \n",
      "1  static void redo_fd_request(void)\\n{\\n\\tint dr...   \n",
      "2  cancel_filesystem_info_for_file (NautilusDirec...   \n",
      "3  buffer_write (ProxySide *side,\\n              ...   \n",
      "4                      virtual ~Trans16x16DCT() {}\\n   \n",
      "\n",
      "                                      processed_func flaw_line flaw_line_index  \n",
      "0  void account_system_time(struct task_struct *p...       NaN             NaN  \n",
      "1  static void redo_fd_request(void)\\n{\\n\\tint dr...       NaN             NaN  \n",
      "2  cancel_filesystem_info_for_file (NautilusDirec...       NaN             NaN  \n",
      "3  buffer_write (ProxySide *side,\\n              ...       NaN             NaN  \n",
      "4                      virtual ~Trans16x16DCT() {}\\n       NaN             NaN  \n",
      "\n",
      "[5 rows x 39 columns]\n",
      "150908\n"
     ]
    }
   ],
   "source": [
    "# read embddings corpus corpus_embeddings\n",
    "root_path = os.path.join('..', '..', '..')\n",
    "\n",
    "dataset = pd.read_csv(os.path.join(root_path, 'data', 'train.csv'))\n",
    "\n",
    "data = dataset.sample(frac=1, random_state=seed).reset_index(drop=True)\n",
    "print(data.head())\n",
    "print(len(data))"
   ]
  },
  {
   "cell_type": "code",
   "execution_count": 5,
   "id": "cda35da6-ffd6-4428-b2b8-ba03869d34b7",
   "metadata": {},
   "outputs": [
    {
     "data": {
      "text/html": [
       "<div>\n",
       "<style scoped>\n",
       "    .dataframe tbody tr th:only-of-type {\n",
       "        vertical-align: middle;\n",
       "    }\n",
       "\n",
       "    .dataframe tbody tr th {\n",
       "        vertical-align: top;\n",
       "    }\n",
       "\n",
       "    .dataframe thead th {\n",
       "        text-align: right;\n",
       "    }\n",
       "</style>\n",
       "<table border=\"1\" class=\"dataframe\">\n",
       "  <thead>\n",
       "    <tr style=\"text-align: right;\">\n",
       "      <th></th>\n",
       "      <th>processed_func</th>\n",
       "    </tr>\n",
       "  </thead>\n",
       "  <tbody>\n",
       "    <tr>\n",
       "      <th>0</th>\n",
       "      <td>void account_system_time(struct task_struct *p...</td>\n",
       "    </tr>\n",
       "    <tr>\n",
       "      <th>1</th>\n",
       "      <td>static void redo_fd_request(void)\\n{\\n\\tint dr...</td>\n",
       "    </tr>\n",
       "    <tr>\n",
       "      <th>2</th>\n",
       "      <td>cancel_filesystem_info_for_file (NautilusDirec...</td>\n",
       "    </tr>\n",
       "    <tr>\n",
       "      <th>3</th>\n",
       "      <td>buffer_write (ProxySide *side,\\n              ...</td>\n",
       "    </tr>\n",
       "    <tr>\n",
       "      <th>4</th>\n",
       "      <td>virtual ~Trans16x16DCT() {}\\n</td>\n",
       "    </tr>\n",
       "  </tbody>\n",
       "</table>\n",
       "</div>"
      ],
      "text/plain": [
       "                                      processed_func\n",
       "0  void account_system_time(struct task_struct *p...\n",
       "1  static void redo_fd_request(void)\\n{\\n\\tint dr...\n",
       "2  cancel_filesystem_info_for_file (NautilusDirec...\n",
       "3  buffer_write (ProxySide *side,\\n              ...\n",
       "4                      virtual ~Trans16x16DCT() {}\\n"
      ]
     },
     "execution_count": 5,
     "metadata": {},
     "output_type": "execute_result"
    }
   ],
   "source": [
    "data = data[[\"processed_func\"]]\n",
    "data.head()"
   ]
  },
  {
   "cell_type": "code",
   "execution_count": 6,
   "id": "989aa530-ade2-4900-82f4-03ac0dd6ef1d",
   "metadata": {},
   "outputs": [],
   "source": [
    "data = data.dropna(subset=[\"processed_func\"])"
   ]
  },
  {
   "cell_type": "code",
   "execution_count": 7,
   "id": "a60cb3b5-4015-474e-929b-977f6a77604e",
   "metadata": {},
   "outputs": [
    {
     "name": "stdout",
     "output_type": "stream",
     "text": [
      "Maximum number of words: 15441\n"
     ]
    }
   ],
   "source": [
    "word_counts = data[\"processed_func\"].apply(lambda x: len(x.split()))\n",
    "max_length = word_counts.max()\n",
    "print(\"Maximum number of words:\", max_length)"
   ]
  },
  {
   "cell_type": "code",
   "execution_count": 8,
   "id": "1ed62c6c-ddd7-4a56-80ee-4456077d770b",
   "metadata": {},
   "outputs": [
    {
     "data": {
      "text/html": [
       "<div>\n",
       "<style scoped>\n",
       "    .dataframe tbody tr th:only-of-type {\n",
       "        vertical-align: middle;\n",
       "    }\n",
       "\n",
       "    .dataframe tbody tr th {\n",
       "        vertical-align: top;\n",
       "    }\n",
       "\n",
       "    .dataframe thead th {\n",
       "        text-align: right;\n",
       "    }\n",
       "</style>\n",
       "<table border=\"1\" class=\"dataframe\">\n",
       "  <thead>\n",
       "    <tr style=\"text-align: right;\">\n",
       "      <th></th>\n",
       "      <th>Text</th>\n",
       "    </tr>\n",
       "  </thead>\n",
       "  <tbody>\n",
       "    <tr>\n",
       "      <th>0</th>\n",
       "      <td>void account_system_time(struct task_struct *p...</td>\n",
       "    </tr>\n",
       "    <tr>\n",
       "      <th>1</th>\n",
       "      <td>static void redo_fd_request(void)\\n{\\n\\tint dr...</td>\n",
       "    </tr>\n",
       "    <tr>\n",
       "      <th>2</th>\n",
       "      <td>cancel_filesystem_info_for_file (NautilusDirec...</td>\n",
       "    </tr>\n",
       "    <tr>\n",
       "      <th>3</th>\n",
       "      <td>buffer_write (ProxySide *side,\\n              ...</td>\n",
       "    </tr>\n",
       "    <tr>\n",
       "      <th>4</th>\n",
       "      <td>virtual ~Trans16x16DCT() {}\\n</td>\n",
       "    </tr>\n",
       "  </tbody>\n",
       "</table>\n",
       "</div>"
      ],
      "text/plain": [
       "                                                Text\n",
       "0  void account_system_time(struct task_struct *p...\n",
       "1  static void redo_fd_request(void)\\n{\\n\\tint dr...\n",
       "2  cancel_filesystem_info_for_file (NautilusDirec...\n",
       "3  buffer_write (ProxySide *side,\\n              ...\n",
       "4                      virtual ~Trans16x16DCT() {}\\n"
      ]
     },
     "execution_count": 8,
     "metadata": {},
     "output_type": "execute_result"
    }
   ],
   "source": [
    "train_data = pd.DataFrame(({'Text': data['processed_func']}))\n",
    "#data = data[0:100]\n",
    "train_data.head()"
   ]
  },
  {
   "cell_type": "code",
   "execution_count": 9,
   "id": "9ae129ad-4405-4cc3-a2dc-9a784090c782",
   "metadata": {},
   "outputs": [],
   "source": [
    "text = train_data[\"Text\"].values.tolist()"
   ]
  },
  {
   "cell_type": "code",
   "execution_count": 10,
   "id": "eb0d89aa-1f96-4588-b869-40209d8cf7d2",
   "metadata": {},
   "outputs": [],
   "source": [
    "# Write each function to the file\n",
    "file_path = os.path.join(root_path, 'data', 'tokenizer_train_data.txt')\n",
    "\n",
    "with open(file_path, \"w\", encoding=\"utf-8\") as file:\n",
    "    for function in text:\n",
    "        file.write(function + \"\\n\")"
   ]
  },
  {
   "cell_type": "code",
   "execution_count": 11,
   "id": "19f36b87-ece0-499d-8744-031c368c5b86",
   "metadata": {},
   "outputs": [],
   "source": [
    "with open(os.path.join(root_path, 'data', 'tokenizer_train_data.txt'), 'r', encoding='utf-8') as file:\n",
    "    corpus = file.read() #.lower().replace('\\n', ' ')"
   ]
  },
  {
   "cell_type": "code",
   "execution_count": 12,
   "id": "4237377e-4724-4857-a385-3a5c5fc7a727",
   "metadata": {},
   "outputs": [],
   "source": [
    "corpusList = corpus.split(\"}\\n\")"
   ]
  },
  {
   "cell_type": "code",
   "execution_count": 13,
   "id": "21e30c3d-6a27-457f-b7c8-1512c1c16f3a",
   "metadata": {},
   "outputs": [],
   "source": [
    "def dropBlank(tokens0):\n",
    "    tokens = []\n",
    "    for i in range(0, len(tokens0)):\n",
    "        temp = tokens0[i]\n",
    "        if temp != '':\n",
    "            tokens.append(temp)\n",
    "    return tokens\n",
    "\n",
    "def dropEmpty(tokens0):\n",
    "    tokens = []\n",
    "    for i in range(0, len(tokens0)):\n",
    "        temp = tokens0[i]\n",
    "        if temp != []:\n",
    "            tokens.append(temp)\n",
    "    return tokens"
   ]
  },
  {
   "cell_type": "code",
   "execution_count": 14,
   "id": "e8b8d994-2882-4cf2-92f3-a0a81e4aeda8",
   "metadata": {},
   "outputs": [],
   "source": [
    "def stringToList(string):\n",
    "    codeLinesList = []\n",
    "    for line in string.splitlines():\n",
    "        codeLinesList.append(line)\n",
    "    return codeLinesList\n",
    "\n",
    "def tokenizeLines(codeLinesList):\n",
    "    codeTokens = []\n",
    "    \n",
    "    for line in codeLinesList:\n",
    "        templineTokens = nltk.word_tokenize(line)\n",
    "        codeTokens.extend(templineTokens)\n",
    "    \n",
    "    return codeTokens"
   ]
  },
  {
   "cell_type": "code",
   "execution_count": 15,
   "id": "ac97f302-cfb5-4395-bc38-6c2af714c7fb",
   "metadata": {},
   "outputs": [],
   "source": [
    "def dataTokenization(corpus):\n",
    "    \n",
    "    allTokens = []\n",
    "    for i in range(0, len(corpus)):\n",
    "        stringLines = corpus[i]\n",
    "        \n",
    "        #convert source code from string to list of lines\n",
    "        lines = stringToList(stringLines)\n",
    "        \n",
    "        #tokenize lines to list of words\n",
    "        tokens0 = tokenizeLines(lines)\n",
    "        \n",
    "        #remove blank lines\n",
    "        tokens = dropBlank(tokens0)\n",
    "        \n",
    "        #lower case\n",
    "        for w in range(0, len(tokens)):\n",
    "            tokens[w] = tokens[w].lower()\n",
    "         \n",
    "        allTokens.append(tokens)\n",
    "        \n",
    "    return allTokens"
   ]
  },
  {
   "cell_type": "code",
   "execution_count": 16,
   "id": "4481d052-80de-4263-9818-3bb330b4ccae",
   "metadata": {},
   "outputs": [],
   "source": [
    "def embVectors(dim, epochs, min_count, method, corpusList): \n",
    "\n",
    "    data = dataTokenization(corpusList)\n",
    "    \n",
    "    data = dropEmpty(data)\n",
    "    \n",
    "    if method == \"w2v\": \n",
    "        model = Word2Vec(data, vector_size=dim, workers=4, epochs=epochs, min_count=min_count) #, window=20\n",
    "        fileEmb = method + '_embeddings.txt'\n",
    "        model.wv.save_word2vec_format(fileEmb, binary=False)\n",
    "    elif method == \"ft\":\n",
    "        model_ted = FastText(vector_size=dim, min_count=min_count)\n",
    "        model_ted.build_vocab(corpus_iterable=data)\n",
    "        model_ted.train(corpus_iterable=data, total_examples=len(data), epochs=epochs)\n",
    "        fileEmb = method + '_embeddings.txt'\n",
    "        model_ted.wv.save_word2vec_format(fileEmb, binary=False)\n",
    "    \n",
    "    return fileEmb"
   ]
  },
  {
   "cell_type": "code",
   "execution_count": 17,
   "id": "6a0b4310-02b7-4caf-afc6-7387cb28068d",
   "metadata": {},
   "outputs": [],
   "source": [
    "fileEmb = embVectors(dim, epochs, min_count, method, corpusList)"
   ]
  }
 ],
 "metadata": {
  "kernelspec": {
   "display_name": "Python 3 (ipykernel)",
   "language": "python",
   "name": "python3"
  },
  "language_info": {
   "codemirror_mode": {
    "name": "ipython",
    "version": 3
   },
   "file_extension": ".py",
   "mimetype": "text/x-python",
   "name": "python",
   "nbconvert_exporter": "python",
   "pygments_lexer": "ipython3",
   "version": "3.9.19"
  }
 },
 "nbformat": 4,
 "nbformat_minor": 5
}
