{
 "cells": [
  {
   "cell_type": "code",
   "execution_count": 1,
   "id": "3354fc77",
   "metadata": {},
   "outputs": [
    {
     "name": "stderr",
     "output_type": "stream",
     "text": [
      "C:\\Users\\iliaskaloup\\AppData\\Local\\anaconda3\\envs\\tfenv\\lib\\site-packages\\tqdm\\auto.py:21: TqdmWarning: IProgress not found. Please update jupyter and ipywidgets. See https://ipywidgets.readthedocs.io/en/stable/user_install.html\n",
      "  from .autonotebook import tqdm as notebook_tqdm\n"
     ]
    }
   ],
   "source": [
    "import seaborn as sn\n",
    "import pandas as pd\n",
    "import json, os\n",
    "\n",
    "# import torch\n",
    "# import torch.nn as nn\n",
    "# from torch.nn.utils.rnn import pad_sequence\n",
    "# from torch.utils.data import TensorDataset, DataLoader, RandomSampler, SequentialSampler\n",
    "# from torch.optim import Adam\n",
    "# from transformers import get_linear_schedule_with_warmup\n",
    "# from torch.nn.utils import clip_grad_norm_\n",
    "# from torch.nn.utils.rnn import pack_padded_sequence, pad_packed_sequence\n",
    "# from transformers import AutoTokenizer, AutoModel\n",
    "\n",
    "from transformers import AutoTokenizer, TFAutoModel, TFGPT2LMHeadModel\n",
    "from transformers import set_seed\n",
    "\n",
    "import tensorflow as tf\n",
    "from tensorflow.keras.models import Sequential\n",
    "from tensorflow.keras.layers import Dense, Activation, Dropout\n",
    "from tensorflow.keras import regularizers\n",
    "from tensorflow.keras import layers\n",
    "from tensorflow.keras.layers import LSTM, SimpleRNN\n",
    "from tensorflow.keras.layers import GRU\n",
    "from tensorflow.keras.layers import Masking\n",
    "from tensorflow.keras.layers import Embedding, MaxPool1D\n",
    "from tensorflow.keras.callbacks import CSVLogger\n",
    "from tensorflow.keras.callbacks import EarlyStopping, ModelCheckpoint\n",
    "from tensorflow.keras.models import load_model\n",
    "from tensorflow.keras import optimizers\n",
    "from tensorflow.keras.constraints import max_norm\n",
    "from tensorflow.keras.layers import Bidirectional, BatchNormalization\n",
    "from tensorflow.keras.layers import LeakyReLU\n",
    "from tensorflow.keras.initializers import glorot_uniform, RandomUniform, lecun_uniform, Constant, TruncatedNormal\n",
    "from tensorflow.keras.preprocessing.text import Tokenizer\n",
    "from tensorflow.keras.preprocessing.sequence import pad_sequences\n",
    "from tensorflow.keras.layers import Conv1D\n",
    "from tensorflow.keras.layers import MaxPooling1D, GlobalMaxPool1D, Flatten\n",
    "import tensorflow.keras.backend as K\n",
    "from tensorflow.keras.losses import CategoricalCrossentropy\n",
    "from tensorflow.keras.metrics import CategoricalAccuracy\n",
    "from tensorflow.keras.utils import to_categorical\n",
    "from tensorflow.keras.layers import Input, Dense, GlobalMaxPool1D\n",
    "from keras_preprocessing.text import tokenizer_from_json\n",
    "from tensorflow.keras.regularizers import l1_l2\n",
    "from tensorflow.keras.layers import Layer\n",
    "\n",
    "import numpy as np\n",
    "import csv\n",
    "\n",
    "import matplotlib.pyplot as plt\n",
    "import random\n",
    "from collections import OrderedDict\n",
    "import time\n",
    "from sklearn.metrics import accuracy_score, recall_score, f1_score, precision_score, \\\n",
    "roc_auc_score, confusion_matrix, classification_report\n",
    "from sklearn.model_selection import StratifiedKFold\n",
    "import random\n",
    "\n",
    "from sklearn.metrics import classification_report\n",
    "from sklearn.model_selection import train_test_split\n",
    "\n",
    "from collections import defaultdict\n",
    "from imblearn.under_sampling import RandomUnderSampler\n",
    "\n",
    "from sklearn.utils import shuffle\n",
    "from tqdm.notebook import tqdm\n"
   ]
  },
  {
   "cell_type": "markdown",
   "id": "9dbfd651",
   "metadata": {},
   "source": [
    "Define method name and root path of the repository"
   ]
  },
  {
   "cell_type": "code",
   "execution_count": 2,
   "id": "74683969",
   "metadata": {},
   "outputs": [],
   "source": [
    "method = \"embeddingsExtraction\"\n",
    "\n",
    "root_path = os.path.join('..', '..')"
   ]
  },
  {
   "cell_type": "code",
   "execution_count": 3,
   "id": "021a956c",
   "metadata": {},
   "outputs": [],
   "source": [
    "embedding_algorithm = \"bert\" # \"bert\" # \"gpt\""
   ]
  },
  {
   "cell_type": "markdown",
   "id": "48806676",
   "metadata": {},
   "source": [
    "Define specific seeder for all experiments and processes"
   ]
  },
  {
   "cell_type": "code",
   "execution_count": 4,
   "id": "1e3172d8",
   "metadata": {},
   "outputs": [],
   "source": [
    "seed = 123\n",
    "np.random.seed(seed)\n",
    "random.seed(seed)\n",
    "#torch.manual_seed(seed)\n",
    "tf.random.set_seed(seed)\n",
    "set_seed(seed)"
   ]
  },
  {
   "cell_type": "markdown",
   "id": "16b0f01a",
   "metadata": {},
   "source": [
    "Read data and shuffle them"
   ]
  },
  {
   "cell_type": "code",
   "execution_count": 5,
   "id": "29764f33",
   "metadata": {},
   "outputs": [
    {
     "name": "stdout",
     "output_type": "stream",
     "text": [
      "                                            filename  vul  \\\n",
      "0                                          uspses.py    0   \n",
      "1                  _src_modules_json_schemas_2564.py    1   \n",
      "2                                   cs_zone_facts.py    0   \n",
      "3  _invenio_modules_oauthclient_views_client_2636.py    1   \n",
      "4                                   test_builtins.py    0   \n",
      "\n",
      "                                                func  \n",
      "0  strId$ Copyright c numId$ numId$ sqlmap develo...  \n",
      "1  strId$ strId$ strId$ strId$ strId$ strId$ strI...  \n",
      "2  ANSIBLE_METADATA strId$ strId$ strId$ strId$ s...  \n",
      "3  strId$ strId$ strId$ make_handler disconnect_h...  \n",
      "4  class SimpleTestCase @setup strId$ strId$ def ...  \n"
     ]
    }
   ],
   "source": [
    "data = pd.read_csv(os.path.join(root_path, 'data', 'dataset.csv'))\n",
    "data = data.sample(frac=1, random_state=seed).reset_index(drop=True)\n",
    "print(data.head())"
   ]
  },
  {
   "cell_type": "code",
   "execution_count": 6,
   "id": "f822c9e0-5ec0-4398-b140-7465e35af954",
   "metadata": {},
   "outputs": [],
   "source": [
    "data = data.dropna(subset=[\"func\"])"
   ]
  },
  {
   "cell_type": "code",
   "execution_count": 7,
   "id": "dbbb0cf2",
   "metadata": {},
   "outputs": [
    {
     "name": "stdout",
     "output_type": "stream",
     "text": [
      "Maximum number of words: 510\n"
     ]
    }
   ],
   "source": [
    "word_counts = data[\"func\"].apply(lambda x: len(x.split()))\n",
    "max_length = word_counts.max()\n",
    "print(\"Maximum number of words:\", max_length)"
   ]
  },
  {
   "cell_type": "code",
   "execution_count": 8,
   "id": "63804820",
   "metadata": {},
   "outputs": [
    {
     "name": "stdout",
     "output_type": "stream",
     "text": [
      "vul\n",
      "0    3168\n",
      "1     997\n",
      "Name: count, dtype: int64\n",
      "Percentage:  31.470959595959595 %\n",
      "2\n"
     ]
    }
   ],
   "source": [
    "vc = data[\"vul\"].value_counts()\n",
    "\n",
    "print(vc)\n",
    "\n",
    "print(\"Percentage: \", (vc[1] / vc[0])*100, '%')\n",
    "\n",
    "n_categories = len(vc)\n",
    "print(n_categories)"
   ]
  },
  {
   "cell_type": "code",
   "execution_count": 9,
   "id": "2405b1c4",
   "metadata": {},
   "outputs": [
    {
     "data": {
      "text/html": [
       "<div>\n",
       "<style scoped>\n",
       "    .dataframe tbody tr th:only-of-type {\n",
       "        vertical-align: middle;\n",
       "    }\n",
       "\n",
       "    .dataframe tbody tr th {\n",
       "        vertical-align: top;\n",
       "    }\n",
       "\n",
       "    .dataframe thead th {\n",
       "        text-align: right;\n",
       "    }\n",
       "</style>\n",
       "<table border=\"1\" class=\"dataframe\">\n",
       "  <thead>\n",
       "    <tr style=\"text-align: right;\">\n",
       "      <th></th>\n",
       "      <th>text</th>\n",
       "      <th>label</th>\n",
       "    </tr>\n",
       "  </thead>\n",
       "  <tbody>\n",
       "    <tr>\n",
       "      <th>0</th>\n",
       "      <td>strId$ Copyright c numId$ numId$ sqlmap develo...</td>\n",
       "      <td>0</td>\n",
       "    </tr>\n",
       "    <tr>\n",
       "      <th>1</th>\n",
       "      <td>strId$ strId$ strId$ strId$ strId$ strId$ strI...</td>\n",
       "      <td>1</td>\n",
       "    </tr>\n",
       "    <tr>\n",
       "      <th>2</th>\n",
       "      <td>ANSIBLE_METADATA strId$ strId$ strId$ strId$ s...</td>\n",
       "      <td>0</td>\n",
       "    </tr>\n",
       "    <tr>\n",
       "      <th>3</th>\n",
       "      <td>strId$ strId$ strId$ make_handler disconnect_h...</td>\n",
       "      <td>1</td>\n",
       "    </tr>\n",
       "    <tr>\n",
       "      <th>4</th>\n",
       "      <td>class SimpleTestCase @setup strId$ strId$ def ...</td>\n",
       "      <td>0</td>\n",
       "    </tr>\n",
       "  </tbody>\n",
       "</table>\n",
       "</div>"
      ],
      "text/plain": [
       "                                                text  label\n",
       "0  strId$ Copyright c numId$ numId$ sqlmap develo...      0\n",
       "1  strId$ strId$ strId$ strId$ strId$ strId$ strI...      1\n",
       "2  ANSIBLE_METADATA strId$ strId$ strId$ strId$ s...      0\n",
       "3  strId$ strId$ strId$ make_handler disconnect_h...      1\n",
       "4  class SimpleTestCase @setup strId$ strId$ def ...      0"
      ]
     },
     "execution_count": 9,
     "metadata": {},
     "output_type": "execute_result"
    }
   ],
   "source": [
    "data = pd.DataFrame(({'text': data['func'], 'label': data['vul']}))\n",
    "#data = data[0:100]\n",
    "data.head()"
   ]
  },
  {
   "cell_type": "markdown",
   "id": "69bbec25",
   "metadata": {},
   "source": [
    "Train test split with seeder"
   ]
  },
  {
   "cell_type": "code",
   "execution_count": 10,
   "id": "928f2aec",
   "metadata": {},
   "outputs": [],
   "source": [
    "val_ratio = 0.10\n",
    "\n",
    "#split to train-val-test\n",
    "# split dataset to train-test sets\n",
    "### split data into train and test (90% train, 10% test)\n",
    "shuffle_seeders = [seed, 10, 15, 20, 25, 30, 35, 40, 45, 50]\n",
    "shuffle_seeder = shuffle_seeders[0]\n",
    "\n",
    "train_data, test_data = train_test_split(data, test_size=val_ratio, random_state=shuffle_seeder, stratify=data['label'])\n",
    "# print(len(data))\n",
    "# print(len(train_data))\n",
    "# print(len(test_data))\n",
    "# print(len(test_data)+len(train_data))"
   ]
  },
  {
   "cell_type": "code",
   "execution_count": 11,
   "id": "d36c93f1",
   "metadata": {},
   "outputs": [],
   "source": [
    "train_data, val_data = train_test_split(train_data, test_size=val_ratio, random_state=shuffle_seeder, stratify=train_data['label'])"
   ]
  },
  {
   "cell_type": "markdown",
   "id": "37254222",
   "metadata": {},
   "source": [
    "Pre-processing step: Under-sampling"
   ]
  },
  {
   "cell_type": "code",
   "execution_count": 12,
   "id": "782fb4c3",
   "metadata": {},
   "outputs": [],
   "source": [
    "sampling = False\n",
    "if n_categories == 2 and sampling == True:\n",
    "    # Apply under-sampling with the specified strategy\n",
    "    class_counts = pd.Series(train_data[\"label\"]).value_counts()\n",
    "    print(\"Class distribution \", class_counts)\n",
    "\n",
    "    majority_class = class_counts.idxmax()\n",
    "    print(\"Majority class \", majority_class)\n",
    "\n",
    "    minority_class = class_counts.idxmin()\n",
    "    print(\"Minority class \", minority_class)\n",
    "\n",
    "    target_count = class_counts[class_counts.idxmin()] # int(class_counts.iloc[0] / 2) \n",
    "    print(\"Targeted number of majority class\", target_count)\n",
    "\n",
    "    # under\n",
    "    sampling_strategy = {majority_class: target_count}        \n",
    "    rus = RandomUnderSampler(random_state=seed, sampling_strategy=sampling_strategy)\n",
    "\n",
    "    x_train_resampled, y_train_resampled = rus.fit_resample(np.array(train_data[\"text\"]).reshape(-1, 1), train_data[\"label\"]) \n",
    "    print(\"Class distribution after augmentation\", pd.Series(y_train_resampled).value_counts())\n",
    "\n",
    "\n",
    "    # Shuffle the resampled data while preserving the correspondence between features and labels\n",
    "    x_train_resampled, y_train_resampled = shuffle(x_train_resampled, y_train_resampled, random_state=seed)\n",
    "\n",
    "    # rename\n",
    "    X_train = x_train_resampled\n",
    "    Y_train = y_train_resampled\n",
    "\n",
    "    X_train = pd.Series(X_train.reshape(-1))\n",
    "\n",
    "else:\n",
    "    X_train = train_data[\"text\"]\n",
    "    Y_train = train_data[\"label\"]"
   ]
  },
  {
   "cell_type": "markdown",
   "id": "86325363",
   "metadata": {},
   "source": [
    "Choose transformer model"
   ]
  },
  {
   "cell_type": "code",
   "execution_count": 13,
   "id": "8cb1bc81",
   "metadata": {},
   "outputs": [],
   "source": [
    "# microsoft/codebert-base-mlm # microsoft/codebert-base"
   ]
  },
  {
   "cell_type": "code",
   "execution_count": 14,
   "id": "772f881d",
   "metadata": {},
   "outputs": [],
   "source": [
    "# # PYTORCH\n",
    "# if embedding_algorithm == \"bert\":\n",
    "#     model_variation = \"microsoft/codebert-base-mlm\"\n",
    "#     tokenizer = AutoTokenizer.from_pretrained(model_variation, do_lower_case=True) #Tokenizer\n",
    "#     #bert-base-uncased #bert-base #albert-base-v2 # roberta-base # distilbert-base-uncased #distilbert-base \n",
    "#     # Define New tokens for string and numerical i.e., strId$ and numId$\n",
    "#     new_tokens = [\"strId$\", \"numId$\"]\n",
    "#     for new_token in new_tokens:\n",
    "#         if new_token not in tokenizer.get_vocab().keys():\n",
    "#             tokenizer.add_tokens(new_token)\n",
    "            \n",
    "#     bert = AutoModel.from_pretrained(model_variation, num_labels=n_categories)\n",
    "\n",
    "#     bert.resize_token_embeddings(len(tokenizer))\n",
    "\n",
    "#     embedding_matrix = bert.embeddings.word_embeddings.weight.detach().cpu().numpy()\n",
    "    \n",
    "#     num_words = len(embedding_matrix)\n",
    "#     print(num_words)\n",
    "#     dim = len(embedding_matrix[0])\n",
    "#     print(dim)\n",
    "    \n",
    "#     sentences = X_train.tolist()\n",
    "#     sequences = [tokenizer.encode(sente, truncation=True, add_special_tokens=False, return_tensors=\"pt\").numpy() for sente in sentences] # Tokenize the complete sentences\n",
    "\n",
    "#     lines_pad_x_train = []\n",
    "#     for seq in sequences:\n",
    "#         lines_pad_x_train.append(torch.tensor(seq[0]))\n",
    "    \n",
    "#     lines_pad_x_train = pad_sequence(lines_pad_x_train, batch_first=True, padding_value=0)\n",
    "#     max_len = lines_pad_x_train.size()[1]\n",
    "    \n",
    "    \n",
    "#     sentences = val_data[\"Input\"]\n",
    "#     sequences = [tokenizer.encode(sente, truncation=True, add_special_tokens=False, return_tensors=\"pt\").numpy() for sente in sentences]\n",
    "#     lines_pad_x_val = []\n",
    "#     for seq in sequences:\n",
    "#         lines_pad_x_val.append(torch.tensor(seq[0]))\n",
    "#     lines_pad_x_val = pad_sequence(lines_pad_x_val, batch_first=True, padding_value=0)\n",
    "    \n",
    "#     sentences = test_data[\"Input\"]\n",
    "#     sequences = [tokenizer.encode(sente, truncation=True, add_special_tokens=False, return_tensors=\"pt\").numpy() for sente in sentences]\n",
    "#     lines_pad_x_test = []\n",
    "#     for seq in sequences:\n",
    "#         lines_pad_x_test.append(torch.tensor(seq[0]))\n",
    "#     lines_pad_x_test = pad_sequence(lines_pad_x_test, batch_first=True, padding_value=0)\n",
    "    "
   ]
  },
  {
   "cell_type": "code",
   "execution_count": 15,
   "id": "3eac4a82",
   "metadata": {},
   "outputs": [],
   "source": [
    "def getMaxLen(X):\n",
    "\n",
    "    # Code for identifying max length of the data samples after tokenization using transformer tokenizer\n",
    "    \n",
    "    max_length = 0\n",
    "    # Iterate over each sample in your dataset\n",
    "    for i, input_ids in enumerate(X['input_ids']):\n",
    "        # Calculate the length of the tokenized sequence for the current sample\n",
    "        length = tf.math.reduce_sum(tf.cast(input_ids != 1, tf.int32)).numpy()\n",
    "        # Update max_length and max_row if the current length is greater\n",
    "        if length > max_length:\n",
    "            max_length = length\n",
    "            max_row = i\n",
    "\n",
    "    print(\"Max length of tokenized data:\", max_length)\n",
    "    print(\"Row with max length:\", max_row)\n",
    "\n",
    "    #X['input_ids'] = np.delete(X['input_ids'], max_row, axis=0)\n",
    "    \n",
    "    return max_length"
   ]
  },
  {
   "cell_type": "code",
   "execution_count": 16,
   "id": "a38906f0",
   "metadata": {},
   "outputs": [
    {
     "name": "stderr",
     "output_type": "stream",
     "text": [
      "All model checkpoint layers were used when initializing TFRobertaModel.\n",
      "\n",
      "All the layers of TFRobertaModel were initialized from the model checkpoint at microsoft/codebert-base.\n",
      "If your task is similar to the task the model of the checkpoint was trained on, you can already use TFRobertaModel for predictions without further training.\n"
     ]
    },
    {
     "name": "stdout",
     "output_type": "stream",
     "text": [
      "50265\n",
      "768\n",
      "512\n"
     ]
    }
   ],
   "source": [
    "# TENSORFLOW\n",
    "if embedding_algorithm == \"bert\":\n",
    "    model_variation = \"microsoft/codebert-base\"\n",
    "    tokenizer = AutoTokenizer.from_pretrained(model_variation, do_lower_case=True) #Tokenizer\n",
    "    #bert-base-uncased #bert-base #albert-base-v2 # roberta-base # distilbert-base-uncased #distilbert-base \n",
    "    # Define New tokens for string and numerical i.e., strId$ and numId$\n",
    "#     new_tokens = [\"strId$\", \"numId$\"]\n",
    "#     for new_token in new_tokens:\n",
    "#         if new_token not in tokenizer.get_vocab().keys():\n",
    "#             tokenizer.add_tokens(new_token)\n",
    "            \n",
    "    bert = TFAutoModel.from_pretrained(model_variation)\n",
    "\n",
    "    #bert.resize_token_embeddings(len(tokenizer))\n",
    "    \n",
    "    bert_embeddings = bert.get_input_embeddings()\n",
    "    embedding_matrix = bert_embeddings.weights[0].numpy()\n",
    "    \n",
    "    num_words = embedding_matrix.shape[0]\n",
    "    print(num_words)\n",
    "    dim = embedding_matrix.shape[1]\n",
    "    print(dim)\n",
    "    \n",
    "    sentences = X_train.tolist()\n",
    "    sequences = [tokenizer(sente, truncation=True, add_special_tokens=False, return_tensors=\"tf\") for sente in sentences] # Tokenize the complete sentences\n",
    "\n",
    "    def padSequences(sequences, max_len):\n",
    "        lines_pad = []\n",
    "        for sequence in sequences:\n",
    "            seq = sequence['input_ids'].numpy()[0]\n",
    "            if len(seq) < max_len:\n",
    "                for i in range(len(seq), max_len):\n",
    "                    seq = np.append(seq, 0)\n",
    "            lines_pad.append(seq)\n",
    "        return lines_pad\n",
    "    \n",
    "    def get_max_len(sequences):\n",
    "        max_len = 0\n",
    "\n",
    "        for seq in sequences:\n",
    "            if len(seq['input_ids'].numpy()[0]) > max_len:\n",
    "                max_len = len(seq['input_ids'].numpy()[0])\n",
    "\n",
    "        return max_len\n",
    "    \n",
    "    max_len = get_max_len(sequences)\n",
    "    print(max_len)\n",
    "    \n",
    "    lines_pad_x_train = padSequences(sequences, max_len)\n",
    "    lines_pad_x_train = [arr.tolist() for arr in lines_pad_x_train]\n",
    "    lines_pad_x_train = np.array(lines_pad_x_train)\n",
    "        \n",
    "    val_sentences = val_data[\"text\"].tolist()\n",
    "    val_sequences = [tokenizer(sente, truncation=True, add_special_tokens=False, return_tensors=\"tf\") for sente in val_sentences]\n",
    "    \n",
    "    lines_pad_x_val = padSequences(val_sequences, max_len)\n",
    "    lines_pad_x_val = [arr.tolist() for arr in lines_pad_x_val]\n",
    "    lines_pad_x_val = np.array(lines_pad_x_val)\n",
    "    \n",
    "    test_sentences = test_data[\"text\"].tolist()\n",
    "    test_sequences = [tokenizer(sente, truncation=True, add_special_tokens=False, return_tensors=\"tf\") for sente in test_sentences]\n",
    "    \n",
    "    lines_pad_x_test = padSequences(test_sequences, max_len)\n",
    "    lines_pad_x_test = [arr.tolist() for arr in lines_pad_x_test]\n",
    "    lines_pad_x_test = np.array(lines_pad_x_test)\n",
    "    "
   ]
  },
  {
   "cell_type": "code",
   "execution_count": 17,
   "id": "4b9cb2e3",
   "metadata": {
    "scrolled": true
   },
   "outputs": [],
   "source": [
    "# # PYTORCH\n",
    "# if embedding_algorithm == \"gpt\":\n",
    "#     model_variation = \"gpt2\" # \"microsoft/CodeGPT-small-py-adaptedGPT2\" # \"gpt2\" # \"microsoft/CodeGPT-small-py\" \n",
    "#     tokenizer = AutoTokenizer.from_pretrained(model_variation, do_lower_case=True) #Tokenizer\n",
    "#     # Define New tokens for string and numerical i.e., strId$ and numId$\n",
    "#     new_tokens = [\"strId$\", \"numId$\"]\n",
    "#     for new_token in new_tokens:\n",
    "#         if new_token not in tokenizer.get_vocab().keys():\n",
    "#             tokenizer.add_tokens(new_token)\n",
    "            \n",
    "#     gpt = AutoModel.from_pretrained(model_variation, num_labels=n_categories)\n",
    "\n",
    "#     gpt.resize_token_embeddings(len(tokenizer))\n",
    "\n",
    "#     embedding_matrix = gpt.wte.weight.detach().cpu().numpy()\n",
    "    \n",
    "#     num_words = len(embedding_matrix)\n",
    "#     print(num_words)\n",
    "#     dim = len(embedding_matrix[0])\n",
    "#     print(dim)\n",
    "    \n",
    "#     sentences = X_train.tolist()\n",
    "#     sequences = [tokenizer.encode(sente, truncation=True, add_special_tokens=False, return_tensors=\"pt\").numpy() for sente in sentences] # Tokenize the complete sentences\n",
    "\n",
    "#     lines_pad_x_train = []\n",
    "#     for seq in sequences:\n",
    "#         lines_pad_x_train.append(torch.tensor(seq[0]))\n",
    "    \n",
    "#     lines_pad_x_train = pad_sequence(lines_pad_x_train, batch_first=True, padding_value=0)\n",
    "#     max_len = lines_pad_x_train.size()[1]\n",
    "    \n",
    "    \n",
    "#     sentences = val_data[\"Input\"]\n",
    "#     sequences = [tokenizer.encode(sente, truncation=True, add_special_tokens=False, return_tensors=\"pt\").numpy() for sente in sentences]\n",
    "#     lines_pad_x_val = []\n",
    "#     for seq in sequences:\n",
    "#         lines_pad_x_val.append(torch.tensor(seq[0]))\n",
    "#     lines_pad_x_val = pad_sequence(lines_pad_x_val, batch_first=True, padding_value=0)\n",
    "    \n",
    "#     sentences = test_data[\"Input\"]\n",
    "#     sequences = [tokenizer.encode(sente, truncation=True, add_special_tokens=False, return_tensors=\"pt\").numpy() for sente in sentences]\n",
    "#     lines_pad_x_test = []\n",
    "#     for seq in sequences:\n",
    "#         lines_pad_x_test.append(torch.tensor(seq[0]))\n",
    "#     lines_pad_x_test = pad_sequence(lines_pad_x_test, batch_first=True, padding_value=0)\n",
    "    "
   ]
  },
  {
   "cell_type": "code",
   "execution_count": 18,
   "id": "38e03248",
   "metadata": {},
   "outputs": [],
   "source": [
    "# TENSORFLOW\n",
    "if embedding_algorithm == \"gpt\":\n",
    "    model_variation = \"gpt2\" # \"microsoft/CodeGPT-small-py-adaptedGPT2\" # \"gpt2\" # \"microsoft/CodeGPT-small-py\"\n",
    "    tokenizer = AutoTokenizer.from_pretrained(model_variation, do_lower_case=True) #Tokenizer\n",
    "    #bert-base-uncased #bert-base #albert-base-v2 # roberta-base # distilbert-base-uncased #distilbert-base \n",
    "    # Define New tokens for string and numerical i.e., strId$ and numId$\n",
    "#     new_tokens = [\"strId$\", \"numId$\"]\n",
    "#     for new_token in new_tokens:\n",
    "#         if new_token not in tokenizer.get_vocab().keys():\n",
    "#             tokenizer.add_tokens(new_token)\n",
    "            \n",
    "    gpt = TFGPT2LMHeadModel.from_pretrained(model_variation, num_labels=n_categories)\n",
    "\n",
    "    #gpt.resize_token_embeddings(len(tokenizer))\n",
    "    \n",
    "    embedding_matrix = gpt.transformer.wte.weight\n",
    "    \n",
    "    num_words = embedding_matrix.shape[0]\n",
    "    print(num_words)\n",
    "    dim = embedding_matrix.shape[1]\n",
    "    print(dim)\n",
    "    \n",
    "#     X = tokenizer(\n",
    "#         text=X_train.tolist(),\n",
    "#         add_special_tokens=False,\n",
    "#         max_length=512,\n",
    "#         truncation=True,\n",
    "#         padding=True,\n",
    "#         return_tensors='tf',\n",
    "#         return_token_type_ids=False,\n",
    "#         return_attention_mask=True,\n",
    "#         verbose=True\n",
    "#     )\n",
    "\n",
    "#     max_len = getMaxLen(X)\n",
    "    max_len = 512\n",
    "    \n",
    "    sentences = X_train.tolist()\n",
    "    sequences = [tokenizer.encode(sente, truncation=True, add_special_tokens=False, return_tensors=\"tf\").numpy() for sente in sentences] # Tokenize the complete sentences\n",
    "\n",
    "    lines_pad_x_train = []\n",
    "    for seq in sequences:\n",
    "        lines_pad_x_train.append(seq[0])\n",
    "    \n",
    "    lines_pad_x_train = pad_sequences(lines_pad_x_train, padding = 'post', maxlen = max_len)    \n",
    "    \n",
    "    sentences = val_data[\"text\"].tolist()\n",
    "    sequences = [tokenizer.encode(sente, truncation=True, add_special_tokens=False, return_tensors=\"tf\").numpy() for sente in sentences]\n",
    "    lines_pad_x_val = []\n",
    "    for seq in sequences:\n",
    "        lines_pad_x_val.append(seq[0])\n",
    "    lines_pad_x_val = pad_sequences(lines_pad_x_val, padding = 'post', maxlen = max_len)\n",
    "    \n",
    "    sentences = test_data[\"text\"].tolist()\n",
    "    sequences = [tokenizer.encode(sente, truncation=True, add_special_tokens=False, return_tensors=\"tf\").numpy() for sente in sentences]\n",
    "    lines_pad_x_test = []\n",
    "    for seq in sequences:\n",
    "        lines_pad_x_test.append(seq[0])\n",
    "    lines_pad_x_test = pad_sequences(lines_pad_x_test, padding = 'post', maxlen = max_len)\n",
    "\n",
    "    embedding_matrix = embedding_matrix.numpy()"
   ]
  },
  {
   "cell_type": "code",
   "execution_count": 19,
   "id": "48e3f62c",
   "metadata": {},
   "outputs": [
    {
     "data": {
      "text/plain": [
       "(3373, 375, 417)"
      ]
     },
     "execution_count": 19,
     "metadata": {},
     "output_type": "execute_result"
    }
   ],
   "source": [
    "Y_train = np.array(Y_train)\n",
    "Y_val = np.array(val_data[\"label\"])\n",
    "Y_test = np.array(test_data[\"label\"])\n",
    "len(Y_train), len(Y_val), len(Y_test)"
   ]
  },
  {
   "cell_type": "code",
   "execution_count": 20,
   "id": "ac833046",
   "metadata": {},
   "outputs": [],
   "source": [
    "# Evaluation functions\n",
    "def recall_metric(y_true, y_pred):\n",
    "        true_positives = K.sum(K.round(K.clip(y_true * y_pred, 0, 1)))\n",
    "        possible_positives = K.sum(K.round(K.clip(y_true, 0, 1)))\n",
    "        recall = (true_positives + K.epsilon()) / (possible_positives + K.epsilon())\n",
    "        return recall\n",
    "\n",
    "def precision_metric(y_true, y_pred):\n",
    "        true_positives = K.sum(K.round(K.clip(y_true * y_pred, 0, 1)))\n",
    "        predicted_positives = K.sum(K.round(K.clip(y_pred, 0, 1)))\n",
    "        precision = (true_positives + K.epsilon()) / (predicted_positives + K.epsilon())\n",
    "        return precision\n",
    "\n",
    "def f1_metric(y_true, y_pred):\n",
    "\n",
    "    prec = precision_metric(y_true, y_pred)\n",
    "    rec = recall_metric(y_true, y_pred)\n",
    "    f1 = 2*((prec*rec)/(prec+rec+K.epsilon()))\n",
    "    return f1\n",
    "\n",
    "def f2_metric(y_true, y_pred):\n",
    "\n",
    "    prec = precision_metric(y_true, y_pred)\n",
    "    rec = recall_metric(y_true, y_pred)\n",
    "    f2 = 5*((prec*rec)/(4*prec+rec+K.epsilon()))\n",
    "    return f2"
   ]
  },
  {
   "cell_type": "markdown",
   "id": "386ae338",
   "metadata": {},
   "source": [
    "Select Hyper-parameters"
   ]
  },
  {
   "cell_type": "code",
   "execution_count": 21,
   "id": "cb7c6c62",
   "metadata": {},
   "outputs": [],
   "source": [
    "n_epochs = 100\n",
    "patience = 10\n",
    "batch_size = 64\n",
    "lr = 0.001\n",
    "optimizer = optimizers.Adam(learning_rate=lr)"
   ]
  },
  {
   "cell_type": "code",
   "execution_count": 22,
   "id": "4d61734b",
   "metadata": {},
   "outputs": [],
   "source": [
    "# Deep Learning Models - Classifiers\n",
    "def buildLstm(max_len, top_words, dim, seed, embedding_matrix, optimizer, n_categories):\n",
    "    model=Sequential()\n",
    "    kernel_initializer = glorot_uniform() # glorot_uniform, RandomUniform, lecun_uniform, Constant, TruncatedNormal\n",
    "    model.add(Embedding(input_dim=top_words, output_dim=dim, input_length=None, weights=[embedding_matrix], mask_zero=True, trainable=False))\n",
    "    model.add(LSTM(500, activation='tanh', dropout=0.2, return_sequences=True, stateful=False, kernel_constraint=max_norm(3), bias_constraint=max_norm(3), kernel_initializer=kernel_initializer)) # , recurrent_constraint=max_norm(3)\n",
    "    model.add(LSTM(100, activation='tanh', dropout=0.1, return_sequences=True, stateful=False, kernel_initializer=kernel_initializer))\n",
    "    model.add(LSTM(200, activation='tanh', dropout=0.1, stateful=False, kernel_initializer=kernel_initializer))\n",
    "    model.add(BatchNormalization()) # default momentum=0.99\n",
    "    #model.add(Dropout(0.2))\n",
    "    \n",
    "    #optimizer = optimizers.SGD(lr=learning_rate, decay=0.1, momentum=0.2, nesterov=True)\n",
    "    #optimizer = optimizers.RMSprop(lr=learning_rate, rho=0.9, epsilon=1e-8, decay=0.0)\n",
    "    #optimizer = optimizers.Adagrad(lr=learning_rate, epsilon=None, decay=0.004)\n",
    "    #optimizer = optimizers.Nadam(lr=learning_rate, beta_1=0.9, beta_2=0.999, epsilon=None, schedule_decay=0.004)\n",
    "    \n",
    "    if n_categories > 2:\n",
    "        model.add(Dense(units = n_categories, activation = 'softmax', kernel_initializer=kernel_initializer))\n",
    "        model.compile(loss=\"categorical_crossentropy\", optimizer=optimizer)\n",
    "    else:\n",
    "        model.add(Dense(units = 1, activation = 'sigmoid', kernel_initializer=kernel_initializer))\n",
    "        model.compile(loss=\"binary_crossentropy\", optimizer=optimizer, metrics=[f1_metric])\n",
    "    return model\n",
    "\n",
    "def buildGru(max_len, top_words, dim, seed, embedding_matrix, optimizer, n_categories):\n",
    "    model=Sequential()\n",
    "    kernel_initializer = glorot_uniform() # glorot_uniform, RandomUniform, lecun_uniform, Constant, TruncatedNormal\n",
    "    model.add(Embedding(input_dim=top_words, output_dim=dim, input_length=None, weights=[embedding_matrix], mask_zero=True, trainable=False))\n",
    "    model.add(GRU(500, activation='tanh', dropout=0.2, return_sequences=True, stateful=False, kernel_constraint=max_norm(3), bias_constraint=max_norm(3), kernel_initializer=kernel_initializer)) # , recurrent_constraint=max_norm(3)\n",
    "    model.add(GRU(100, activation='tanh', dropout=0.1, return_sequences=True, stateful=False, kernel_initializer=kernel_initializer))\n",
    "    model.add(GRU(200, activation='tanh', dropout=0.1, stateful=False, kernel_initializer=kernel_initializer))\n",
    "    model.add(BatchNormalization()) # default momentum=0.99\n",
    "    #model.add(Dropout(0.2))\n",
    "    \n",
    "    #optimizer = optimizers.SGD(lr=learning_rate, decay=0.1, momentum=0.2, nesterov=True)\n",
    "    #optimizer = optimizers.RMSprop(lr=learning_rate, rho=0.9, epsilon=1e-8, decay=0.0)\n",
    "    #optimizer = optimizers.Adagrad(lr=learning_rate, epsilon=None, decay=0.004)\n",
    "    #optimizer = optimizers.Nadam(lr=learning_rate, beta_1=0.9, beta_2=0.999, epsilon=None, schedule_decay=0.004)\n",
    "    \n",
    "    if n_categories > 2:\n",
    "        model.add(Dense(units = n_categories, activation = 'softmax', kernel_initializer=kernel_initializer))\n",
    "        model.compile(loss=\"categorical_crossentropy\", optimizer=optimizer)\n",
    "    else:\n",
    "        model.add(Dense(units = 1, activation = 'sigmoid', kernel_initializer=kernel_initializer))\n",
    "        model.compile(loss=\"binary_crossentropy\", optimizer=optimizer, metrics=[f1_metric]) \n",
    "    return model\n",
    "\n",
    "def buildBiLstm(max_len, top_words, dim, seed, embedding_matrix, optimizer, n_categories):\n",
    "    model=Sequential()\n",
    "    kernel_initializer = glorot_uniform() # glorot_uniform, RandomUniform, lecun_uniform, Constant, TruncatedNormal\n",
    "    model.add(Embedding(input_dim=top_words, output_dim=dim, input_length=None, weights=[embedding_matrix], mask_zero=True, trainable=False))\n",
    "    model.add(Bidirectional(LSTM(500, activation='tanh', dropout=0.2, return_sequences=True, stateful=False, kernel_constraint=max_norm(3), bias_constraint=max_norm(3), kernel_initializer=kernel_initializer))) # , recurrent_constraint=max_norm(3)\n",
    "    model.add(Bidirectional(LSTM(100, activation='tanh', dropout=0.1, return_sequences=True, stateful=False, kernel_initializer=kernel_initializer)))\n",
    "    model.add(Bidirectional(LSTM(200, activation='tanh', dropout=0.1, stateful=False, kernel_initializer=kernel_initializer)))\n",
    "    model.add(BatchNormalization()) # default momentum=0.99\n",
    "    #model.add(Dropout(0.2))\n",
    "    \n",
    "    #optimizer = optimizers.SGD(lr=learning_rate, decay=0.1, momentum=0.2, nesterov=True)\n",
    "    #optimizer = optimizers.RMSprop(lr=learning_rate, rho=0.9, epsilon=1e-8, decay=0.0)\n",
    "    #optimizer = optimizers.Adagrad(lr=learning_rate, epsilon=None, decay=0.004)\n",
    "    #optimizer = optimizers.Nadam(lr=learning_rate, beta_1=0.9, beta_2=0.999, epsilon=None, schedule_decay=0.004)\n",
    "    \n",
    "    if n_categories > 2:\n",
    "        model.add(Dense(units = n_categories, activation = 'softmax', kernel_initializer=kernel_initializer))\n",
    "        model.compile(loss=\"categorical_crossentropy\", optimizer=optimizer)\n",
    "    else:\n",
    "        model.add(Dense(units = 1, activation = 'sigmoid', kernel_initializer=kernel_initializer))\n",
    "        model.compile(loss=\"binary_crossentropy\", optimizer=optimizer, metrics=[f1_metric]) \n",
    "    return model\n",
    "\n",
    "def buildBiGru(max_len, top_words, dim, seed, embedding_matrix, optimizer, n_categories):\n",
    "    model=Sequential()\n",
    "    kernel_initializer = glorot_uniform() # glorot_uniform, RandomUniform, lecun_uniform, Constant, TruncatedNormal\n",
    "    model.add(Embedding(input_dim=top_words, output_dim=dim, input_length=None, weights=[embedding_matrix], mask_zero=True, trainable=False))\n",
    "    model.add(Bidirectional(GRU(500, activation='tanh', dropout=0.2, return_sequences=True, stateful=False, kernel_constraint=max_norm(3), bias_constraint=max_norm(3), kernel_initializer=kernel_initializer))) # , recurrent_constraint=max_norm(3)\n",
    "    model.add(Bidirectional(GRU(100, activation='tanh', dropout=0.1, return_sequences=True, stateful=False, kernel_initializer=kernel_initializer)))\n",
    "    model.add(Bidirectional(GRU(200, activation='tanh', dropout=0.1, stateful=False, kernel_initializer=kernel_initializer)))\n",
    "    model.add(BatchNormalization()) # default momentum=0.99\n",
    "    #model.add(Dropout(0.2))\n",
    "    \n",
    "    #optimizer = optimizers.SGD(lr=learning_rate, decay=0.1, momentum=0.2, nesterov=True)\n",
    "    #optimizer = optimizers.RMSprop(lr=learning_rate, rho=0.9, epsilon=1e-8, decay=0.0)\n",
    "    #optimizer = optimizers.Adagrad(lr=learning_rate, epsilon=None, decay=0.004)\n",
    "    #optimizer = optimizers.Nadam(lr=learning_rate, beta_1=0.9, beta_2=0.999, epsilon=None, schedule_decay=0.004)\n",
    "    \n",
    "    if n_categories > 2:\n",
    "        model.add(Dense(units = n_categories, activation = 'softmax', kernel_initializer=kernel_initializer))\n",
    "        model.compile(loss=\"categorical_crossentropy\", optimizer=optimizer)\n",
    "    else:\n",
    "        model.add(Dense(units = 1, activation = 'sigmoid', kernel_initializer=kernel_initializer))\n",
    "        model.compile(loss=\"binary_crossentropy\", optimizer=optimizer, metrics=[f1_metric])  \n",
    "    return model\n",
    "\n",
    "def buildCnn(max_len, top_words, dim, seed, embedding_matrix, optimizer, n_categories):\n",
    "    cnn_model = Sequential()\n",
    "    cnn_model.add(Embedding(top_words, dim, input_length=None, weights=[embedding_matrix], mask_zero=True, trainable=False))\n",
    "    cnn_model.add(Conv1D(filters = 128, kernel_size = 5, activation = 'relu'))\n",
    "    '''cnn_model.add(MaxPooling1D(pool_size = 5))\n",
    "    cnn_model.add(Conv1D(filters = 128, kernel_size = 5, activation = 'relu'))\n",
    "    cnn_model.add(MaxPooling1D(pool_size = 5))\n",
    "    cnn_model.add(Conv1D(filters = 128, kernel_size = 5, activation = 'relu'))'''\n",
    "    cnn_model.add(GlobalMaxPool1D())\n",
    "    #cnn_model.add(Dense(units = 128, activation = 'relu'))\n",
    "    \n",
    "    if n_categories > 2:\n",
    "        cnn_model.add(Dense(units = n_categories, activation = 'softmax'))\n",
    "        cnn_model.compile(loss=\"categorical_crossentropy\", optimizer=optimizer)\n",
    "    else:\n",
    "        cnn_model.add(Dense(units = 1, activation = 'sigmoid'))\n",
    "        cnn_model.compile(loss=\"binary_crossentropy\", optimizer=optimizer, metrics=[f1_metric])\n",
    "    return cnn_model\n"
   ]
  },
  {
   "cell_type": "code",
   "execution_count": 23,
   "id": "3d7f1620",
   "metadata": {},
   "outputs": [
    {
     "name": "stdout",
     "output_type": "stream",
     "text": [
      "Training...\n",
      "Model: \"sequential\"\n",
      "_________________________________________________________________\n",
      " Layer (type)                Output Shape              Param #   \n",
      "=================================================================\n",
      " embedding (Embedding)       (None, None, 768)         38603520  \n",
      "                                                                 \n",
      " conv1d (Conv1D)             (None, None, 128)         491648    \n",
      "                                                                 \n",
      " global_max_pooling1d (Globa  (None, 128)              0         \n",
      " lMaxPooling1D)                                                  \n",
      "                                                                 \n",
      " dense (Dense)               (None, 1)                 129       \n",
      "                                                                 \n",
      "=================================================================\n",
      "Total params: 39,095,297\n",
      "Trainable params: 491,777\n",
      "Non-trainable params: 38,603,520\n",
      "_________________________________________________________________\n",
      "model summary\\m None\n",
      "Epoch 1/100\n",
      "49/53 [==========================>...] - ETA: 0s - loss: 0.3907 - f1_metric: 0.4483\n",
      "Epoch 1: val_f1_metric improved from -inf to 0.76486, saving model to best_model.h5\n",
      "53/53 [==============================] - 6s 26ms/step - loss: 0.3838 - f1_metric: 0.4672 - val_loss: 0.2663 - val_f1_metric: 0.7649\n",
      "Epoch 2/100\n",
      "47/53 [=========================>....] - ETA: 0s - loss: 0.2169 - f1_metric: 0.8044\n",
      "Epoch 2: val_f1_metric improved from 0.76486 to 0.79357, saving model to best_model.h5\n",
      "53/53 [==============================] - 1s 19ms/step - loss: 0.2121 - f1_metric: 0.8137 - val_loss: 0.2010 - val_f1_metric: 0.7936\n",
      "Epoch 3/100\n",
      "48/53 [==========================>...] - ETA: 0s - loss: 0.1329 - f1_metric: 0.9228\n",
      "Epoch 3: val_f1_metric improved from 0.79357 to 0.85281, saving model to best_model.h5\n",
      "53/53 [==============================] - 1s 19ms/step - loss: 0.1308 - f1_metric: 0.9278 - val_loss: 0.1736 - val_f1_metric: 0.8528\n",
      "Epoch 4/100\n",
      "48/53 [==========================>...] - ETA: 0s - loss: 0.0865 - f1_metric: 0.9714\n",
      "Epoch 4: val_f1_metric improved from 0.85281 to 0.86151, saving model to best_model.h5\n",
      "53/53 [==============================] - 1s 18ms/step - loss: 0.0851 - f1_metric: 0.9723 - val_loss: 0.1662 - val_f1_metric: 0.8615\n",
      "Epoch 5/100\n",
      "50/53 [===========================>..] - ETA: 0s - loss: 0.0617 - f1_metric: 0.9816\n",
      "Epoch 5: val_f1_metric did not improve from 0.86151\n",
      "53/53 [==============================] - 0s 9ms/step - loss: 0.0607 - f1_metric: 0.9821 - val_loss: 0.1714 - val_f1_metric: 0.8589\n",
      "Epoch 6/100\n",
      "50/53 [===========================>..] - ETA: 0s - loss: 0.0490 - f1_metric: 0.9857\n",
      "Epoch 6: val_f1_metric improved from 0.86151 to 0.87007, saving model to best_model.h5\n",
      "53/53 [==============================] - 1s 18ms/step - loss: 0.0487 - f1_metric: 0.9854 - val_loss: 0.1443 - val_f1_metric: 0.8701\n",
      "Epoch 7/100\n",
      "47/53 [=========================>....] - ETA: 0s - loss: 0.0367 - f1_metric: 0.9869\n",
      "Epoch 7: val_f1_metric did not improve from 0.87007\n",
      "53/53 [==============================] - 0s 9ms/step - loss: 0.0350 - f1_metric: 0.9884 - val_loss: 0.1656 - val_f1_metric: 0.8432\n",
      "Epoch 8/100\n",
      "53/53 [==============================] - ETA: 0s - loss: 0.0256 - f1_metric: 0.9898\n",
      "Epoch 8: val_f1_metric did not improve from 0.87007\n",
      "53/53 [==============================] - 0s 9ms/step - loss: 0.0256 - f1_metric: 0.9898 - val_loss: 0.1598 - val_f1_metric: 0.8500\n",
      "Epoch 9/100\n",
      "50/53 [===========================>..] - ETA: 0s - loss: 0.0228 - f1_metric: 0.9909\n",
      "Epoch 9: val_f1_metric did not improve from 0.87007\n",
      "53/53 [==============================] - 1s 10ms/step - loss: 0.0222 - f1_metric: 0.9914 - val_loss: 0.1720 - val_f1_metric: 0.8432\n",
      "Epoch 10/100\n",
      "47/53 [=========================>....] - ETA: 0s - loss: 0.0220 - f1_metric: 0.9911\n",
      "Epoch 10: val_f1_metric did not improve from 0.87007\n",
      "53/53 [==============================] - 0s 9ms/step - loss: 0.0205 - f1_metric: 0.9921 - val_loss: 0.1670 - val_f1_metric: 0.8432\n",
      "Epoch 11/100\n",
      "49/53 [==========================>...] - ETA: 0s - loss: 0.0199 - f1_metric: 0.9914\n",
      "Epoch 11: val_f1_metric did not improve from 0.87007\n",
      "53/53 [==============================] - 0s 9ms/step - loss: 0.0190 - f1_metric: 0.9921 - val_loss: 0.1574 - val_f1_metric: 0.8432\n",
      "Epoch 12/100\n",
      "47/53 [=========================>....] - ETA: 0s - loss: 0.0191 - f1_metric: 0.9921\n",
      "Epoch 12: val_f1_metric did not improve from 0.87007\n",
      "53/53 [==============================] - 0s 9ms/step - loss: 0.0177 - f1_metric: 0.9930 - val_loss: 0.1492 - val_f1_metric: 0.8580\n",
      "Epoch 13/100\n",
      "50/53 [===========================>..] - ETA: 0s - loss: 0.0166 - f1_metric: 0.9931\n",
      "Epoch 13: val_f1_metric did not improve from 0.87007\n",
      "53/53 [==============================] - 0s 9ms/step - loss: 0.0160 - f1_metric: 0.9935 - val_loss: 0.1490 - val_f1_metric: 0.8484\n",
      "Epoch 14/100\n",
      "49/53 [==========================>...] - ETA: 0s - loss: 0.0160 - f1_metric: 0.9922\n",
      "Epoch 14: val_f1_metric did not improve from 0.87007\n",
      "53/53 [==============================] - 0s 9ms/step - loss: 0.0152 - f1_metric: 0.9928 - val_loss: 0.1558 - val_f1_metric: 0.8516\n",
      "Epoch 15/100\n",
      "51/53 [===========================>..] - ETA: 0s - loss: 0.0151 - f1_metric: 0.9932\n",
      "Epoch 15: val_f1_metric did not improve from 0.87007\n",
      "53/53 [==============================] - 1s 10ms/step - loss: 0.0147 - f1_metric: 0.9935 - val_loss: 0.1613 - val_f1_metric: 0.8430\n",
      "Epoch 16/100\n",
      "47/53 [=========================>....] - ETA: 0s - loss: 0.0155 - f1_metric: 0.9935\n",
      "Epoch 16: val_f1_metric did not improve from 0.87007\n",
      "53/53 [==============================] - 0s 9ms/step - loss: 0.0143 - f1_metric: 0.9943 - val_loss: 0.1670 - val_f1_metric: 0.8500\n",
      "Epoch 16: early stopping\n",
      "Training is completed after 14970\n"
     ]
    }
   ],
   "source": [
    "print(\"Training...\")\n",
    "milli_sec1 = int(round(time.time() * 1000))\n",
    "\n",
    "userModel = \"cnn\"\n",
    "\n",
    "if userModel == \"cnn\":\n",
    "    myModel = buildCnn(max_len, num_words, dim, seed, embedding_matrix, optimizer, n_categories) \n",
    "elif userModel == \"lstm\":\n",
    "    myModel = buildLstm(max_len, num_words, dim, seed, embedding_matrix, optimizer, n_categories)\n",
    "elif userModel == \"bilstm\":\n",
    "    myModel = buildBiLstm(max_len, num_words, dim, seed, embedding_matrix, optimizer, n_categories)\n",
    "elif userModel == \"gru\":\n",
    "    myModel = buildGru(max_len, num_words, dim, seed, embedding_matrix, optimizer, n_categories)\n",
    "elif userModel == \"bigru\":\n",
    "    myModel = buildBiGru(max_len, num_words, dim, seed, embedding_matrix, optimizer, n_categories)\n",
    "    \n",
    "print(\"model summary\\m\", myModel.summary())\n",
    "\n",
    "csv_logger = CSVLogger('log.csv', append=True, separator=',')\n",
    "es = EarlyStopping(monitor='val_f1_metric', mode='max', verbose=1, patience=patience)\n",
    "mc = ModelCheckpoint('best_model.h5', monitor='val_f1_metric', mode='max', verbose=1, save_best_only=True)\n",
    "\n",
    "history = myModel.fit(lines_pad_x_train, Y_train, validation_data=(lines_pad_x_val, Y_val), epochs = n_epochs, batch_size = batch_size, shuffle=False, verbose=1, callbacks=[csv_logger,es,mc]) #, class_weight=class_weights\n",
    "\n",
    "milli_sec2 = int(round(time.time() * 1000))\n",
    "print(\"Training is completed after\", milli_sec2-milli_sec1)\n"
   ]
  },
  {
   "cell_type": "markdown",
   "id": "3cd68d04-85ff-4b71-9f71-0e97d866cb34",
   "metadata": {},
   "source": [
    "Load best model"
   ]
  },
  {
   "cell_type": "code",
   "execution_count": 24,
   "id": "8d60b11d-068e-4695-9fca-16f0d33e321a",
   "metadata": {},
   "outputs": [],
   "source": [
    "#model = load_model('best_model.h5')\n",
    "myModel.load_weights(\"best_model.h5\")"
   ]
  },
  {
   "cell_type": "code",
   "execution_count": 34,
   "id": "ed13585f-ac04-433d-98e7-822d355b4a36",
   "metadata": {},
   "outputs": [
    {
     "name": "stdout",
     "output_type": "stream",
     "text": [
      "12/12 [==============================] - 0s 18ms/step\n"
     ]
    },
    {
     "data": {
      "text/plain": [
       "array([0, 0, 0, 0, 0, 0, 0, 0, 0, 0, 0, 0, 0, 0, 0, 0, 0, 0, 0, 0, 0, 0,\n",
       "       0, 0, 0, 0, 0, 0, 0, 0, 0, 0, 0, 0, 0, 0, 0, 0, 0, 0, 0, 0, 0, 0,\n",
       "       0, 0, 0, 0, 0, 0, 0, 0, 0, 0, 0, 0, 0, 0, 0, 0, 0, 0, 0, 0, 0, 0,\n",
       "       0, 0, 0, 0, 0, 0, 0, 0, 0, 0, 0, 0, 0, 0, 0, 0, 0, 0, 0, 0, 0, 0,\n",
       "       0, 0, 0, 0, 0, 0, 0, 0, 0, 0, 0, 0, 0, 0, 0, 0, 0, 0, 0, 0, 0, 0,\n",
       "       0, 0, 0, 0, 0, 0, 0, 0, 0, 0, 0, 0, 0, 0, 0, 0, 0, 0, 0, 0, 0, 0,\n",
       "       0, 0, 0, 0, 0, 0, 0, 0, 0, 0, 0, 0, 0, 0, 0, 0, 0, 0, 0, 0, 0, 0,\n",
       "       0, 0, 0, 0, 0, 0, 0, 0, 0, 0, 0, 0, 0, 0, 0, 0, 0, 0, 0, 0, 0, 0,\n",
       "       0, 0, 0, 0, 0, 0, 0, 0, 0, 0, 0, 0, 0, 0, 0, 0, 0, 0, 0, 0, 0, 0,\n",
       "       0, 0, 0, 0, 0, 0, 0, 0, 0, 0, 0, 0, 0, 0, 0, 0, 0, 0, 0, 0, 0, 0,\n",
       "       0, 0, 0, 0, 0, 0, 0, 0, 0, 0, 0, 0, 0, 0, 0, 0, 0, 0, 0, 0, 0, 0,\n",
       "       0, 0, 0, 0, 0, 0, 0, 0, 0, 0, 0, 0, 0, 0, 0, 0, 0, 0, 0, 0, 0, 0,\n",
       "       0, 0, 0, 0, 0, 0, 0, 0, 0, 0, 0, 0, 0, 0, 0, 0, 0, 0, 0, 0, 0, 0,\n",
       "       0, 0, 0, 0, 0, 0, 0, 0, 0, 0, 0, 0, 0, 0, 0, 0, 0, 0, 0, 0, 0, 0,\n",
       "       0, 0, 0, 0, 0, 0, 0, 0, 0, 0, 0, 0, 0, 0, 0, 0, 0, 0, 0, 0, 0, 0,\n",
       "       0, 0, 0, 0, 0, 0, 0, 0, 0, 0, 0, 0, 0, 0, 0, 0, 0, 0, 0, 0, 0, 0,\n",
       "       0, 0, 0, 0, 0, 0, 0, 0, 0, 0, 0, 0, 0, 0, 0, 0, 0, 0, 0, 0, 0, 0,\n",
       "       0], dtype=int64)"
      ]
     },
     "execution_count": 34,
     "metadata": {},
     "output_type": "execute_result"
    }
   ],
   "source": [
    "np.argmax((myModel.predict(lines_pad_x_val) > 0.5).astype(\"int32\"), axis=1)"
   ]
  },
  {
   "cell_type": "markdown",
   "id": "63e2ac4f-5f62-413a-b54f-97c0b2312941",
   "metadata": {},
   "source": [
    "Classification report on validation set"
   ]
  },
  {
   "cell_type": "code",
   "execution_count": 36,
   "id": "cdd0205c-3010-4c74-93cb-7bfcf31153e8",
   "metadata": {},
   "outputs": [
    {
     "name": "stdout",
     "output_type": "stream",
     "text": [
      "12/12 [==============================] - 0s 11ms/step\n"
     ]
    },
    {
     "ename": "AttributeError",
     "evalue": "'str' object has no attribute 'astype'",
     "output_type": "error",
     "traceback": [
      "\u001b[1;31m---------------------------------------------------------------------------\u001b[0m",
      "\u001b[1;31mAttributeError\u001b[0m                            Traceback (most recent call last)",
      "Cell \u001b[1;32mIn[36], line 1\u001b[0m\n\u001b[1;32m----> 1\u001b[0m \u001b[38;5;28mprint\u001b[39m(\u001b[43mclassification_report\u001b[49m\u001b[43m(\u001b[49m\u001b[43mY_val\u001b[49m\u001b[43m,\u001b[49m\u001b[43m \u001b[49m\u001b[43mmyModel\u001b[49m\u001b[38;5;241;43m.\u001b[39;49m\u001b[43mpredict\u001b[49m\u001b[43m(\u001b[49m\u001b[43mlines_pad_x_val\u001b[49m\u001b[43m)\u001b[49m\u001b[43m \u001b[49m\u001b[38;5;241;43m>\u001b[39;49m\u001b[43m \u001b[49m\u001b[38;5;241;43m0.5\u001b[39;49m\u001b[43m)\u001b[49m\u001b[38;5;241;43m.\u001b[39;49m\u001b[43mastype\u001b[49m(\u001b[38;5;124m\"\u001b[39m\u001b[38;5;124mint32\u001b[39m\u001b[38;5;124m\"\u001b[39m), axis\u001b[38;5;241m=\u001b[39m\u001b[38;5;241m1\u001b[39m)\n",
      "\u001b[1;31mAttributeError\u001b[0m: 'str' object has no attribute 'astype'"
     ]
    }
   ],
   "source": [
    "print(classification_report(Y_val, (myModel.predict(lines_pad_x_val) > 0.5).astype(\"int32\")))"
   ]
  },
  {
   "cell_type": "markdown",
   "id": "631cd13d-ce0a-4135-91d1-333a82099219",
   "metadata": {},
   "source": [
    "Prediction and Evaluation on testing set"
   ]
  },
  {
   "cell_type": "code",
   "execution_count": 26,
   "id": "ebc1635a",
   "metadata": {},
   "outputs": [
    {
     "name": "stdout",
     "output_type": "stream",
     "text": [
      "14/14 [==============================] - 0s 2ms/step\n"
     ]
    },
    {
     "name": "stderr",
     "output_type": "stream",
     "text": [
      "C:\\Users\\iliaskaloup\\AppData\\Local\\anaconda3\\envs\\tfenv\\lib\\site-packages\\sklearn\\metrics\\_classification.py:1469: UndefinedMetricWarning: Precision is ill-defined and being set to 0.0 due to no predicted samples. Use `zero_division` parameter to control this behavior.\n",
      "  _warn_prf(average, modifier, msg_start, len(result))\n",
      "C:\\Users\\iliaskaloup\\AppData\\Local\\Temp\\ipykernel_21024\\1958754213.py:17: RuntimeWarning: invalid value encountered in scalar divide\n",
      "  f2=5*precision*recall / (4*precision+recall)\n"
     ]
    },
    {
     "name": "stdout",
     "output_type": "stream",
     "text": [
      "TP= 0\n",
      "TN= 317\n",
      "FP= 0\n",
      "FN= 100\n",
      "Accuracy:76.02%\n",
      "Precision:0.00%\n",
      "Recall:0.00%\n",
      "F1 score:0.00%\n",
      "Roc_Auc score:50.00%\n",
      "F2 score:nan%\n",
      "              precision    recall  f1-score   support\n",
      "\n",
      "           0       0.76      1.00      0.86       317\n",
      "           1       0.00      0.00      0.00       100\n",
      "\n",
      "    accuracy                           0.76       417\n",
      "   macro avg       0.38      0.50      0.43       417\n",
      "weighted avg       0.58      0.76      0.66       417\n",
      "\n"
     ]
    },
    {
     "name": "stderr",
     "output_type": "stream",
     "text": [
      "C:\\Users\\iliaskaloup\\AppData\\Local\\anaconda3\\envs\\tfenv\\lib\\site-packages\\sklearn\\metrics\\_classification.py:1469: UndefinedMetricWarning: Precision and F-score are ill-defined and being set to 0.0 in labels with no predicted samples. Use `zero_division` parameter to control this behavior.\n",
      "  _warn_prf(average, modifier, msg_start, len(result))\n",
      "C:\\Users\\iliaskaloup\\AppData\\Local\\anaconda3\\envs\\tfenv\\lib\\site-packages\\sklearn\\metrics\\_classification.py:1469: UndefinedMetricWarning: Precision and F-score are ill-defined and being set to 0.0 in labels with no predicted samples. Use `zero_division` parameter to control this behavior.\n",
      "  _warn_prf(average, modifier, msg_start, len(result))\n",
      "C:\\Users\\iliaskaloup\\AppData\\Local\\anaconda3\\envs\\tfenv\\lib\\site-packages\\sklearn\\metrics\\_classification.py:1469: UndefinedMetricWarning: Precision and F-score are ill-defined and being set to 0.0 in labels with no predicted samples. Use `zero_division` parameter to control this behavior.\n",
      "  _warn_prf(average, modifier, msg_start, len(result))\n"
     ]
    },
    {
     "data": {
      "image/png": "[encoded data removed]",
      "text/plain": [
       "<Figure size 640x480 with 2 Axes>"
      ]
     },
     "metadata": {},
     "output_type": "display_data"
    }
   ],
   "source": [
    "#scores = myModel.evaluate(lines_pad_x_test, Y_test, verbose=0)\n",
    "#predictions = myModel.predict_classes(X_test, verbose=0)\n",
    "predScores = myModel.predict(lines_pad_x_test)\n",
    "predictions = (predScores > 0.5).astype(\"int32\")\n",
    "predicted_labels = np.argmax(predictions, axis=1)\n",
    "\n",
    "accuracy=accuracy_score(Y_test, predicted_labels)\n",
    "if n_categories > 2:\n",
    "    precision=precision_score(Y_test, predicted_labels, average='macro')\n",
    "    recall=recall_score(Y_test, predicted_labels, average='macro')\n",
    "    f1=f1_score(Y_test, predicted_labels, average='macro')\n",
    "else:\n",
    "    precision=precision_score(Y_test, predicted_labels)\n",
    "    recall=recall_score(Y_test, predicted_labels)\n",
    "    f1=f1_score(Y_test, predicted_labels)\n",
    "    roc_auc=roc_auc_score(Y_test, predicted_labels)\n",
    "f2=5*precision*recall / (4*precision+recall)\n",
    "\n",
    "cm = confusion_matrix(Y_test, predicted_labels)\n",
    "#print(cm)\n",
    "sn.heatmap(cm, annot=True)\n",
    "tn, fp, fn, tp = cm.ravel()\n",
    "\n",
    "print(\"TP=\",tp)\n",
    "print(\"TN=\",tn)\n",
    "print(\"FP=\",fp)\n",
    "print(\"FN=\",fn)\n",
    "\n",
    "acc = ((tp+tn)/(tp+tn+fp+fn))\n",
    "\n",
    "print(\"Accuracy:%.2f%%\"%(acc*100))\n",
    "print(\"Precision:%.2f%%\"%(precision*100))\n",
    "print(\"Recall:%.2f%%\"%(recall*100))\n",
    "print(\"F1 score:%.2f%%\"%(f1*100))\n",
    "print(\"Roc_Auc score:%.2f%%\"%(roc_auc*100))\n",
    "print(\"F2 score:%.2f%%\"%(f2*100))\n",
    "print(classification_report(Y_test, predicted_labels))"
   ]
  },
  {
   "cell_type": "markdown",
   "id": "b1fb23c2",
   "metadata": {},
   "source": [
    "Export classification report"
   ]
  },
  {
   "cell_type": "code",
   "execution_count": 27,
   "id": "2d395ee4",
   "metadata": {},
   "outputs": [],
   "source": [
    "# Create the path\n",
    "path = os.path.join(root_path, 'results', model_variation.split(\"/\")[-1], method, str(shuffle_seeder))\n",
    "\n",
    "# Create directory if it doesn't exist\n",
    "os.makedirs(path, exist_ok=True)\n",
    "\n",
    "# Define the CSV file path\n",
    "csv_file_path = os.path.join(path, f\"{shuffle_seeder}.csv\")\n",
    "\n",
    "# Write data to CSV\n",
    "data = {\n",
    "    \"accuracy\": accuracy,\n",
    "    \"precision\": precision,\n",
    "    \"recall\": recall,\n",
    "    \"f1\": f1,\n",
    "    \"f2\": f2,\n",
    "    \"roc_auc\": roc_auc\n",
    "}\n",
    "\n",
    "# Write to CSV\n",
    "with open(csv_file_path, \"w\", newline=\"\") as csvfile:\n",
    "    writer = csv.DictWriter(csvfile, fieldnames=data.keys())\n",
    "    writer.writeheader()\n",
    "    writer.writerow(data)\n"
   ]
  },
  {
   "cell_type": "markdown",
   "id": "e1707ba6",
   "metadata": {},
   "source": [
    "Compute the average values of the classication metrics considering the results for all different seeders"
   ]
  },
  {
   "cell_type": "code",
   "execution_count": 28,
   "id": "d1912105",
   "metadata": {},
   "outputs": [
    {
     "name": "stdout",
     "output_type": "stream",
     "text": [
      "{'accuracy': 0.7601918465227818, 'precision': 0.0, 'recall': 0.0, 'f1': 0.0, 'f2': nan, 'roc_auc': 0.5}\n"
     ]
    }
   ],
   "source": [
    "# Define a dictionary to store cumulative sum of metrics\n",
    "cumulative_metrics = defaultdict(float)\n",
    "count = 0  # Counter to keep track of number of CSV files\n",
    "\n",
    "# Iterate over all CSV files in the results folder\n",
    "results_folder = os.path.join(root_path, \"results\", model_variation.split(\"/\")[-1], method, str(shuffle_seeder))\n",
    "for filename in os.listdir(results_folder):\n",
    "    if filename.endswith(\".csv\"):\n",
    "        csv_file_path = os.path.join(results_folder, filename)\n",
    "        with open(csv_file_path, \"r\", newline=\"\") as csvfile:\n",
    "            reader = csv.DictReader(csvfile)\n",
    "            for row in reader:\n",
    "                for metric, value in row.items():\n",
    "                    cumulative_metrics[metric] += float(value)\n",
    "        count += 1\n",
    "        \n",
    "# Compute average values\n",
    "average_metrics = {metric: total / count for metric, total in cumulative_metrics.items()}\n",
    "\n",
    "# Print average values \n",
    "print(average_metrics)\n",
    "\n",
    "# Define the path for the average CSV file\n",
    "avg_csv_file_path = os.path.join(root_path, \"results\", model_variation.split(\"/\")[-1], method, \"avg.csv\")\n",
    "\n",
    "# Write average metrics to CSV\n",
    "with open(avg_csv_file_path, \"w\", newline=\"\") as csvfile:\n",
    "    writer = csv.DictWriter(csvfile, fieldnames=average_metrics.keys())\n",
    "    writer.writeheader()\n",
    "    writer.writerow(average_metrics)"
   ]
  },
  {
   "cell_type": "code",
   "execution_count": null,
   "id": "14cc08f1",
   "metadata": {},
   "outputs": [],
   "source": []
  }
 ],
 "metadata": {
  "kernelspec": {
   "display_name": "Python 3 (ipykernel)",
   "language": "python",
   "name": "python3"
  },
  "language_info": {
   "codemirror_mode": {
    "name": "ipython",
    "version": 3
   },
   "file_extension": ".py",
   "mimetype": "text/x-python",
   "name": "python",
   "nbconvert_exporter": "python",
   "pygments_lexer": "ipython3",
   "version": "3.9.19"
  }
 },
 "nbformat": 4,
 "nbformat_minor": 5
}
